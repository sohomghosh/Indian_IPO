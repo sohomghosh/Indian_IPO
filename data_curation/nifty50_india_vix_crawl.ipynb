{
  "nbformat": 4,
  "nbformat_minor": 0,
  "metadata": {
    "colab": {
      "provenance": []
    },
    "kernelspec": {
      "name": "python3",
      "display_name": "Python 3"
    },
    "language_info": {
      "name": "python"
    }
  },
  "cells": [
    {
      "cell_type": "code",
      "source": [
        "!pip install lxml"
      ],
      "metadata": {
        "colab": {
          "base_uri": "https://localhost:8080/"
        },
        "id": "gt0DbNhi6jUf",
        "outputId": "58e1fd72-ba29-42ac-f3e9-21a757c0c850"
      },
      "execution_count": null,
      "outputs": [
        {
          "output_type": "stream",
          "name": "stdout",
          "text": [
            "Requirement already satisfied: lxml in /usr/local/lib/python3.10/dist-packages (4.9.4)\n"
          ]
        }
      ]
    },
    {
      "cell_type": "code",
      "source": [
        "import pandas as pd\n",
        "from urllib.request import Request, urlopen\n",
        "\n",
        "from bs4 import BeautifulSoup"
      ],
      "metadata": {
        "id": "mWH-2KJJ6piG"
      },
      "execution_count": null,
      "outputs": []
    },
    {
      "cell_type": "code",
      "source": [
        "html_content = open('India VIX Historical Rates - Investing.com India VIX Monthly.html', 'r').read()\n",
        "\n",
        "soup = BeautifulSoup(html_content, 'html.parser')\n",
        "\n",
        "\n",
        "\n",
        "try:\n",
        "    tables = pd.read_html(str(soup), flavor='lxml')\n",
        "    if not tables:\n",
        "        raise ValueError(\"No tables found in the HTML file.\")\n",
        "except Exception as e:\n",
        "    print(f\"Error: {e}\")"
      ],
      "metadata": {
        "id": "jRpr-THw8bJX"
      },
      "execution_count": null,
      "outputs": []
    },
    {
      "cell_type": "code",
      "source": [
        "tables[0].to_csv('vix_historical_monthly_Apr2008_May2024.csv', index = False)"
      ],
      "metadata": {
        "id": "ydNfX81m9Beq"
      },
      "execution_count": null,
      "outputs": []
    },
    {
      "cell_type": "code",
      "source": [
        "html_content = open('India VIX Historical Rates - Investing.com India VIX Weekly.html', 'r').read()\n",
        "\n",
        "soup = BeautifulSoup(html_content, 'html.parser')\n",
        "\n",
        "\n",
        "\n",
        "try:\n",
        "    tables = pd.read_html(str(soup), flavor='lxml')\n",
        "    if not tables:\n",
        "        raise ValueError(\"No tables found in the HTML file.\")\n",
        "except Exception as e:\n",
        "    print(f\"Error: {e}\")"
      ],
      "metadata": {
        "id": "0Tlzpxu_9CP9"
      },
      "execution_count": null,
      "outputs": []
    },
    {
      "cell_type": "code",
      "source": [
        "tables[0].to_csv('vix_historical_weekly_Apr2008_May2024.csv', index = False)"
      ],
      "metadata": {
        "id": "Wi4j2h0w91wf"
      },
      "execution_count": null,
      "outputs": []
    },
    {
      "cell_type": "code",
      "source": [
        "html_content = open('Nifty 50 Historical Rates - Investing.com India VIX Daily 2006 to 2024 March.html', 'r').read()\n",
        "\n",
        "soup = BeautifulSoup(html_content, 'html.parser')\n",
        "\n",
        "\n",
        "\n",
        "try:\n",
        "    tables = pd.read_html(str(soup), flavor='lxml')\n",
        "    if not tables:\n",
        "        raise ValueError(\"No tables found in the HTML file.\")\n",
        "except Exception as e:\n",
        "    print(f\"Error: {e}\")"
      ],
      "metadata": {
        "id": "p1wyOFHc93M6"
      },
      "execution_count": null,
      "outputs": []
    },
    {
      "cell_type": "code",
      "source": [
        "tables[0].to_csv('vix_historical_daily_Apr2008_May2024.csv', index = False)"
      ],
      "metadata": {
        "id": "FF5JIfE3-Wc0"
      },
      "execution_count": null,
      "outputs": []
    },
    {
      "cell_type": "code",
      "source": [
        "html_content = open('Nifty 50 Historical Rates - Investing.com India Monthly 2006 to 2024 March.html', 'r').read()\n",
        "\n",
        "soup = BeautifulSoup(html_content, 'html.parser')\n",
        "\n",
        "\n",
        "\n",
        "try:\n",
        "    tables = pd.read_html(str(soup), flavor='lxml')\n",
        "    if not tables:\n",
        "        raise ValueError(\"No tables found in the HTML file.\")\n",
        "except Exception as e:\n",
        "    print(f\"Error: {e}\")"
      ],
      "metadata": {
        "id": "-Rwt4THD-sRu"
      },
      "execution_count": null,
      "outputs": []
    },
    {
      "cell_type": "code",
      "source": [
        "tables[0].to_csv('nifty50_historical_monthly_Apr2008_May2024.csv', index = False)"
      ],
      "metadata": {
        "id": "T4INqb72_Hmh"
      },
      "execution_count": null,
      "outputs": []
    },
    {
      "cell_type": "code",
      "source": [
        "html_content = open('Nifty 50 Historical Rates - Investing.com India Weekly 2006 to 2024 March.html', 'r').read()\n",
        "\n",
        "soup = BeautifulSoup(html_content, 'html.parser')\n",
        "\n",
        "try:\n",
        "    tables = pd.read_html(str(soup), flavor='lxml')\n",
        "    if not tables:\n",
        "        raise ValueError(\"No tables found in the HTML file.\")\n",
        "except Exception as e:\n",
        "    print(f\"Error: {e}\")"
      ],
      "metadata": {
        "id": "3vm3feFR_JRp"
      },
      "execution_count": null,
      "outputs": []
    },
    {
      "cell_type": "code",
      "source": [
        "tables[0].to_csv('nifty50_historical_weekly_Apr2008_May2024.csv', index = False)"
      ],
      "metadata": {
        "id": "rdLoDiPKBAJn"
      },
      "execution_count": null,
      "outputs": []
    },
    {
      "cell_type": "code",
      "source": [
        "html_content = open('Nifty 50 Historical Rates - Investing.com India Daily 2006 to 2024 March.html', 'r').read()\n",
        "\n",
        "soup = BeautifulSoup(html_content, 'html.parser')\n",
        "\n",
        "try:\n",
        "    tables = pd.read_html(str(soup), flavor='lxml')\n",
        "    if not tables:\n",
        "        raise ValueError(\"No tables found in the HTML file.\")\n",
        "except Exception as e:\n",
        "    print(f\"Error: {e}\")"
      ],
      "metadata": {
        "id": "eTVKU5ONBSCA"
      },
      "execution_count": null,
      "outputs": []
    },
    {
      "cell_type": "code",
      "source": [
        "tables[0].to_csv('nifty50_historical_daily_Apr2008_May2024.csv', index = False)"
      ],
      "metadata": {
        "id": "O6yLfdw8CnND"
      },
      "execution_count": null,
      "outputs": []
    },
    {
      "cell_type": "code",
      "source": [],
      "metadata": {
        "id": "wtbkLkfdCqMP"
      },
      "execution_count": null,
      "outputs": []
    }
  ]
}
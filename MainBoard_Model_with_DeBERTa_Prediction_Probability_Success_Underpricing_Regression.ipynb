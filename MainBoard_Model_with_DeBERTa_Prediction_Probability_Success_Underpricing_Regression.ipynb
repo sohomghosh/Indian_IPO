{
  "cells": [
    {
      "cell_type": "code",
      "execution_count": null,
      "metadata": {
        "id": "pK7zs1krzCGL"
      },
      "outputs": [],
      "source": [
        "import pandas as pd\n",
        "#This is done for Success Open. We can do the same for Success High & Success Close.\n",
        "y = 'Success_Open'\n",
        "deberta_probab = pd.read_csv(\"/content/drive/MyDrive/datasets/Indian_IPO_Prediction/deberta_probabilities/deberta_probabilities_mainboard_success_open_23Oct.csv\")"
      ]
    },
    {
      "cell_type": "code",
      "execution_count": null,
      "metadata": {
        "id": "bX3HdMcoiQ3K"
      },
      "outputs": [],
      "source": [
        "import pandas as pd\n",
        "import numpy as np\n",
        "import pickle"
      ]
    },
    {
      "cell_type": "code",
      "execution_count": null,
      "metadata": {
        "id": "xAMhtgALJQML"
      },
      "outputs": [],
      "source": [
        "#text_features = ['full_text_content', 'full_text_context_with_news', 'answer_of_question_1',\t'answer_of_question_2',\t'answer_of_question_3','answer_of_question_4','answer_of_question_5','answer_of_question_6','answer_of_question_7','answer_of_question_8','answer_of_question_9','answer_of_question_10','answer_of_question_11','answer_of_question_12','answer_of_question_13','answer_of_question_14','answer_of_question_15','answer_of_question_16','answer_of_question_17','answer_of_question_18','answer_of_question_19','answer_of_question_20','answer_of_question_21','answer_of_question_22','answer_of_question_23','answer_of_question_24','answer_of_question_25']"
      ]
    },
    {
      "cell_type": "code",
      "execution_count": null,
      "metadata": {
        "colab": {
          "base_uri": "https://localhost:8080/"
        },
        "id": "9OX5pKIpKeil",
        "outputId": "4ba014a8-5649-4f51-ab9c-38e104cb8d23"
      },
      "outputs": [
        {
          "name": "stdout",
          "output_type": "stream",
          "text": [
            "\u001b[2K     \u001b[90m━━━━━━━━━━━━━━━━━━━━━━━━━━━━━━━━━━━━━━━━\u001b[0m \u001b[32m265.6/265.6 MB\u001b[0m \u001b[31m5.1 MB/s\u001b[0m eta \u001b[36m0:00:00\u001b[0m\n",
            "\u001b[?25h  Preparing metadata (setup.py) ... \u001b[?25l\u001b[?25hdone\n",
            "  Building wheel for h2o (setup.py) ... \u001b[?25l\u001b[?25hdone\n"
          ]
        }
      ],
      "source": [
        "!pip install -q h2o"
      ]
    },
    {
      "cell_type": "code",
      "execution_count": null,
      "metadata": {
        "colab": {
          "base_uri": "https://localhost:8080/",
          "height": 544
        },
        "id": "1UIBFIyGKiZG",
        "outputId": "f5fa0aa8-0c11-4068-a29d-6da20d6b143b"
      },
      "outputs": [
        {
          "name": "stdout",
          "output_type": "stream",
          "text": [
            "Checking whether there is an H2O instance running at http://localhost:54321..... not found.\n",
            "Attempting to start a local H2O server...\n",
            "  Java Version: openjdk version \"11.0.24\" 2024-07-16; OpenJDK Runtime Environment (build 11.0.24+8-post-Ubuntu-1ubuntu322.04); OpenJDK 64-Bit Server VM (build 11.0.24+8-post-Ubuntu-1ubuntu322.04, mixed mode, sharing)\n",
            "  Starting server from /usr/local/lib/python3.10/dist-packages/h2o/backend/bin/h2o.jar\n",
            "  Ice root: /tmp/tmpgo2egrk0\n",
            "  JVM stdout: /tmp/tmpgo2egrk0/h2o_unknownUser_started_from_python.out\n",
            "  JVM stderr: /tmp/tmpgo2egrk0/h2o_unknownUser_started_from_python.err\n",
            "  Server is running at http://127.0.0.1:54321\n",
            "Connecting to H2O server at http://127.0.0.1:54321 ... successful.\n"
          ]
        },
        {
          "data": {
            "text/html": [
              "\n",
              "<style>\n",
              "\n",
              "#h2o-table-1.h2o-container {\n",
              "  overflow-x: auto;\n",
              "}\n",
              "#h2o-table-1 .h2o-table {\n",
              "  /* width: 100%; */\n",
              "  margin-top: 1em;\n",
              "  margin-bottom: 1em;\n",
              "}\n",
              "#h2o-table-1 .h2o-table caption {\n",
              "  white-space: nowrap;\n",
              "  caption-side: top;\n",
              "  text-align: left;\n",
              "  /* margin-left: 1em; */\n",
              "  margin: 0;\n",
              "  font-size: larger;\n",
              "}\n",
              "#h2o-table-1 .h2o-table thead {\n",
              "  white-space: nowrap; \n",
              "  position: sticky;\n",
              "  top: 0;\n",
              "  box-shadow: 0 -1px inset;\n",
              "}\n",
              "#h2o-table-1 .h2o-table tbody {\n",
              "  overflow: auto;\n",
              "}\n",
              "#h2o-table-1 .h2o-table th,\n",
              "#h2o-table-1 .h2o-table td {\n",
              "  text-align: right;\n",
              "  /* border: 1px solid; */\n",
              "}\n",
              "#h2o-table-1 .h2o-table tr:nth-child(even) {\n",
              "  /* background: #F5F5F5 */\n",
              "}\n",
              "\n",
              "</style>      \n",
              "<div id=\"h2o-table-1\" class=\"h2o-container\">\n",
              "  <table class=\"h2o-table\">\n",
              "    <caption></caption>\n",
              "    <thead></thead>\n",
              "    <tbody><tr><td>H2O_cluster_uptime:</td>\n",
              "<td>06 secs</td></tr>\n",
              "<tr><td>H2O_cluster_timezone:</td>\n",
              "<td>Etc/UTC</td></tr>\n",
              "<tr><td>H2O_data_parsing_timezone:</td>\n",
              "<td>UTC</td></tr>\n",
              "<tr><td>H2O_cluster_version:</td>\n",
              "<td>3.46.0.5</td></tr>\n",
              "<tr><td>H2O_cluster_version_age:</td>\n",
              "<td>1 month and 26 days</td></tr>\n",
              "<tr><td>H2O_cluster_name:</td>\n",
              "<td>H2O_from_python_unknownUser_93burt</td></tr>\n",
              "<tr><td>H2O_cluster_total_nodes:</td>\n",
              "<td>1</td></tr>\n",
              "<tr><td>H2O_cluster_free_memory:</td>\n",
              "<td>3.170 Gb</td></tr>\n",
              "<tr><td>H2O_cluster_total_cores:</td>\n",
              "<td>2</td></tr>\n",
              "<tr><td>H2O_cluster_allowed_cores:</td>\n",
              "<td>2</td></tr>\n",
              "<tr><td>H2O_cluster_status:</td>\n",
              "<td>locked, healthy</td></tr>\n",
              "<tr><td>H2O_connection_url:</td>\n",
              "<td>http://127.0.0.1:54321</td></tr>\n",
              "<tr><td>H2O_connection_proxy:</td>\n",
              "<td>{\"http\": null, \"https\": null, \"colab_language_server\": \"/usr/colab/bin/language_service\"}</td></tr>\n",
              "<tr><td>H2O_internal_security:</td>\n",
              "<td>False</td></tr>\n",
              "<tr><td>Python_version:</td>\n",
              "<td>3.10.12 final</td></tr></tbody>\n",
              "  </table>\n",
              "</div>\n"
            ],
            "text/plain": [
              "--------------------------  -----------------------------------------------------------------------------------------\n",
              "H2O_cluster_uptime:         06 secs\n",
              "H2O_cluster_timezone:       Etc/UTC\n",
              "H2O_data_parsing_timezone:  UTC\n",
              "H2O_cluster_version:        3.46.0.5\n",
              "H2O_cluster_version_age:    1 month and 26 days\n",
              "H2O_cluster_name:           H2O_from_python_unknownUser_93burt\n",
              "H2O_cluster_total_nodes:    1\n",
              "H2O_cluster_free_memory:    3.170 Gb\n",
              "H2O_cluster_total_cores:    2\n",
              "H2O_cluster_allowed_cores:  2\n",
              "H2O_cluster_status:         locked, healthy\n",
              "H2O_connection_url:         http://127.0.0.1:54321\n",
              "H2O_connection_proxy:       {\"http\": null, \"https\": null, \"colab_language_server\": \"/usr/colab/bin/language_service\"}\n",
              "H2O_internal_security:      False\n",
              "Python_version:             3.10.12 final\n",
              "--------------------------  -----------------------------------------------------------------------------------------"
            ]
          },
          "metadata": {},
          "output_type": "display_data"
        }
      ],
      "source": [
        "import h2o\n",
        "from h2o.automl import H2OAutoML\n",
        "\n",
        "# Start the H2O cluster (locally)\n",
        "h2o.init()"
      ]
    },
    {
      "cell_type": "code",
      "execution_count": null,
      "metadata": {
        "id": "xzXXJwE_K-Ah"
      },
      "outputs": [],
      "source": [
        "numeric_features = ['Final_Issue_Price',\n",
        " 'Issue Size (Rs Cr.)',\n",
        " 'Lot Size',\n",
        " 'GDP per capita growth (annual %)',\n",
        " 'GDP growth (annual %)',\n",
        " 'GDP (current US$)',\n",
        " 'Unemployment, total (% of total labor force) (modeled ILO estimate)',\n",
        " 'Stocks traded, total value (% of GDP)',\n",
        " 'Personal remittances, received (% of GDP)',\n",
        " 'Net trade in goods and services (BoP, current US$)',\n",
        " 'GNI per capita growth (annual %)',\n",
        " 'Inflation, consumer prices (annual %)',\n",
        " 'GNI (current US$)',\n",
        " 'Foreign direct investment, net inflows (BoP, current US$)',\n",
        " 'Foreign direct investment, net (BoP, current US$)',\n",
        " 'Price_nifty50_daily',\n",
        " 'Open_nifty50_daily',\n",
        " 'High_nifty50_daily',\n",
        " 'Low_nifty50_daily',\n",
        " 'Volume_nifty50_daily',\n",
        " 'Chg%_nifty50_daily',\n",
        " 'Price_nifty50_weekly',\n",
        " 'Open_nifty50_weekly',\n",
        " 'High_nifty50_weekly',\n",
        " 'Low_nifty50_weekly',\n",
        " 'Volume_nifty50_weekly',\n",
        " 'Chg%_nifty50_weekly',\n",
        " 'Price_nifty50_monthly',\n",
        " 'Open_nifty50_monthly',\n",
        " 'High_nifty50_monthly',\n",
        " 'Low_nifty50_monthly',\n",
        " 'Volume_nifty50_monthly',\n",
        " 'Chg%_nifty50_monthly',\n",
        " 'Price_vix_daily',\n",
        " 'Open_vix_daily',\n",
        " 'High_vix_daily',\n",
        " 'Low_vix_daily',\n",
        " 'Chg%_vix_daily',\n",
        " 'Price_vix_weekly',\n",
        " 'Open_vix_weekly',\n",
        " 'High_vix_weekly',\n",
        " 'Low_vix_weekly',\n",
        " 'Chg%_vix_weekly',\n",
        " 'Price_vix_monthly',\n",
        " 'Open_vix_monthly',\n",
        " 'High_vix_monthly',\n",
        " 'Low_vix_monthly',\n",
        " 'Chg%_vix_monthly',\n",
        " 'previous_quarter_success_open',\n",
        " 'previous_quarter_success_close',\n",
        " 'previous_quarter_success_high',\n",
        " 'dynamic_last_90Day_success_open',\n",
        " 'dynamic_last_90Day_success_close',\n",
        " 'dynamic_last_90Day_success_high',\n",
        " 'day_1_qib',\n",
        " 'day_1_nii',\n",
        " 'day_1_retail',\n",
        " 'day_1_total',\n",
        " 'day_2_qib',\n",
        " 'day_2_nii',\n",
        " 'day_2_retail',\n",
        " 'day_2_total',\n",
        " 'day_3_qib',\n",
        " 'day_3_nii',\n",
        " 'day_3_retail',\n",
        " 'day_3_total',\n",
        " 'day_4_qib',\n",
        " 'day_4_nii',\n",
        " 'day_4_retail',\n",
        " 'day_4_total',\n",
        " 'day_5_qib',\n",
        " 'day_5_nii',\n",
        " 'day_5_retail',\n",
        " 'day_5_total',\n",
        " 'day_6_qib',\n",
        " 'day_6_nii',\n",
        " 'day_6_retail',\n",
        " 'day_6_total',\n",
        " 'Brokers_Subscribe',\n",
        " 'Brokers_Neutral',\n",
        " 'Brokers_Avoid',\n",
        " 'Members_Subscribe',\n",
        " 'Members_Neutral',\n",
        " 'Members_Avoid',\n",
        " 'Face Value per share',\n",
        " 'Retail (Min)_Lots',\n",
        " 'Retail (Min)_Shares',\n",
        " 'Retail (Min)_Amount',\n",
        " 'Retail (Max)_Lots',\n",
        " 'Retail (Max)_Shares',\n",
        " 'Retail (Max)_Amount',\n",
        " 'S-HNI (Min)_Lots',\n",
        " 'S-HNI (Min)_Shares',\n",
        " 'S-HNI (Min)_Amount',\n",
        " 'S-HNI (Max)_Lots',\n",
        " 'S-HNI (Max)_Shares',\n",
        " 'S-HNI (Max)_Amount',\n",
        " 'B-HNI (Min)_Lots',\n",
        " 'B-HNI (Min)_Shares',\n",
        " 'B-HNI (Min)_Amount',\n",
        " 'Share Holding Pre Issue',\n",
        " 'Share Holding Post Issue',\n",
        " '0_assets',\n",
        " '0_revenue',\n",
        " '0_profit after tax',\n",
        " '0_net worth',\n",
        " '0_reserves and surplus',\n",
        " '0_total borrowing',\n",
        " '0_total income',\n",
        " '1_assets',\n",
        " '1_revenue',\n",
        " '1_profit after tax',\n",
        " '1_net worth',\n",
        " '1_reserves and surplus',\n",
        " '1_total borrowing',\n",
        " '1_total income',\n",
        " '2_assets',\n",
        " '2_revenue',\n",
        " '2_profit after tax',\n",
        " '2_net worth',\n",
        " '2_reserves and surplus',\n",
        " '2_total borrowing',\n",
        " '2_total income',\n",
        " '3_assets',\n",
        " '3_revenue',\n",
        " '3_profit after tax',\n",
        " '3_net worth',\n",
        " '3_reserves and surplus',\n",
        " '3_total borrowing',\n",
        " '3_total income',\n",
        " '4_assets',\n",
        " '4_revenue',\n",
        " '4_profit after tax',\n",
        " '4_net worth',\n",
        " '4_reserves and surplus',\n",
        " '4_total borrowing',\n",
        " '4_total income',\n",
        " '5_assets',\n",
        " '5_revenue',\n",
        " '5_profit after tax',\n",
        " '5_total income']\n",
        "\n",
        "categorical_features = ['Sector',\t'Industry',\t'Total Issue Size',\t'Issue Type',\t'Fresh Issue',\t'Offer for Sale',\t'Price Band']"
      ]
    },
    {
      "cell_type": "code",
      "execution_count": null,
      "metadata": {
        "id": "grMftj68LBS0"
      },
      "outputs": [],
      "source": [
        "def clean_numbers(txt):\n",
        "    num =  str(txt).replace(',','').replace(' ','')\n",
        "    if len(num.split('.')) > 2:\n",
        "        num = '.'.join(num.split('.')[0:2])\n",
        "    if num == '':\n",
        "        return np.nan\n",
        "    if num == 'nan':\n",
        "        return np.nan\n",
        "    if num == '-':\n",
        "        return np.nan\n",
        "    if '%' in num:\n",
        "        num = float(num.replace('%',''))/100\n",
        "    elif 'Cr' in num:\n",
        "        num = float(num.replace('Cr',''))*10000000\n",
        "    elif 'B' in num:\n",
        "        num = float(num.replace('B',''))*1000000000\n",
        "\n",
        "    elif 'M' in num:\n",
        "        num = float(num.replace('M',''))*1000000\n",
        "\n",
        "    elif 'K' in num:\n",
        "        num = float(num.replace('K',''))*1000\n",
        "    else:\n",
        "        num = float(num)\n",
        "\n",
        "    return num"
      ]
    },
    {
      "cell_type": "markdown",
      "metadata": {
        "id": "Z7dpoCkgJHYC"
      },
      "source": [
        "# Main Board"
      ]
    },
    {
      "cell_type": "code",
      "execution_count": null,
      "metadata": {
        "colab": {
          "base_uri": "https://localhost:8080/"
        },
        "id": "8TdoOE4OIRsY",
        "outputId": "2d0bf90e-81d2-434a-e6e2-f044e285c2e8"
      },
      "outputs": [
        {
          "data": {
            "text/plain": [
              "(418, 217)"
            ]
          },
          "execution_count": 9,
          "metadata": {},
          "output_type": "execute_result"
        }
      ],
      "source": [
        "main = pd.read_excel(\"/content/drive/MyDrive/datasets/Indian_IPO_Prediction/final_data/ipo_mainline_final_data_v18.xlsx\")\n",
        "main.shape"
      ]
    },
    {
      "cell_type": "code",
      "execution_count": null,
      "metadata": {
        "id": "1-jn5iTRI_kd"
      },
      "outputs": [],
      "source": [
        "main = pd.concat([main, deberta_probab],axis=1)\n",
        "\n",
        "train = main[main['Close Year'] < 2023]\n",
        "test = main[main['Close Year'] == 2023]"
      ]
    },
    {
      "cell_type": "markdown",
      "metadata": {
        "id": "QLUmTOtvTk0j"
      },
      "source": [
        "## Without News"
      ]
    },
    {
      "cell_type": "code",
      "execution_count": null,
      "metadata": {
        "id": "KhLfwLZRLHla"
      },
      "outputs": [],
      "source": [
        "text_features_probab = [i for i in deberta_probab.columns if 'class_1_prob' in i]"
      ]
    },
    {
      "cell_type": "code",
      "execution_count": null,
      "metadata": {
        "colab": {
          "base_uri": "https://localhost:8080/"
        },
        "id": "12qfQbvgJ-8w",
        "outputId": "a8602af0-9c06-497d-aa69-a5216716d68b"
      },
      "outputs": [
        {
          "name": "stderr",
          "output_type": "stream",
          "text": [
            "<ipython-input-12-25082cdf839e>:5: SettingWithCopyWarning: \n",
            "A value is trying to be set on a copy of a slice from a DataFrame.\n",
            "Try using .loc[row_indexer,col_indexer] = value instead\n",
            "\n",
            "See the caveats in the documentation: https://pandas.pydata.org/pandas-docs/stable/user_guide/indexing.html#returning-a-view-versus-a-copy\n",
            "  train_use_X[i] = train_use_X[i].apply(lambda x : clean_numbers(str(x))).astype('float64')\n",
            "<ipython-input-12-25082cdf839e>:6: SettingWithCopyWarning: \n",
            "A value is trying to be set on a copy of a slice from a DataFrame.\n",
            "Try using .loc[row_indexer,col_indexer] = value instead\n",
            "\n",
            "See the caveats in the documentation: https://pandas.pydata.org/pandas-docs/stable/user_guide/indexing.html#returning-a-view-versus-a-copy\n",
            "  test_use_X[i] = test_use_X[i].apply(lambda x : clean_numbers(str(x))).astype('float64')\n",
            "<ipython-input-12-25082cdf839e>:5: SettingWithCopyWarning: \n",
            "A value is trying to be set on a copy of a slice from a DataFrame.\n",
            "Try using .loc[row_indexer,col_indexer] = value instead\n",
            "\n",
            "See the caveats in the documentation: https://pandas.pydata.org/pandas-docs/stable/user_guide/indexing.html#returning-a-view-versus-a-copy\n",
            "  train_use_X[i] = train_use_X[i].apply(lambda x : clean_numbers(str(x))).astype('float64')\n",
            "<ipython-input-12-25082cdf839e>:6: SettingWithCopyWarning: \n",
            "A value is trying to be set on a copy of a slice from a DataFrame.\n",
            "Try using .loc[row_indexer,col_indexer] = value instead\n",
            "\n",
            "See the caveats in the documentation: https://pandas.pydata.org/pandas-docs/stable/user_guide/indexing.html#returning-a-view-versus-a-copy\n",
            "  test_use_X[i] = test_use_X[i].apply(lambda x : clean_numbers(str(x))).astype('float64')\n",
            "<ipython-input-12-25082cdf839e>:5: SettingWithCopyWarning: \n",
            "A value is trying to be set on a copy of a slice from a DataFrame.\n",
            "Try using .loc[row_indexer,col_indexer] = value instead\n",
            "\n",
            "See the caveats in the documentation: https://pandas.pydata.org/pandas-docs/stable/user_guide/indexing.html#returning-a-view-versus-a-copy\n",
            "  train_use_X[i] = train_use_X[i].apply(lambda x : clean_numbers(str(x))).astype('float64')\n",
            "<ipython-input-12-25082cdf839e>:6: SettingWithCopyWarning: \n",
            "A value is trying to be set on a copy of a slice from a DataFrame.\n",
            "Try using .loc[row_indexer,col_indexer] = value instead\n",
            "\n",
            "See the caveats in the documentation: https://pandas.pydata.org/pandas-docs/stable/user_guide/indexing.html#returning-a-view-versus-a-copy\n",
            "  test_use_X[i] = test_use_X[i].apply(lambda x : clean_numbers(str(x))).astype('float64')\n",
            "<ipython-input-12-25082cdf839e>:5: SettingWithCopyWarning: \n",
            "A value is trying to be set on a copy of a slice from a DataFrame.\n",
            "Try using .loc[row_indexer,col_indexer] = value instead\n",
            "\n",
            "See the caveats in the documentation: https://pandas.pydata.org/pandas-docs/stable/user_guide/indexing.html#returning-a-view-versus-a-copy\n",
            "  train_use_X[i] = train_use_X[i].apply(lambda x : clean_numbers(str(x))).astype('float64')\n",
            "<ipython-input-12-25082cdf839e>:6: SettingWithCopyWarning: \n",
            "A value is trying to be set on a copy of a slice from a DataFrame.\n",
            "Try using .loc[row_indexer,col_indexer] = value instead\n",
            "\n",
            "See the caveats in the documentation: https://pandas.pydata.org/pandas-docs/stable/user_guide/indexing.html#returning-a-view-versus-a-copy\n",
            "  test_use_X[i] = test_use_X[i].apply(lambda x : clean_numbers(str(x))).astype('float64')\n",
            "<ipython-input-12-25082cdf839e>:5: SettingWithCopyWarning: \n",
            "A value is trying to be set on a copy of a slice from a DataFrame.\n",
            "Try using .loc[row_indexer,col_indexer] = value instead\n",
            "\n",
            "See the caveats in the documentation: https://pandas.pydata.org/pandas-docs/stable/user_guide/indexing.html#returning-a-view-versus-a-copy\n",
            "  train_use_X[i] = train_use_X[i].apply(lambda x : clean_numbers(str(x))).astype('float64')\n",
            "<ipython-input-12-25082cdf839e>:6: SettingWithCopyWarning: \n",
            "A value is trying to be set on a copy of a slice from a DataFrame.\n",
            "Try using .loc[row_indexer,col_indexer] = value instead\n",
            "\n",
            "See the caveats in the documentation: https://pandas.pydata.org/pandas-docs/stable/user_guide/indexing.html#returning-a-view-versus-a-copy\n",
            "  test_use_X[i] = test_use_X[i].apply(lambda x : clean_numbers(str(x))).astype('float64')\n",
            "<ipython-input-12-25082cdf839e>:5: SettingWithCopyWarning: \n",
            "A value is trying to be set on a copy of a slice from a DataFrame.\n",
            "Try using .loc[row_indexer,col_indexer] = value instead\n",
            "\n",
            "See the caveats in the documentation: https://pandas.pydata.org/pandas-docs/stable/user_guide/indexing.html#returning-a-view-versus-a-copy\n",
            "  train_use_X[i] = train_use_X[i].apply(lambda x : clean_numbers(str(x))).astype('float64')\n",
            "<ipython-input-12-25082cdf839e>:6: SettingWithCopyWarning: \n",
            "A value is trying to be set on a copy of a slice from a DataFrame.\n",
            "Try using .loc[row_indexer,col_indexer] = value instead\n",
            "\n",
            "See the caveats in the documentation: https://pandas.pydata.org/pandas-docs/stable/user_guide/indexing.html#returning-a-view-versus-a-copy\n",
            "  test_use_X[i] = test_use_X[i].apply(lambda x : clean_numbers(str(x))).astype('float64')\n",
            "<ipython-input-12-25082cdf839e>:5: SettingWithCopyWarning: \n",
            "A value is trying to be set on a copy of a slice from a DataFrame.\n",
            "Try using .loc[row_indexer,col_indexer] = value instead\n",
            "\n",
            "See the caveats in the documentation: https://pandas.pydata.org/pandas-docs/stable/user_guide/indexing.html#returning-a-view-versus-a-copy\n",
            "  train_use_X[i] = train_use_X[i].apply(lambda x : clean_numbers(str(x))).astype('float64')\n",
            "<ipython-input-12-25082cdf839e>:6: SettingWithCopyWarning: \n",
            "A value is trying to be set on a copy of a slice from a DataFrame.\n",
            "Try using .loc[row_indexer,col_indexer] = value instead\n",
            "\n",
            "See the caveats in the documentation: https://pandas.pydata.org/pandas-docs/stable/user_guide/indexing.html#returning-a-view-versus-a-copy\n",
            "  test_use_X[i] = test_use_X[i].apply(lambda x : clean_numbers(str(x))).astype('float64')\n",
            "<ipython-input-12-25082cdf839e>:5: SettingWithCopyWarning: \n",
            "A value is trying to be set on a copy of a slice from a DataFrame.\n",
            "Try using .loc[row_indexer,col_indexer] = value instead\n",
            "\n",
            "See the caveats in the documentation: https://pandas.pydata.org/pandas-docs/stable/user_guide/indexing.html#returning-a-view-versus-a-copy\n",
            "  train_use_X[i] = train_use_X[i].apply(lambda x : clean_numbers(str(x))).astype('float64')\n",
            "<ipython-input-12-25082cdf839e>:6: SettingWithCopyWarning: \n",
            "A value is trying to be set on a copy of a slice from a DataFrame.\n",
            "Try using .loc[row_indexer,col_indexer] = value instead\n",
            "\n",
            "See the caveats in the documentation: https://pandas.pydata.org/pandas-docs/stable/user_guide/indexing.html#returning-a-view-versus-a-copy\n",
            "  test_use_X[i] = test_use_X[i].apply(lambda x : clean_numbers(str(x))).astype('float64')\n",
            "<ipython-input-12-25082cdf839e>:5: SettingWithCopyWarning: \n",
            "A value is trying to be set on a copy of a slice from a DataFrame.\n",
            "Try using .loc[row_indexer,col_indexer] = value instead\n",
            "\n",
            "See the caveats in the documentation: https://pandas.pydata.org/pandas-docs/stable/user_guide/indexing.html#returning-a-view-versus-a-copy\n",
            "  train_use_X[i] = train_use_X[i].apply(lambda x : clean_numbers(str(x))).astype('float64')\n",
            "<ipython-input-12-25082cdf839e>:6: SettingWithCopyWarning: \n",
            "A value is trying to be set on a copy of a slice from a DataFrame.\n",
            "Try using .loc[row_indexer,col_indexer] = value instead\n",
            "\n",
            "See the caveats in the documentation: https://pandas.pydata.org/pandas-docs/stable/user_guide/indexing.html#returning-a-view-versus-a-copy\n",
            "  test_use_X[i] = test_use_X[i].apply(lambda x : clean_numbers(str(x))).astype('float64')\n",
            "<ipython-input-12-25082cdf839e>:5: SettingWithCopyWarning: \n",
            "A value is trying to be set on a copy of a slice from a DataFrame.\n",
            "Try using .loc[row_indexer,col_indexer] = value instead\n",
            "\n",
            "See the caveats in the documentation: https://pandas.pydata.org/pandas-docs/stable/user_guide/indexing.html#returning-a-view-versus-a-copy\n",
            "  train_use_X[i] = train_use_X[i].apply(lambda x : clean_numbers(str(x))).astype('float64')\n",
            "<ipython-input-12-25082cdf839e>:6: SettingWithCopyWarning: \n",
            "A value is trying to be set on a copy of a slice from a DataFrame.\n",
            "Try using .loc[row_indexer,col_indexer] = value instead\n",
            "\n",
            "See the caveats in the documentation: https://pandas.pydata.org/pandas-docs/stable/user_guide/indexing.html#returning-a-view-versus-a-copy\n",
            "  test_use_X[i] = test_use_X[i].apply(lambda x : clean_numbers(str(x))).astype('float64')\n",
            "<ipython-input-12-25082cdf839e>:5: SettingWithCopyWarning: \n",
            "A value is trying to be set on a copy of a slice from a DataFrame.\n",
            "Try using .loc[row_indexer,col_indexer] = value instead\n",
            "\n",
            "See the caveats in the documentation: https://pandas.pydata.org/pandas-docs/stable/user_guide/indexing.html#returning-a-view-versus-a-copy\n",
            "  train_use_X[i] = train_use_X[i].apply(lambda x : clean_numbers(str(x))).astype('float64')\n",
            "<ipython-input-12-25082cdf839e>:6: SettingWithCopyWarning: \n",
            "A value is trying to be set on a copy of a slice from a DataFrame.\n",
            "Try using .loc[row_indexer,col_indexer] = value instead\n",
            "\n",
            "See the caveats in the documentation: https://pandas.pydata.org/pandas-docs/stable/user_guide/indexing.html#returning-a-view-versus-a-copy\n",
            "  test_use_X[i] = test_use_X[i].apply(lambda x : clean_numbers(str(x))).astype('float64')\n",
            "<ipython-input-12-25082cdf839e>:5: SettingWithCopyWarning: \n",
            "A value is trying to be set on a copy of a slice from a DataFrame.\n",
            "Try using .loc[row_indexer,col_indexer] = value instead\n",
            "\n",
            "See the caveats in the documentation: https://pandas.pydata.org/pandas-docs/stable/user_guide/indexing.html#returning-a-view-versus-a-copy\n",
            "  train_use_X[i] = train_use_X[i].apply(lambda x : clean_numbers(str(x))).astype('float64')\n",
            "<ipython-input-12-25082cdf839e>:6: SettingWithCopyWarning: \n",
            "A value is trying to be set on a copy of a slice from a DataFrame.\n",
            "Try using .loc[row_indexer,col_indexer] = value instead\n",
            "\n",
            "See the caveats in the documentation: https://pandas.pydata.org/pandas-docs/stable/user_guide/indexing.html#returning-a-view-versus-a-copy\n",
            "  test_use_X[i] = test_use_X[i].apply(lambda x : clean_numbers(str(x))).astype('float64')\n",
            "<ipython-input-12-25082cdf839e>:5: SettingWithCopyWarning: \n",
            "A value is trying to be set on a copy of a slice from a DataFrame.\n",
            "Try using .loc[row_indexer,col_indexer] = value instead\n",
            "\n",
            "See the caveats in the documentation: https://pandas.pydata.org/pandas-docs/stable/user_guide/indexing.html#returning-a-view-versus-a-copy\n",
            "  train_use_X[i] = train_use_X[i].apply(lambda x : clean_numbers(str(x))).astype('float64')\n",
            "<ipython-input-12-25082cdf839e>:6: SettingWithCopyWarning: \n",
            "A value is trying to be set on a copy of a slice from a DataFrame.\n",
            "Try using .loc[row_indexer,col_indexer] = value instead\n",
            "\n",
            "See the caveats in the documentation: https://pandas.pydata.org/pandas-docs/stable/user_guide/indexing.html#returning-a-view-versus-a-copy\n",
            "  test_use_X[i] = test_use_X[i].apply(lambda x : clean_numbers(str(x))).astype('float64')\n",
            "<ipython-input-12-25082cdf839e>:5: SettingWithCopyWarning: \n",
            "A value is trying to be set on a copy of a slice from a DataFrame.\n",
            "Try using .loc[row_indexer,col_indexer] = value instead\n",
            "\n",
            "See the caveats in the documentation: https://pandas.pydata.org/pandas-docs/stable/user_guide/indexing.html#returning-a-view-versus-a-copy\n",
            "  train_use_X[i] = train_use_X[i].apply(lambda x : clean_numbers(str(x))).astype('float64')\n",
            "<ipython-input-12-25082cdf839e>:6: SettingWithCopyWarning: \n",
            "A value is trying to be set on a copy of a slice from a DataFrame.\n",
            "Try using .loc[row_indexer,col_indexer] = value instead\n",
            "\n",
            "See the caveats in the documentation: https://pandas.pydata.org/pandas-docs/stable/user_guide/indexing.html#returning-a-view-versus-a-copy\n",
            "  test_use_X[i] = test_use_X[i].apply(lambda x : clean_numbers(str(x))).astype('float64')\n",
            "<ipython-input-12-25082cdf839e>:5: SettingWithCopyWarning: \n",
            "A value is trying to be set on a copy of a slice from a DataFrame.\n",
            "Try using .loc[row_indexer,col_indexer] = value instead\n",
            "\n",
            "See the caveats in the documentation: https://pandas.pydata.org/pandas-docs/stable/user_guide/indexing.html#returning-a-view-versus-a-copy\n",
            "  train_use_X[i] = train_use_X[i].apply(lambda x : clean_numbers(str(x))).astype('float64')\n",
            "<ipython-input-12-25082cdf839e>:6: SettingWithCopyWarning: \n",
            "A value is trying to be set on a copy of a slice from a DataFrame.\n",
            "Try using .loc[row_indexer,col_indexer] = value instead\n",
            "\n",
            "See the caveats in the documentation: https://pandas.pydata.org/pandas-docs/stable/user_guide/indexing.html#returning-a-view-versus-a-copy\n",
            "  test_use_X[i] = test_use_X[i].apply(lambda x : clean_numbers(str(x))).astype('float64')\n",
            "<ipython-input-12-25082cdf839e>:5: SettingWithCopyWarning: \n",
            "A value is trying to be set on a copy of a slice from a DataFrame.\n",
            "Try using .loc[row_indexer,col_indexer] = value instead\n",
            "\n",
            "See the caveats in the documentation: https://pandas.pydata.org/pandas-docs/stable/user_guide/indexing.html#returning-a-view-versus-a-copy\n",
            "  train_use_X[i] = train_use_X[i].apply(lambda x : clean_numbers(str(x))).astype('float64')\n",
            "<ipython-input-12-25082cdf839e>:6: SettingWithCopyWarning: \n",
            "A value is trying to be set on a copy of a slice from a DataFrame.\n",
            "Try using .loc[row_indexer,col_indexer] = value instead\n",
            "\n",
            "See the caveats in the documentation: https://pandas.pydata.org/pandas-docs/stable/user_guide/indexing.html#returning-a-view-versus-a-copy\n",
            "  test_use_X[i] = test_use_X[i].apply(lambda x : clean_numbers(str(x))).astype('float64')\n",
            "<ipython-input-12-25082cdf839e>:5: SettingWithCopyWarning: \n",
            "A value is trying to be set on a copy of a slice from a DataFrame.\n",
            "Try using .loc[row_indexer,col_indexer] = value instead\n",
            "\n",
            "See the caveats in the documentation: https://pandas.pydata.org/pandas-docs/stable/user_guide/indexing.html#returning-a-view-versus-a-copy\n",
            "  train_use_X[i] = train_use_X[i].apply(lambda x : clean_numbers(str(x))).astype('float64')\n",
            "<ipython-input-12-25082cdf839e>:6: SettingWithCopyWarning: \n",
            "A value is trying to be set on a copy of a slice from a DataFrame.\n",
            "Try using .loc[row_indexer,col_indexer] = value instead\n",
            "\n",
            "See the caveats in the documentation: https://pandas.pydata.org/pandas-docs/stable/user_guide/indexing.html#returning-a-view-versus-a-copy\n",
            "  test_use_X[i] = test_use_X[i].apply(lambda x : clean_numbers(str(x))).astype('float64')\n",
            "<ipython-input-12-25082cdf839e>:5: SettingWithCopyWarning: \n",
            "A value is trying to be set on a copy of a slice from a DataFrame.\n",
            "Try using .loc[row_indexer,col_indexer] = value instead\n",
            "\n",
            "See the caveats in the documentation: https://pandas.pydata.org/pandas-docs/stable/user_guide/indexing.html#returning-a-view-versus-a-copy\n",
            "  train_use_X[i] = train_use_X[i].apply(lambda x : clean_numbers(str(x))).astype('float64')\n",
            "<ipython-input-12-25082cdf839e>:6: SettingWithCopyWarning: \n",
            "A value is trying to be set on a copy of a slice from a DataFrame.\n",
            "Try using .loc[row_indexer,col_indexer] = value instead\n",
            "\n",
            "See the caveats in the documentation: https://pandas.pydata.org/pandas-docs/stable/user_guide/indexing.html#returning-a-view-versus-a-copy\n",
            "  test_use_X[i] = test_use_X[i].apply(lambda x : clean_numbers(str(x))).astype('float64')\n",
            "<ipython-input-12-25082cdf839e>:5: SettingWithCopyWarning: \n",
            "A value is trying to be set on a copy of a slice from a DataFrame.\n",
            "Try using .loc[row_indexer,col_indexer] = value instead\n",
            "\n",
            "See the caveats in the documentation: https://pandas.pydata.org/pandas-docs/stable/user_guide/indexing.html#returning-a-view-versus-a-copy\n",
            "  train_use_X[i] = train_use_X[i].apply(lambda x : clean_numbers(str(x))).astype('float64')\n",
            "<ipython-input-12-25082cdf839e>:6: SettingWithCopyWarning: \n",
            "A value is trying to be set on a copy of a slice from a DataFrame.\n",
            "Try using .loc[row_indexer,col_indexer] = value instead\n",
            "\n",
            "See the caveats in the documentation: https://pandas.pydata.org/pandas-docs/stable/user_guide/indexing.html#returning-a-view-versus-a-copy\n",
            "  test_use_X[i] = test_use_X[i].apply(lambda x : clean_numbers(str(x))).astype('float64')\n",
            "<ipython-input-12-25082cdf839e>:9: SettingWithCopyWarning: \n",
            "A value is trying to be set on a copy of a slice from a DataFrame.\n",
            "Try using .loc[row_indexer,col_indexer] = value instead\n",
            "\n",
            "See the caveats in the documentation: https://pandas.pydata.org/pandas-docs/stable/user_guide/indexing.html#returning-a-view-versus-a-copy\n",
            "  train_use_X[col] = train_use_X[col].str.replace('\"', '', regex=False)  # Remove double quotes\n",
            "<ipython-input-12-25082cdf839e>:10: SettingWithCopyWarning: \n",
            "A value is trying to be set on a copy of a slice from a DataFrame.\n",
            "Try using .loc[row_indexer,col_indexer] = value instead\n",
            "\n",
            "See the caveats in the documentation: https://pandas.pydata.org/pandas-docs/stable/user_guide/indexing.html#returning-a-view-versus-a-copy\n",
            "  train_use_X[col] = train_use_X[col].str.replace('\\n', ' ', regex=False)\n",
            "<ipython-input-12-25082cdf839e>:11: SettingWithCopyWarning: \n",
            "A value is trying to be set on a copy of a slice from a DataFrame.\n",
            "Try using .loc[row_indexer,col_indexer] = value instead\n",
            "\n",
            "See the caveats in the documentation: https://pandas.pydata.org/pandas-docs/stable/user_guide/indexing.html#returning-a-view-versus-a-copy\n",
            "  test_use_X[col] = test_use_X[col].str.replace('\"', '', regex=False)  # Remove double quotes\n",
            "<ipython-input-12-25082cdf839e>:12: SettingWithCopyWarning: \n",
            "A value is trying to be set on a copy of a slice from a DataFrame.\n",
            "Try using .loc[row_indexer,col_indexer] = value instead\n",
            "\n",
            "See the caveats in the documentation: https://pandas.pydata.org/pandas-docs/stable/user_guide/indexing.html#returning-a-view-versus-a-copy\n",
            "  test_use_X[col] = test_use_X[col].str.replace('\\n', ' ', regex=False)\n"
          ]
        }
      ],
      "source": [
        "train_use_X = train[numeric_features + categorical_features + text_features_probab]\n",
        "test_use_X = test[numeric_features + categorical_features + text_features_probab]\n",
        "for i in numeric_features:\n",
        "  if train_use_X[i].dtype != 'int64' and train_use_X[i].dtype !='float64':\n",
        "    train_use_X[i] = train_use_X[i].apply(lambda x : clean_numbers(str(x))).astype('float64')\n",
        "    test_use_X[i] = test_use_X[i].apply(lambda x : clean_numbers(str(x))).astype('float64')\n",
        "\n",
        "for col in  categorical_features:\n",
        "  train_use_X[col] = train_use_X[col].str.replace('\"', '', regex=False)  # Remove double quotes\n",
        "  train_use_X[col] = train_use_X[col].str.replace('\\n', ' ', regex=False)\n",
        "  test_use_X[col] = test_use_X[col].str.replace('\"', '', regex=False)  # Remove double quotes\n",
        "  test_use_X[col] = test_use_X[col].str.replace('\\n', ' ', regex=False)"
      ]
    },
    {
      "cell_type": "code",
      "execution_count": null,
      "metadata": {
        "colab": {
          "base_uri": "https://localhost:8080/",
          "height": 1000
        },
        "id": "g2u3N9lPMCj2",
        "outputId": "adcda13f-de92-4716-adac-4edb0f651aaa"
      },
      "outputs": [
        {
          "name": "stdout",
          "output_type": "stream",
          "text": [
            "Parse progress: |████████████████████████████████████████████████████████████████| (done) 100%\n",
            "Parse progress: |████████████████████████████████████████████████████████████████| (done) 100%\n"
          ]
        },
        {
          "name": "stderr",
          "output_type": "stream",
          "text": [
            "<ipython-input-13-ace75062e149>:12: SettingWithCopyWarning: \n",
            "A value is trying to be set on a copy of a slice from a DataFrame.\n",
            "Try using .loc[row_indexer,col_indexer] = value instead\n",
            "\n",
            "See the caveats in the documentation: https://pandas.pydata.org/pandas-docs/stable/user_guide/indexing.html#returning-a-view-versus-a-copy\n",
            "  train['underpricing']= (train[val] - train['Final_Issue_Price'])/train['Final_Issue_Price']\n",
            "<ipython-input-13-ace75062e149>:13: SettingWithCopyWarning: \n",
            "A value is trying to be set on a copy of a slice from a DataFrame.\n",
            "Try using .loc[row_indexer,col_indexer] = value instead\n",
            "\n",
            "See the caveats in the documentation: https://pandas.pydata.org/pandas-docs/stable/user_guide/indexing.html#returning-a-view-versus-a-copy\n",
            "  test['underpricing']= (test[val] - test['Final_Issue_Price'])/test['Final_Issue_Price']\n"
          ]
        },
        {
          "name": "stdout",
          "output_type": "stream",
          "text": [
            "Parse progress: |████████████████████████████████████████████████████████████████| (done) 100%\n",
            "Parse progress: |████████████████████████████████████████████████████████████████| (done) 100%\n",
            "AutoML progress: |\n",
            "13:15:18.461: _train param, Dropping bad and constant columns: [4_reserves and surplus, Retail (Min)_Lots, 2_total borrowing, 2_reserves and surplus, 0_total borrowing, 1_reserves and surplus, 1_total borrowing, 3_reserves and surplus, 0_reserves and surplus, 3_total borrowing, Total Issue Size, 4_total borrowing]\n",
            "\n",
            "██\n",
            "13:15:36.944: _train param, Dropping bad and constant columns: [4_reserves and surplus, Retail (Min)_Lots, 2_total borrowing, 2_reserves and surplus, 0_total borrowing, 1_reserves and surplus, 1_total borrowing, 3_reserves and surplus, 0_reserves and surplus, 3_total borrowing, Total Issue Size, 4_total borrowing]\n",
            "\n",
            "█\n",
            "13:15:49.369: _train param, Dropping bad and constant columns: [4_reserves and surplus, Retail (Min)_Lots, 2_total borrowing, 2_reserves and surplus, 0_total borrowing, 1_reserves and surplus, 1_total borrowing, 3_reserves and surplus, 0_reserves and surplus, 3_total borrowing, Total Issue Size, 4_total borrowing]\n",
            "\n",
            "█\n",
            "13:15:55.794: _train param, Dropping bad and constant columns: [4_reserves and surplus, Retail (Min)_Lots, 2_total borrowing, 2_reserves and surplus, 0_total borrowing, 1_reserves and surplus, 1_total borrowing, 3_reserves and surplus, 0_reserves and surplus, 3_total borrowing, Total Issue Size, 4_total borrowing]\n",
            "\n",
            "█\n",
            "13:16:03.376: _train param, Dropping bad and constant columns: [4_reserves and surplus, Retail (Min)_Lots, 2_total borrowing, 2_reserves and surplus, 0_total borrowing, 1_reserves and surplus, 1_total borrowing, 3_reserves and surplus, 0_reserves and surplus, 3_total borrowing, Total Issue Size, 4_total borrowing]\n",
            "\n",
            "███\n",
            "13:16:32.547: _train param, Dropping bad and constant columns: [4_reserves and surplus, Retail (Min)_Lots, 2_total borrowing, 2_reserves and surplus, 0_total borrowing, 1_reserves and surplus, 1_total borrowing, 3_reserves and surplus, 0_reserves and surplus, 3_total borrowing, Total Issue Size, 4_total borrowing]\n",
            "\n",
            "\n",
            "13:16:37.617: _train param, Dropping bad and constant columns: [4_reserves and surplus, Retail (Min)_Lots, 2_total borrowing, 2_reserves and surplus, 0_total borrowing, 1_reserves and surplus, 1_total borrowing, 3_reserves and surplus, 0_reserves and surplus, 3_total borrowing, Total Issue Size, 4_total borrowing]\n",
            "\n",
            "█\n",
            "13:16:46.741: _train param, Dropping bad and constant columns: [4_reserves and surplus, Retail (Min)_Lots, 2_total borrowing, 2_reserves and surplus, 0_total borrowing, 1_reserves and surplus, 1_total borrowing, 3_reserves and surplus, 0_reserves and surplus, 3_total borrowing, Total Issue Size, 4_total borrowing]\n",
            "\n",
            "█\n",
            "13:16:53.177: _train param, Dropping bad and constant columns: [4_reserves and surplus, Retail (Min)_Lots, 2_total borrowing, 2_reserves and surplus, 0_total borrowing, 1_reserves and surplus, 1_total borrowing, 3_reserves and surplus, 0_reserves and surplus, 3_total borrowing, Total Issue Size, 4_total borrowing]\n",
            "\n",
            "█\n",
            "13:16:57.548: _train param, Dropping bad and constant columns: [4_reserves and surplus, Retail (Min)_Lots, 2_total borrowing, 2_reserves and surplus, 0_total borrowing, 1_reserves and surplus, 1_total borrowing, 3_reserves and surplus, 0_reserves and surplus, 3_total borrowing, Total Issue Size, 4_total borrowing]\n",
            "\n",
            "███\n",
            "13:17:22.702: _train param, Dropping bad and constant columns: [4_reserves and surplus, Retail (Min)_Lots, 2_total borrowing, 2_reserves and surplus, 0_total borrowing, 1_reserves and surplus, 1_total borrowing, 3_reserves and surplus, 0_reserves and surplus, 3_total borrowing, Total Issue Size, 4_total borrowing]\n",
            "\n",
            "\n",
            "13:17:28.595: _train param, Dropping bad and constant columns: [4_reserves and surplus, Retail (Min)_Lots, 2_total borrowing, 2_reserves and surplus, 0_total borrowing, 1_reserves and surplus, 1_total borrowing, 3_reserves and surplus, 0_reserves and surplus, 3_total borrowing, Total Issue Size, 4_total borrowing]\n",
            "\n",
            "███████████████████████████████████████████████\n",
            "13:28:57.940: _train param, Dropping unused columns: [4_reserves and surplus, Retail (Min)_Lots, 2_total borrowing, 2_reserves and surplus, 0_total borrowing, 1_reserves and surplus, 1_total borrowing, 3_reserves and surplus, 0_reserves and surplus, 3_total borrowing, Total Issue Size, 4_total borrowing]\n",
            "13:28:58.824: _train param, Dropping unused columns: [4_reserves and surplus, Retail (Min)_Lots, 2_total borrowing, 2_reserves and surplus, 0_total borrowing, 1_reserves and surplus, 1_total borrowing, 3_reserves and surplus, 0_reserves and surplus, 3_total borrowing, Total Issue Size, 4_total borrowing]\n",
            "\n",
            "██| (done) 100%\n"
          ]
        },
        {
          "data": {
            "text/html": [
              "<table class='dataframe'>\n",
              "<thead>\n",
              "<tr><th>model_id                                               </th><th style=\"text-align: right;\">    rmse</th><th style=\"text-align: right;\">      mse</th><th style=\"text-align: right;\">     mae</th><th style=\"text-align: right;\">     rmsle</th><th style=\"text-align: right;\">  mean_residual_deviance</th></tr>\n",
              "</thead>\n",
              "<tbody>\n",
              "<tr><td>StackedEnsemble_BestOfFamily_1_AutoML_1_20241025_131517</td><td style=\"text-align: right;\">0.213458</td><td style=\"text-align: right;\">0.0455642</td><td style=\"text-align: right;\">0.12425 </td><td style=\"text-align: right;\">  0.143583</td><td style=\"text-align: right;\">               0.0455642</td></tr>\n",
              "<tr><td>DeepLearning_grid_2_AutoML_1_20241025_131517_model_1   </td><td style=\"text-align: right;\">0.213998</td><td style=\"text-align: right;\">0.045795 </td><td style=\"text-align: right;\">0.126113</td><td style=\"text-align: right;\">  0.146021</td><td style=\"text-align: right;\">               0.045795 </td></tr>\n",
              "<tr><td>DeepLearning_grid_3_AutoML_1_20241025_131517_model_1   </td><td style=\"text-align: right;\">0.214105</td><td style=\"text-align: right;\">0.0458411</td><td style=\"text-align: right;\">0.12962 </td><td style=\"text-align: right;\">  0.148366</td><td style=\"text-align: right;\">               0.0458411</td></tr>\n",
              "<tr><td>DeepLearning_grid_1_AutoML_1_20241025_131517_model_1   </td><td style=\"text-align: right;\">0.214831</td><td style=\"text-align: right;\">0.0461523</td><td style=\"text-align: right;\">0.130481</td><td style=\"text-align: right;\">  0.148853</td><td style=\"text-align: right;\">               0.0461523</td></tr>\n",
              "<tr><td>StackedEnsemble_AllModels_1_AutoML_1_20241025_131517   </td><td style=\"text-align: right;\">0.216022</td><td style=\"text-align: right;\">0.0466657</td><td style=\"text-align: right;\">0.126217</td><td style=\"text-align: right;\">  0.144867</td><td style=\"text-align: right;\">               0.0466657</td></tr>\n",
              "<tr><td>XRT_1_AutoML_1_20241025_131517                         </td><td style=\"text-align: right;\">0.233344</td><td style=\"text-align: right;\">0.0544495</td><td style=\"text-align: right;\">0.138383</td><td style=\"text-align: right;\">  0.156397</td><td style=\"text-align: right;\">               0.0544495</td></tr>\n",
              "<tr><td>DeepLearning_1_AutoML_1_20241025_131517                </td><td style=\"text-align: right;\">0.23581 </td><td style=\"text-align: right;\">0.0556062</td><td style=\"text-align: right;\">0.144811</td><td style=\"text-align: right;\">  0.16768 </td><td style=\"text-align: right;\">               0.0556062</td></tr>\n",
              "<tr><td>XGBoost_grid_1_AutoML_1_20241025_131517_model_2        </td><td style=\"text-align: right;\">0.240296</td><td style=\"text-align: right;\">0.057742 </td><td style=\"text-align: right;\">0.147595</td><td style=\"text-align: right;\">  0.165127</td><td style=\"text-align: right;\">               0.057742 </td></tr>\n",
              "<tr><td>XGBoost_3_AutoML_1_20241025_131517                     </td><td style=\"text-align: right;\">0.244503</td><td style=\"text-align: right;\">0.0597818</td><td style=\"text-align: right;\">0.142845</td><td style=\"text-align: right;\">  0.165701</td><td style=\"text-align: right;\">               0.0597818</td></tr>\n",
              "<tr><td>XGBoost_grid_1_AutoML_1_20241025_131517_model_1        </td><td style=\"text-align: right;\">0.248112</td><td style=\"text-align: right;\">0.0615594</td><td style=\"text-align: right;\">0.155437</td><td style=\"text-align: right;\">  0.171832</td><td style=\"text-align: right;\">               0.0615594</td></tr>\n",
              "<tr><td>XGBoost_1_AutoML_1_20241025_131517                     </td><td style=\"text-align: right;\">0.250292</td><td style=\"text-align: right;\">0.062646 </td><td style=\"text-align: right;\">0.158549</td><td style=\"text-align: right;\">  0.171049</td><td style=\"text-align: right;\">               0.062646 </td></tr>\n",
              "<tr><td>XGBoost_grid_1_AutoML_1_20241025_131517_model_3        </td><td style=\"text-align: right;\">0.253186</td><td style=\"text-align: right;\">0.0641034</td><td style=\"text-align: right;\">0.142645</td><td style=\"text-align: right;\">  0.169318</td><td style=\"text-align: right;\">               0.0641034</td></tr>\n",
              "<tr><td>XGBoost_2_AutoML_1_20241025_131517                     </td><td style=\"text-align: right;\">0.257086</td><td style=\"text-align: right;\">0.0660935</td><td style=\"text-align: right;\">0.162875</td><td style=\"text-align: right;\">  0.178217</td><td style=\"text-align: right;\">               0.0660935</td></tr>\n",
              "<tr><td>GLM_1_AutoML_1_20241025_131517                         </td><td style=\"text-align: right;\">0.277685</td><td style=\"text-align: right;\">0.0771091</td><td style=\"text-align: right;\">0.148021</td><td style=\"text-align: right;\">nan       </td><td style=\"text-align: right;\">               0.0771091</td></tr>\n",
              "<tr><td>GBM_grid_1_AutoML_1_20241025_131517_model_1            </td><td style=\"text-align: right;\">0.294445</td><td style=\"text-align: right;\">0.0866978</td><td style=\"text-align: right;\">0.157862</td><td style=\"text-align: right;\">  0.197547</td><td style=\"text-align: right;\">               0.0866978</td></tr>\n",
              "<tr><td>GBM_1_AutoML_1_20241025_131517                         </td><td style=\"text-align: right;\">0.309756</td><td style=\"text-align: right;\">0.0959485</td><td style=\"text-align: right;\">0.16989 </td><td style=\"text-align: right;\">  0.212852</td><td style=\"text-align: right;\">               0.0959485</td></tr>\n",
              "<tr><td>DRF_1_AutoML_1_20241025_131517                         </td><td style=\"text-align: right;\">0.313327</td><td style=\"text-align: right;\">0.098174 </td><td style=\"text-align: right;\">0.164935</td><td style=\"text-align: right;\">  0.21419 </td><td style=\"text-align: right;\">               0.098174 </td></tr>\n",
              "<tr><td>GBM_3_AutoML_1_20241025_131517                         </td><td style=\"text-align: right;\">0.31606 </td><td style=\"text-align: right;\">0.0998938</td><td style=\"text-align: right;\">0.170009</td><td style=\"text-align: right;\">  0.217561</td><td style=\"text-align: right;\">               0.0998938</td></tr>\n",
              "<tr><td>GBM_grid_1_AutoML_1_20241025_131517_model_2            </td><td style=\"text-align: right;\">0.316495</td><td style=\"text-align: right;\">0.100169 </td><td style=\"text-align: right;\">0.172013</td><td style=\"text-align: right;\">  0.218166</td><td style=\"text-align: right;\">               0.100169 </td></tr>\n",
              "<tr><td>GBM_2_AutoML_1_20241025_131517                         </td><td style=\"text-align: right;\">0.317188</td><td style=\"text-align: right;\">0.100608 </td><td style=\"text-align: right;\">0.173345</td><td style=\"text-align: right;\">  0.219046</td><td style=\"text-align: right;\">               0.100608 </td></tr>\n",
              "<tr><td>GBM_5_AutoML_1_20241025_131517                         </td><td style=\"text-align: right;\">0.320127</td><td style=\"text-align: right;\">0.102482 </td><td style=\"text-align: right;\">0.175499</td><td style=\"text-align: right;\">  0.221869</td><td style=\"text-align: right;\">               0.102482 </td></tr>\n",
              "<tr><td>GBM_4_AutoML_1_20241025_131517                         </td><td style=\"text-align: right;\">0.321243</td><td style=\"text-align: right;\">0.103197 </td><td style=\"text-align: right;\">0.177084</td><td style=\"text-align: right;\">  0.223181</td><td style=\"text-align: right;\">               0.103197 </td></tr>\n",
              "</tbody>\n",
              "</table><pre style='font-size: smaller; margin-bottom: 1em;'>[22 rows x 6 columns]</pre>"
            ],
            "text/plain": [
              "model_id                                                     rmse        mse       mae       rmsle    mean_residual_deviance\n",
              "-------------------------------------------------------  --------  ---------  --------  ----------  ------------------------\n",
              "StackedEnsemble_BestOfFamily_1_AutoML_1_20241025_131517  0.213458  0.0455642  0.12425     0.143583                 0.0455642\n",
              "DeepLearning_grid_2_AutoML_1_20241025_131517_model_1     0.213998  0.045795   0.126113    0.146021                 0.045795\n",
              "DeepLearning_grid_3_AutoML_1_20241025_131517_model_1     0.214105  0.0458411  0.12962     0.148366                 0.0458411\n",
              "DeepLearning_grid_1_AutoML_1_20241025_131517_model_1     0.214831  0.0461523  0.130481    0.148853                 0.0461523\n",
              "StackedEnsemble_AllModels_1_AutoML_1_20241025_131517     0.216022  0.0466657  0.126217    0.144867                 0.0466657\n",
              "XRT_1_AutoML_1_20241025_131517                           0.233344  0.0544495  0.138383    0.156397                 0.0544495\n",
              "DeepLearning_1_AutoML_1_20241025_131517                  0.23581   0.0556062  0.144811    0.16768                  0.0556062\n",
              "XGBoost_grid_1_AutoML_1_20241025_131517_model_2          0.240296  0.057742   0.147595    0.165127                 0.057742\n",
              "XGBoost_3_AutoML_1_20241025_131517                       0.244503  0.0597818  0.142845    0.165701                 0.0597818\n",
              "XGBoost_grid_1_AutoML_1_20241025_131517_model_1          0.248112  0.0615594  0.155437    0.171832                 0.0615594\n",
              "XGBoost_1_AutoML_1_20241025_131517                       0.250292  0.062646   0.158549    0.171049                 0.062646\n",
              "XGBoost_grid_1_AutoML_1_20241025_131517_model_3          0.253186  0.0641034  0.142645    0.169318                 0.0641034\n",
              "XGBoost_2_AutoML_1_20241025_131517                       0.257086  0.0660935  0.162875    0.178217                 0.0660935\n",
              "GLM_1_AutoML_1_20241025_131517                           0.277685  0.0771091  0.148021  nan                        0.0771091\n",
              "GBM_grid_1_AutoML_1_20241025_131517_model_1              0.294445  0.0866978  0.157862    0.197547                 0.0866978\n",
              "GBM_1_AutoML_1_20241025_131517                           0.309756  0.0959485  0.16989     0.212852                 0.0959485\n",
              "DRF_1_AutoML_1_20241025_131517                           0.313327  0.098174   0.164935    0.21419                  0.098174\n",
              "GBM_3_AutoML_1_20241025_131517                           0.31606   0.0998938  0.170009    0.217561                 0.0998938\n",
              "GBM_grid_1_AutoML_1_20241025_131517_model_2              0.316495  0.100169   0.172013    0.218166                 0.100169\n",
              "GBM_2_AutoML_1_20241025_131517                           0.317188  0.100608   0.173345    0.219046                 0.100608\n",
              "GBM_5_AutoML_1_20241025_131517                           0.320127  0.102482   0.175499    0.221869                 0.102482\n",
              "GBM_4_AutoML_1_20241025_131517                           0.321243  0.103197   0.177084    0.223181                 0.103197\n",
              "[22 rows x 6 columns]\n"
            ]
          },
          "execution_count": 13,
          "metadata": {},
          "output_type": "execute_result"
        }
      ],
      "source": [
        "h2o_train = h2o.H2OFrame(train_use_X)  # Convert train DataFrame to H2OFrame\n",
        "h2o_test = h2o.H2OFrame(test_use_X)  # Convert test DataFrame to H2OFrame\n",
        "\n",
        "# train['underpricing']= (train[y] - train['Final_Issue_Price'])/train['Final_Issue_Price']\n",
        "# test['underpricing']= (test[y] - test['Final_Issue_Price'])/test['Final_Issue_Price']\n",
        "if y == 'Success_Open':\n",
        "  val = 'NSE_Open'\n",
        "if y == 'Success_Close':\n",
        "  val = 'NSE_Last_Trade'\n",
        "if y == 'Success_High':\n",
        "  val = 'NSE_High'\n",
        "train['underpricing']= (train[val] - train['Final_Issue_Price'])/train['Final_Issue_Price']\n",
        "test['underpricing']= (test[val] - test['Final_Issue_Price'])/test['Final_Issue_Price']\n",
        "# Identify predictors and response\n",
        "# x = train.columns\n",
        "# y = \"response\"\n",
        "# x.remove(y)\n",
        "\n",
        "x= numeric_features + categorical_features + text_features_probab #+ text_features\n",
        "\n",
        "\n",
        "# h2o_train[y] = h2o.H2OFrame(train[y].to_list()).asfactor()  # Convert Pandas Series to H2OFrame before assigning\n",
        "# h2o_test[y] = h2o.H2OFrame(test[y].to_list()).asfactor()  # Convert Pandas Series to H2OFrame before assigning\n",
        "h2o_train[y] = h2o.H2OFrame(train['underpricing'].to_list()) #h2o.H2OFrame(train[y].to_list()).asfactor()  # Convert Pandas Series to H2OFrame before assigning\n",
        "h2o_test[y] =  h2o.H2OFrame(test['underpricing'].to_list()) #h2o.H2OFrame(test[y].to_list()).asfactor()  # Convert Pandas Series to H2OFrame before assigning\n",
        "\n",
        "# For binary classification, response should be a factor\n",
        "# train[y] = train[y].asfactor()\n",
        "# test[y] = test[y].asfactor()\n",
        "\n",
        "# Run AutoML for 20 base models\n",
        "aml = H2OAutoML(max_models=20, seed=1)\n",
        "aml.train(x=x, y=y, training_frame=h2o_train)\n",
        "\n",
        "# View the AutoML Leaderboard\n",
        "lb = aml.leaderboard\n",
        "lb.head(rows=lb.nrows)"
      ]
    },
    {
      "cell_type": "code",
      "execution_count": null,
      "metadata": {
        "colab": {
          "base_uri": "https://localhost:8080/",
          "height": 765
        },
        "id": "q20RofCNMVbl",
        "outputId": "abfcdedd-bd43-4d2f-80d5-6c0ac3e1823b"
      },
      "outputs": [
        {
          "data": {
            "text/html": [
              "<table class='dataframe'>\n",
              "<thead>\n",
              "<tr><th>model_id                                               </th><th style=\"text-align: right;\">    rmse</th><th style=\"text-align: right;\">      mse</th><th style=\"text-align: right;\">     mae</th><th style=\"text-align: right;\">     rmsle</th><th style=\"text-align: right;\">  mean_residual_deviance</th></tr>\n",
              "</thead>\n",
              "<tbody>\n",
              "<tr><td>StackedEnsemble_BestOfFamily_1_AutoML_1_20241025_131517</td><td style=\"text-align: right;\">0.213458</td><td style=\"text-align: right;\">0.0455642</td><td style=\"text-align: right;\">0.12425 </td><td style=\"text-align: right;\">  0.143583</td><td style=\"text-align: right;\">               0.0455642</td></tr>\n",
              "<tr><td>DeepLearning_grid_2_AutoML_1_20241025_131517_model_1   </td><td style=\"text-align: right;\">0.213998</td><td style=\"text-align: right;\">0.045795 </td><td style=\"text-align: right;\">0.126113</td><td style=\"text-align: right;\">  0.146021</td><td style=\"text-align: right;\">               0.045795 </td></tr>\n",
              "<tr><td>DeepLearning_grid_3_AutoML_1_20241025_131517_model_1   </td><td style=\"text-align: right;\">0.214105</td><td style=\"text-align: right;\">0.0458411</td><td style=\"text-align: right;\">0.12962 </td><td style=\"text-align: right;\">  0.148366</td><td style=\"text-align: right;\">               0.0458411</td></tr>\n",
              "<tr><td>DeepLearning_grid_1_AutoML_1_20241025_131517_model_1   </td><td style=\"text-align: right;\">0.214831</td><td style=\"text-align: right;\">0.0461523</td><td style=\"text-align: right;\">0.130481</td><td style=\"text-align: right;\">  0.148853</td><td style=\"text-align: right;\">               0.0461523</td></tr>\n",
              "<tr><td>StackedEnsemble_AllModels_1_AutoML_1_20241025_131517   </td><td style=\"text-align: right;\">0.216022</td><td style=\"text-align: right;\">0.0466657</td><td style=\"text-align: right;\">0.126217</td><td style=\"text-align: right;\">  0.144867</td><td style=\"text-align: right;\">               0.0466657</td></tr>\n",
              "<tr><td>XRT_1_AutoML_1_20241025_131517                         </td><td style=\"text-align: right;\">0.233344</td><td style=\"text-align: right;\">0.0544495</td><td style=\"text-align: right;\">0.138383</td><td style=\"text-align: right;\">  0.156397</td><td style=\"text-align: right;\">               0.0544495</td></tr>\n",
              "<tr><td>DeepLearning_1_AutoML_1_20241025_131517                </td><td style=\"text-align: right;\">0.23581 </td><td style=\"text-align: right;\">0.0556062</td><td style=\"text-align: right;\">0.144811</td><td style=\"text-align: right;\">  0.16768 </td><td style=\"text-align: right;\">               0.0556062</td></tr>\n",
              "<tr><td>XGBoost_grid_1_AutoML_1_20241025_131517_model_2        </td><td style=\"text-align: right;\">0.240296</td><td style=\"text-align: right;\">0.057742 </td><td style=\"text-align: right;\">0.147595</td><td style=\"text-align: right;\">  0.165127</td><td style=\"text-align: right;\">               0.057742 </td></tr>\n",
              "<tr><td>XGBoost_3_AutoML_1_20241025_131517                     </td><td style=\"text-align: right;\">0.244503</td><td style=\"text-align: right;\">0.0597818</td><td style=\"text-align: right;\">0.142845</td><td style=\"text-align: right;\">  0.165701</td><td style=\"text-align: right;\">               0.0597818</td></tr>\n",
              "<tr><td>XGBoost_grid_1_AutoML_1_20241025_131517_model_1        </td><td style=\"text-align: right;\">0.248112</td><td style=\"text-align: right;\">0.0615594</td><td style=\"text-align: right;\">0.155437</td><td style=\"text-align: right;\">  0.171832</td><td style=\"text-align: right;\">               0.0615594</td></tr>\n",
              "<tr><td>XGBoost_1_AutoML_1_20241025_131517                     </td><td style=\"text-align: right;\">0.250292</td><td style=\"text-align: right;\">0.062646 </td><td style=\"text-align: right;\">0.158549</td><td style=\"text-align: right;\">  0.171049</td><td style=\"text-align: right;\">               0.062646 </td></tr>\n",
              "<tr><td>XGBoost_grid_1_AutoML_1_20241025_131517_model_3        </td><td style=\"text-align: right;\">0.253186</td><td style=\"text-align: right;\">0.0641034</td><td style=\"text-align: right;\">0.142645</td><td style=\"text-align: right;\">  0.169318</td><td style=\"text-align: right;\">               0.0641034</td></tr>\n",
              "<tr><td>XGBoost_2_AutoML_1_20241025_131517                     </td><td style=\"text-align: right;\">0.257086</td><td style=\"text-align: right;\">0.0660935</td><td style=\"text-align: right;\">0.162875</td><td style=\"text-align: right;\">  0.178217</td><td style=\"text-align: right;\">               0.0660935</td></tr>\n",
              "<tr><td>GLM_1_AutoML_1_20241025_131517                         </td><td style=\"text-align: right;\">0.277685</td><td style=\"text-align: right;\">0.0771091</td><td style=\"text-align: right;\">0.148021</td><td style=\"text-align: right;\">nan       </td><td style=\"text-align: right;\">               0.0771091</td></tr>\n",
              "<tr><td>GBM_grid_1_AutoML_1_20241025_131517_model_1            </td><td style=\"text-align: right;\">0.294445</td><td style=\"text-align: right;\">0.0866978</td><td style=\"text-align: right;\">0.157862</td><td style=\"text-align: right;\">  0.197547</td><td style=\"text-align: right;\">               0.0866978</td></tr>\n",
              "<tr><td>GBM_1_AutoML_1_20241025_131517                         </td><td style=\"text-align: right;\">0.309756</td><td style=\"text-align: right;\">0.0959485</td><td style=\"text-align: right;\">0.16989 </td><td style=\"text-align: right;\">  0.212852</td><td style=\"text-align: right;\">               0.0959485</td></tr>\n",
              "<tr><td>DRF_1_AutoML_1_20241025_131517                         </td><td style=\"text-align: right;\">0.313327</td><td style=\"text-align: right;\">0.098174 </td><td style=\"text-align: right;\">0.164935</td><td style=\"text-align: right;\">  0.21419 </td><td style=\"text-align: right;\">               0.098174 </td></tr>\n",
              "<tr><td>GBM_3_AutoML_1_20241025_131517                         </td><td style=\"text-align: right;\">0.31606 </td><td style=\"text-align: right;\">0.0998938</td><td style=\"text-align: right;\">0.170009</td><td style=\"text-align: right;\">  0.217561</td><td style=\"text-align: right;\">               0.0998938</td></tr>\n",
              "<tr><td>GBM_grid_1_AutoML_1_20241025_131517_model_2            </td><td style=\"text-align: right;\">0.316495</td><td style=\"text-align: right;\">0.100169 </td><td style=\"text-align: right;\">0.172013</td><td style=\"text-align: right;\">  0.218166</td><td style=\"text-align: right;\">               0.100169 </td></tr>\n",
              "<tr><td>GBM_2_AutoML_1_20241025_131517                         </td><td style=\"text-align: right;\">0.317188</td><td style=\"text-align: right;\">0.100608 </td><td style=\"text-align: right;\">0.173345</td><td style=\"text-align: right;\">  0.219046</td><td style=\"text-align: right;\">               0.100608 </td></tr>\n",
              "<tr><td>GBM_5_AutoML_1_20241025_131517                         </td><td style=\"text-align: right;\">0.320127</td><td style=\"text-align: right;\">0.102482 </td><td style=\"text-align: right;\">0.175499</td><td style=\"text-align: right;\">  0.221869</td><td style=\"text-align: right;\">               0.102482 </td></tr>\n",
              "<tr><td>GBM_4_AutoML_1_20241025_131517                         </td><td style=\"text-align: right;\">0.321243</td><td style=\"text-align: right;\">0.103197 </td><td style=\"text-align: right;\">0.177084</td><td style=\"text-align: right;\">  0.223181</td><td style=\"text-align: right;\">               0.103197 </td></tr>\n",
              "</tbody>\n",
              "</table><pre style='font-size: smaller; margin-bottom: 1em;'>[22 rows x 6 columns]</pre>"
            ],
            "text/plain": [
              "model_id                                                     rmse        mse       mae       rmsle    mean_residual_deviance\n",
              "-------------------------------------------------------  --------  ---------  --------  ----------  ------------------------\n",
              "StackedEnsemble_BestOfFamily_1_AutoML_1_20241025_131517  0.213458  0.0455642  0.12425     0.143583                 0.0455642\n",
              "DeepLearning_grid_2_AutoML_1_20241025_131517_model_1     0.213998  0.045795   0.126113    0.146021                 0.045795\n",
              "DeepLearning_grid_3_AutoML_1_20241025_131517_model_1     0.214105  0.0458411  0.12962     0.148366                 0.0458411\n",
              "DeepLearning_grid_1_AutoML_1_20241025_131517_model_1     0.214831  0.0461523  0.130481    0.148853                 0.0461523\n",
              "StackedEnsemble_AllModels_1_AutoML_1_20241025_131517     0.216022  0.0466657  0.126217    0.144867                 0.0466657\n",
              "XRT_1_AutoML_1_20241025_131517                           0.233344  0.0544495  0.138383    0.156397                 0.0544495\n",
              "DeepLearning_1_AutoML_1_20241025_131517                  0.23581   0.0556062  0.144811    0.16768                  0.0556062\n",
              "XGBoost_grid_1_AutoML_1_20241025_131517_model_2          0.240296  0.057742   0.147595    0.165127                 0.057742\n",
              "XGBoost_3_AutoML_1_20241025_131517                       0.244503  0.0597818  0.142845    0.165701                 0.0597818\n",
              "XGBoost_grid_1_AutoML_1_20241025_131517_model_1          0.248112  0.0615594  0.155437    0.171832                 0.0615594\n",
              "XGBoost_1_AutoML_1_20241025_131517                       0.250292  0.062646   0.158549    0.171049                 0.062646\n",
              "XGBoost_grid_1_AutoML_1_20241025_131517_model_3          0.253186  0.0641034  0.142645    0.169318                 0.0641034\n",
              "XGBoost_2_AutoML_1_20241025_131517                       0.257086  0.0660935  0.162875    0.178217                 0.0660935\n",
              "GLM_1_AutoML_1_20241025_131517                           0.277685  0.0771091  0.148021  nan                        0.0771091\n",
              "GBM_grid_1_AutoML_1_20241025_131517_model_1              0.294445  0.0866978  0.157862    0.197547                 0.0866978\n",
              "GBM_1_AutoML_1_20241025_131517                           0.309756  0.0959485  0.16989     0.212852                 0.0959485\n",
              "DRF_1_AutoML_1_20241025_131517                           0.313327  0.098174   0.164935    0.21419                  0.098174\n",
              "GBM_3_AutoML_1_20241025_131517                           0.31606   0.0998938  0.170009    0.217561                 0.0998938\n",
              "GBM_grid_1_AutoML_1_20241025_131517_model_2              0.316495  0.100169   0.172013    0.218166                 0.100169\n",
              "GBM_2_AutoML_1_20241025_131517                           0.317188  0.100608   0.173345    0.219046                 0.100608\n",
              "GBM_5_AutoML_1_20241025_131517                           0.320127  0.102482   0.175499    0.221869                 0.102482\n",
              "GBM_4_AutoML_1_20241025_131517                           0.321243  0.103197   0.177084    0.223181                 0.103197\n",
              "[22 rows x 6 columns]\n"
            ]
          },
          "execution_count": 14,
          "metadata": {},
          "output_type": "execute_result"
        }
      ],
      "source": [
        "lb"
      ]
    },
    {
      "cell_type": "code",
      "execution_count": null,
      "metadata": {
        "colab": {
          "base_uri": "https://localhost:8080/",
          "height": 409
        },
        "id": "Cr96t4puMHxY",
        "outputId": "32d4f11f-ad63-4e44-ae42-c3a9a4eca85b"
      },
      "outputs": [
        {
          "data": {
            "text/html": [
              "<table class='dataframe'>\n",
              "<thead>\n",
              "<tr><th>model_id                                               </th><th style=\"text-align: right;\">    rmse</th><th style=\"text-align: right;\">      mse</th><th style=\"text-align: right;\">     mae</th><th style=\"text-align: right;\">   rmsle</th><th style=\"text-align: right;\">  mean_residual_deviance</th><th style=\"text-align: right;\">  training_time_ms</th><th style=\"text-align: right;\">  predict_time_per_row_ms</th><th>algo           </th></tr>\n",
              "</thead>\n",
              "<tbody>\n",
              "<tr><td>StackedEnsemble_BestOfFamily_1_AutoML_1_20241025_131517</td><td style=\"text-align: right;\">0.213458</td><td style=\"text-align: right;\">0.0455642</td><td style=\"text-align: right;\">0.12425 </td><td style=\"text-align: right;\">0.143583</td><td style=\"text-align: right;\">               0.0455642</td><td style=\"text-align: right;\">               843</td><td style=\"text-align: right;\">                 0.898598</td><td>StackedEnsemble</td></tr>\n",
              "<tr><td>DeepLearning_grid_2_AutoML_1_20241025_131517_model_1   </td><td style=\"text-align: right;\">0.213998</td><td style=\"text-align: right;\">0.045795 </td><td style=\"text-align: right;\">0.126113</td><td style=\"text-align: right;\">0.146021</td><td style=\"text-align: right;\">               0.045795 </td><td style=\"text-align: right;\">             43119</td><td style=\"text-align: right;\">                 0.843359</td><td>DeepLearning   </td></tr>\n",
              "<tr><td>DeepLearning_grid_3_AutoML_1_20241025_131517_model_1   </td><td style=\"text-align: right;\">0.214105</td><td style=\"text-align: right;\">0.0458411</td><td style=\"text-align: right;\">0.12962 </td><td style=\"text-align: right;\">0.148366</td><td style=\"text-align: right;\">               0.0458411</td><td style=\"text-align: right;\">             50692</td><td style=\"text-align: right;\">                 0.720923</td><td>DeepLearning   </td></tr>\n",
              "<tr><td>DeepLearning_grid_1_AutoML_1_20241025_131517_model_1   </td><td style=\"text-align: right;\">0.214831</td><td style=\"text-align: right;\">0.0461523</td><td style=\"text-align: right;\">0.130481</td><td style=\"text-align: right;\">0.148853</td><td style=\"text-align: right;\">               0.0461523</td><td style=\"text-align: right;\">             31389</td><td style=\"text-align: right;\">                 0.62168 </td><td>DeepLearning   </td></tr>\n",
              "<tr><td>StackedEnsemble_AllModels_1_AutoML_1_20241025_131517   </td><td style=\"text-align: right;\">0.216022</td><td style=\"text-align: right;\">0.0466657</td><td style=\"text-align: right;\">0.126217</td><td style=\"text-align: right;\">0.144867</td><td style=\"text-align: right;\">               0.0466657</td><td style=\"text-align: right;\">               970</td><td style=\"text-align: right;\">                 2.51595 </td><td>StackedEnsemble</td></tr>\n",
              "<tr><td>XRT_1_AutoML_1_20241025_131517                         </td><td style=\"text-align: right;\">0.233344</td><td style=\"text-align: right;\">0.0544495</td><td style=\"text-align: right;\">0.138383</td><td style=\"text-align: right;\">0.156397</td><td style=\"text-align: right;\">               0.0544495</td><td style=\"text-align: right;\">              4549</td><td style=\"text-align: right;\">                 0.085157</td><td>DRF            </td></tr>\n",
              "<tr><td>DeepLearning_1_AutoML_1_20241025_131517                </td><td style=\"text-align: right;\">0.23581 </td><td style=\"text-align: right;\">0.0556062</td><td style=\"text-align: right;\">0.144811</td><td style=\"text-align: right;\">0.16768 </td><td style=\"text-align: right;\">               0.0556062</td><td style=\"text-align: right;\">               928</td><td style=\"text-align: right;\">                 0.098025</td><td>DeepLearning   </td></tr>\n",
              "<tr><td>XGBoost_grid_1_AutoML_1_20241025_131517_model_2        </td><td style=\"text-align: right;\">0.240296</td><td style=\"text-align: right;\">0.057742 </td><td style=\"text-align: right;\">0.147595</td><td style=\"text-align: right;\">0.165127</td><td style=\"text-align: right;\">               0.057742 </td><td style=\"text-align: right;\">               856</td><td style=\"text-align: right;\">                 0.027145</td><td>XGBoost        </td></tr>\n",
              "<tr><td>XGBoost_3_AutoML_1_20241025_131517                     </td><td style=\"text-align: right;\">0.244503</td><td style=\"text-align: right;\">0.0597818</td><td style=\"text-align: right;\">0.142845</td><td style=\"text-align: right;\">0.165701</td><td style=\"text-align: right;\">               0.0597818</td><td style=\"text-align: right;\">               610</td><td style=\"text-align: right;\">                 0.038605</td><td>XGBoost        </td></tr>\n",
              "<tr><td>XGBoost_grid_1_AutoML_1_20241025_131517_model_1        </td><td style=\"text-align: right;\">0.248112</td><td style=\"text-align: right;\">0.0615594</td><td style=\"text-align: right;\">0.155437</td><td style=\"text-align: right;\">0.171832</td><td style=\"text-align: right;\">               0.0615594</td><td style=\"text-align: right;\">               714</td><td style=\"text-align: right;\">                 0.034781</td><td>XGBoost        </td></tr>\n",
              "</tbody>\n",
              "</table><pre style='font-size: smaller; margin-bottom: 1em;'>[22 rows x 9 columns]</pre>"
            ],
            "text/plain": [
              "model_id                                                     rmse        mse       mae     rmsle    mean_residual_deviance    training_time_ms    predict_time_per_row_ms  algo\n",
              "-------------------------------------------------------  --------  ---------  --------  --------  ------------------------  ------------------  -------------------------  ---------------\n",
              "StackedEnsemble_BestOfFamily_1_AutoML_1_20241025_131517  0.213458  0.0455642  0.12425   0.143583                 0.0455642                 843                   0.898598  StackedEnsemble\n",
              "DeepLearning_grid_2_AutoML_1_20241025_131517_model_1     0.213998  0.045795   0.126113  0.146021                 0.045795                43119                   0.843359  DeepLearning\n",
              "DeepLearning_grid_3_AutoML_1_20241025_131517_model_1     0.214105  0.0458411  0.12962   0.148366                 0.0458411               50692                   0.720923  DeepLearning\n",
              "DeepLearning_grid_1_AutoML_1_20241025_131517_model_1     0.214831  0.0461523  0.130481  0.148853                 0.0461523               31389                   0.62168   DeepLearning\n",
              "StackedEnsemble_AllModels_1_AutoML_1_20241025_131517     0.216022  0.0466657  0.126217  0.144867                 0.0466657                 970                   2.51595   StackedEnsemble\n",
              "XRT_1_AutoML_1_20241025_131517                           0.233344  0.0544495  0.138383  0.156397                 0.0544495                4549                   0.085157  DRF\n",
              "DeepLearning_1_AutoML_1_20241025_131517                  0.23581   0.0556062  0.144811  0.16768                  0.0556062                 928                   0.098025  DeepLearning\n",
              "XGBoost_grid_1_AutoML_1_20241025_131517_model_2          0.240296  0.057742   0.147595  0.165127                 0.057742                  856                   0.027145  XGBoost\n",
              "XGBoost_3_AutoML_1_20241025_131517                       0.244503  0.0597818  0.142845  0.165701                 0.0597818                 610                   0.038605  XGBoost\n",
              "XGBoost_grid_1_AutoML_1_20241025_131517_model_1          0.248112  0.0615594  0.155437  0.171832                 0.0615594                 714                   0.034781  XGBoost\n",
              "[22 rows x 9 columns]\n"
            ]
          },
          "execution_count": 15,
          "metadata": {},
          "output_type": "execute_result"
        }
      ],
      "source": [
        "lb = h2o.automl.get_leaderboard(aml, extra_columns = \"ALL\")\n",
        "lb"
      ]
    },
    {
      "cell_type": "code",
      "execution_count": null,
      "metadata": {
        "colab": {
          "base_uri": "https://localhost:8080/"
        },
        "id": "cIEL8CoJMa4e",
        "outputId": "db5b11cf-46a4-45aa-99ef-4d8b83fb9152"
      },
      "outputs": [
        {
          "name": "stdout",
          "output_type": "stream",
          "text": [
            "Model Details\n",
            "=============\n",
            "H2OStackedEnsembleEstimator : Stacked Ensemble\n",
            "Model Key: StackedEnsemble_BestOfFamily_1_AutoML_1_20241025_131517\n",
            "\n",
            "\n",
            "Model Summary for Stacked Ensemble: \n",
            "key                                        value\n",
            "-----------------------------------------  ----------------\n",
            "Stacking strategy                          cross_validation\n",
            "Number of base models (used / total)       4/6\n",
            "# GBM base models (used / total)           0/1\n",
            "# XGBoost base models (used / total)       1/1\n",
            "# DeepLearning base models (used / total)  1/1\n",
            "# DRF base models (used / total)           1/2\n",
            "# GLM base models (used / total)           1/1\n",
            "Metalearner algorithm                      GLM\n",
            "Metalearner fold assignment scheme         Random\n",
            "Metalearner nfolds                         5\n",
            "Metalearner fold_column\n",
            "Custom metalearner hyperparameters         None\n",
            "\n",
            "ModelMetricsRegressionGLM: stackedensemble\n",
            "** Reported on train data. **\n",
            "\n",
            "MSE: 0.0021401440757201585\n",
            "RMSE: 0.04626169123281334\n",
            "MAE: 0.03397583455816819\n",
            "RMSLE: 0.03731911263877774\n",
            "Mean Residual Deviance: 0.0021401440757201585\n",
            "R^2: 0.9774251063153814\n",
            "Null degrees of freedom: 360\n",
            "Residual degrees of freedom: 356\n",
            "Null deviance: 34.22350608283844\n",
            "Residual deviance: 0.7725920113349772\n",
            "AIC: -1182.5508269135614\n",
            "\n",
            "ModelMetricsRegressionGLM: stackedensemble\n",
            "** Reported on cross-validation data. **\n",
            "\n",
            "MSE: 0.045564163365601894\n",
            "RMSE: 0.21345763833979306\n",
            "MAE: 0.12424984691243825\n",
            "RMSLE: 0.14358252351544426\n",
            "Mean Residual Deviance: 0.045564163365601894\n",
            "R^2: 0.51937528156326\n",
            "Null degrees of freedom: 360\n",
            "Residual degrees of freedom: 356\n",
            "Null deviance: 34.56909087427962\n",
            "Residual deviance: 16.448662974982284\n",
            "AIC: -78.52316730364416\n",
            "\n",
            "Cross-Validation Metrics Summary: \n",
            "                        mean       sd         cv_1_valid    cv_2_valid    cv_3_valid    cv_4_valid    cv_5_valid\n",
            "----------------------  ---------  ---------  ------------  ------------  ------------  ------------  ------------\n",
            "aic                     -16.7636   41.9393    44.7177       -37.94        1.12025       -65.7884      -25.9275\n",
            "loglikelihood           0          0          0             0             0             0             0\n",
            "mae                     0.123859   0.0211721  0.14419       0.119251      0.140882      0.0911688     0.123804\n",
            "mean_residual_deviance  0.0454507  0.0289573  0.0928227     0.0320787     0.0500089     0.0170328     0.0353104\n",
            "mse                     0.0454507  0.0289573  0.0928227     0.0320787     0.0500089     0.0170328     0.0353104\n",
            "null_deviance           6.91382    3.02859    11.0207       5.29238       6.49765       3.15156       8.60682\n",
            "r2                      0.529789   0.121063   0.388992      0.48349       0.466643      0.62884       0.68098\n",
            "residual_deviance       3.28498    2.03953    6.59041       2.66253       3.45061       1.07307       2.64828\n",
            "rmse                    0.205164   0.0647918  0.304668      0.179105      0.223627      0.13051       0.187911\n",
            "rmsle                   0.141285   0.0237963  0.163398      0.137293      0.163186      0.105788      0.136762\n"
          ]
        }
      ],
      "source": [
        "# Get the best model using the metric\n",
        "m = aml.leader\n",
        "print(m)"
      ]
    },
    {
      "cell_type": "code",
      "execution_count": null,
      "metadata": {
        "colab": {
          "base_uri": "https://localhost:8080/"
        },
        "id": "-yGPUFsnMeVx",
        "outputId": "99df23a4-b499-4843-c7e5-bd263c23f210"
      },
      "outputs": [
        {
          "name": "stdout",
          "output_type": "stream",
          "text": [
            "Model Details\n",
            "=============\n",
            "H2OStackedEnsembleEstimator : Stacked Ensemble\n",
            "Model Key: StackedEnsemble_BestOfFamily_1_AutoML_1_20241025_131517\n",
            "\n",
            "\n",
            "Model Summary for Stacked Ensemble: \n",
            "key                                        value\n",
            "-----------------------------------------  ----------------\n",
            "Stacking strategy                          cross_validation\n",
            "Number of base models (used / total)       4/6\n",
            "# GBM base models (used / total)           0/1\n",
            "# XGBoost base models (used / total)       1/1\n",
            "# DeepLearning base models (used / total)  1/1\n",
            "# DRF base models (used / total)           1/2\n",
            "# GLM base models (used / total)           1/1\n",
            "Metalearner algorithm                      GLM\n",
            "Metalearner fold assignment scheme         Random\n",
            "Metalearner nfolds                         5\n",
            "Metalearner fold_column\n",
            "Custom metalearner hyperparameters         None\n",
            "\n",
            "ModelMetricsRegressionGLM: stackedensemble\n",
            "** Reported on train data. **\n",
            "\n",
            "MSE: 0.0021401440757201585\n",
            "RMSE: 0.04626169123281334\n",
            "MAE: 0.03397583455816819\n",
            "RMSLE: 0.03731911263877774\n",
            "Mean Residual Deviance: 0.0021401440757201585\n",
            "R^2: 0.9774251063153814\n",
            "Null degrees of freedom: 360\n",
            "Residual degrees of freedom: 356\n",
            "Null deviance: 34.22350608283844\n",
            "Residual deviance: 0.7725920113349772\n",
            "AIC: -1182.5508269135614\n",
            "\n",
            "ModelMetricsRegressionGLM: stackedensemble\n",
            "** Reported on cross-validation data. **\n",
            "\n",
            "MSE: 0.045564163365601894\n",
            "RMSE: 0.21345763833979306\n",
            "MAE: 0.12424984691243825\n",
            "RMSLE: 0.14358252351544426\n",
            "Mean Residual Deviance: 0.045564163365601894\n",
            "R^2: 0.51937528156326\n",
            "Null degrees of freedom: 360\n",
            "Residual degrees of freedom: 356\n",
            "Null deviance: 34.56909087427962\n",
            "Residual deviance: 16.448662974982284\n",
            "AIC: -78.52316730364416\n",
            "\n",
            "Cross-Validation Metrics Summary: \n",
            "                        mean       sd         cv_1_valid    cv_2_valid    cv_3_valid    cv_4_valid    cv_5_valid\n",
            "----------------------  ---------  ---------  ------------  ------------  ------------  ------------  ------------\n",
            "aic                     -16.7636   41.9393    44.7177       -37.94        1.12025       -65.7884      -25.9275\n",
            "loglikelihood           0          0          0             0             0             0             0\n",
            "mae                     0.123859   0.0211721  0.14419       0.119251      0.140882      0.0911688     0.123804\n",
            "mean_residual_deviance  0.0454507  0.0289573  0.0928227     0.0320787     0.0500089     0.0170328     0.0353104\n",
            "mse                     0.0454507  0.0289573  0.0928227     0.0320787     0.0500089     0.0170328     0.0353104\n",
            "null_deviance           6.91382    3.02859    11.0207       5.29238       6.49765       3.15156       8.60682\n",
            "r2                      0.529789   0.121063   0.388992      0.48349       0.466643      0.62884       0.68098\n",
            "residual_deviance       3.28498    2.03953    6.59041       2.66253       3.45061       1.07307       2.64828\n",
            "rmse                    0.205164   0.0647918  0.304668      0.179105      0.223627      0.13051       0.187911\n",
            "rmsle                   0.141285   0.0237963  0.163398      0.137293      0.163186      0.105788      0.136762\n"
          ]
        }
      ],
      "source": [
        "# this is equivalent to\n",
        "m = aml.get_best_model()\n",
        "print(m)"
      ]
    },
    {
      "cell_type": "code",
      "execution_count": null,
      "metadata": {
        "id": "slwGwWJ4MhCP"
      },
      "outputs": [],
      "source": [
        "# Get the best model using a non-default metric\n",
        "# m = aml.get_best_model(criterion=\"logloss\")\n",
        "# print(m)"
      ]
    },
    {
      "cell_type": "code",
      "execution_count": null,
      "metadata": {
        "colab": {
          "base_uri": "https://localhost:8080/"
        },
        "id": "g-99maupMj0G",
        "outputId": "7d30c111-dd2a-4cc0-828c-9cb814c37b12"
      },
      "outputs": [
        {
          "name": "stdout",
          "output_type": "stream",
          "text": [
            "timestamp     level    stage       message                                                                                                                                                          name    value\n",
            "13:15:17.894  INFO     Workflow    Project: AutoML_1_20241025_131517\n",
            "13:15:17.896  INFO     Validation  5-fold cross-validation will be used.\n",
            "13:15:17.911  INFO     Validation  Setting stopping tolerance adaptively based on the training frame: 0.05\n",
            "13:15:17.911  INFO     Validation  Build control seed: 1\n",
            "13:15:17.932  INFO     DataImport  training frame: Frame key: AutoML_1_20241025_131517_training_py_1_sid_8724    cols: 175    rows: 361  chunks: 1    size: 464913  checksum: -6845918588457987021\n",
            "13:15:17.933  INFO     DataImport  validation frame: NULL\n",
            "13:15:17.933  INFO     DataImport  leaderboard frame: NULL\n",
            "13:15:17.933  INFO     DataImport  blending frame: NULL\n",
            "13:15:17.933  INFO     DataImport  response column: Success_Open\n",
            "13:15:17.933  INFO     DataImport  fold column: null\n",
            "[152 rows x 6 columns]\n",
            "\n"
          ]
        }
      ],
      "source": [
        "# Get AutoML event log\n",
        "log = aml.event_log\n",
        "print(log)\n"
      ]
    },
    {
      "cell_type": "code",
      "execution_count": null,
      "metadata": {
        "colab": {
          "base_uri": "https://localhost:8080/"
        },
        "id": "OuVytzLbMmix",
        "outputId": "a4ae9850-1e6c-4184-e8bf-101e0b4179f2"
      },
      "outputs": [
        {
          "name": "stdout",
          "output_type": "stream",
          "text": [
            "{'creation_epoch': '1729862118', 'start_epoch': '1729862118', 'start_XGBoost_def_2': '1729862118', 'start_GLM_def_1': '1729862137', 'start_GBM_def_5': '1729862149', 'start_XGBoost_def_1': '1729862156', 'start_DRF_def_1': '1729862163', 'start_GBM_def_2': '1729862193', 'start_GBM_def_3': '1729862198', 'start_GBM_def_4': '1729862207', 'start_XGBoost_def_3': '1729862213', 'start_DRF_XRT': '1729862218', 'start_GBM_def_1': '1729862243', 'start_DeepLearning_def_1': '1729862249', 'start_XGBoost_grid_1': '1729862259', 'start_GBM_grid_1': '1729862276', 'start_DeepLearning_grid_1': '1729862284', 'start_DeepLearning_grid_2': '1729862464', 'start_DeepLearning_grid_3': '1729862681', 'start_StackedEnsemble_best_of_family_xglm': '1729862938', 'start_StackedEnsemble_all_xglm': '1729862939', 'stop_epoch': '1729862940', 'duration_secs': '821'}\n"
          ]
        }
      ],
      "source": [
        "# Get training timing info\n",
        "info = aml.training_info\n",
        "print(info)"
      ]
    },
    {
      "cell_type": "code",
      "execution_count": null,
      "metadata": {
        "colab": {
          "base_uri": "https://localhost:8080/",
          "height": 36
        },
        "id": "C6ODkYRiMov8",
        "outputId": "b1abc79f-6f84-456f-a10e-a105705b6cf7"
      },
      "outputs": [
        {
          "data": {
            "application/vnd.google.colaboratory.intrinsic+json": {
              "type": "string"
            },
            "text/plain": [
              "'StackedEnsemble_BestOfFamily_1_AutoML_1_20241025_131517'"
            ]
          },
          "execution_count": 21,
          "metadata": {},
          "output_type": "execute_result"
        }
      ],
      "source": [
        "aml.leader.model_id"
      ]
    },
    {
      "cell_type": "code",
      "execution_count": null,
      "metadata": {
        "id": "bDgmQAkzMpjr"
      },
      "outputs": [],
      "source": [
        "# aml.leader.confusion_matrix()"
      ]
    },
    {
      "cell_type": "code",
      "execution_count": null,
      "metadata": {
        "id": "fCB5lYeOO7yK"
      },
      "outputs": [],
      "source": [
        "cols = ['3_assets',  '3_revenue', 'Share Holding Post Issue', 'Share Holding Pre Issue', 'S-HNI (Max)_Shares',  'B-HNI (Min)_Shares', 'S-HNI (Min)_Amount', 'B-HNI (Min)_Amount', 'S-HNI (Min)_Shares', 'S-HNI (Max)_Amount', 'B-HNI (Min)_Lots', 'S-HNI (Max)_Lots', 'S-HNI (Min)_Lots', '0_net worth',  '3_net worth', '1_net worth', '2_net worth']\n",
        "for col in cols:\n",
        "  h2o_test[col] = h2o_test[col].ascharacter().asfactor()"
      ]
    },
    {
      "cell_type": "code",
      "execution_count": null,
      "metadata": {
        "colab": {
          "base_uri": "https://localhost:8080/",
          "height": 1000
        },
        "id": "xAnz6gPaMz6l",
        "outputId": "0287aca4-86e7-49ee-f95c-595772b3c6b6"
      },
      "outputs": [
        {
          "name": "stdout",
          "output_type": "stream",
          "text": [
            "stackedensemble prediction progress: |███████████████████████████████████████████| (done) 100%\n"
          ]
        },
        {
          "name": "stderr",
          "output_type": "stream",
          "text": [
            "/usr/local/lib/python3.10/dist-packages/h2o/job.py:81: UserWarning: Test/Validation dataset column 'day_3_qib' has levels not trained on: [\"1.05\", \"1.28\", \"5.79\", \"64.1\"]\n",
            "  warnings.warn(w)\n",
            "/usr/local/lib/python3.10/dist-packages/h2o/job.py:81: UserWarning: Test/Validation dataset column 'day_3_nii' has levels not trained on: [\"1.52\", \"1.92\", \"132.99\", \"6.49\", \"64.88\", \"9.01\"]\n",
            "  warnings.warn(w)\n",
            "/usr/local/lib/python3.10/dist-packages/h2o/job.py:81: UserWarning: Test/Validation dataset column 'day_3_retail' has levels not trained on: [\"0.55\", \"16.53\", \"225.37\", \"3.14\", \"4.44\", \"64.84\"]\n",
            "  warnings.warn(w)\n",
            "/usr/local/lib/python3.10/dist-packages/h2o/job.py:81: UserWarning: Test/Validation dataset column 'day_3_total' has levels not trained on: [\"0.98\", \"2.19\", \"5.35\", \"5.5\", \"50.38\", \"62.83\"]\n",
            "  warnings.warn(w)\n",
            "/usr/local/lib/python3.10/dist-packages/h2o/job.py:81: UserWarning: Test/Validation dataset column 'S-HNI (Min)_Lots' has levels not trained on: [\"14\", \"15\"]\n",
            "  warnings.warn(w)\n",
            "/usr/local/lib/python3.10/dist-packages/h2o/job.py:81: UserWarning: Test/Validation dataset column 'S-HNI (Min)_Shares' has levels not trained on: [\"1064\", \"1232\", \"1260\", \"1470\", \"1498\", \"1500\", \"1666\", \"1764\", \"195\", \"1950\", ...25 not listed..., \"686\", \"700\", \"714\", \"728\", \"742\", \"784\", \"8400\", \"938\", \"966\", \"980\"]\n",
            "  warnings.warn(w)\n",
            "/usr/local/lib/python3.10/dist-packages/h2o/job.py:81: UserWarning: Test/Validation dataset column 'S-HNI (Min)_Amount' has levels not trained on: [\"202300\", \"202860\", \"203280\", \"204750\", \"204820\", \"205030\", \"205408\", \"205800\", \"206080\", \"206250\", ...18 not listed..., \"209160\", \"209244\", \"209300\", \"209412\", \"209608\", \"209720\", \"209916\", \"210000\", \"210600\", \"213300\"]\n",
            "  warnings.warn(w)\n",
            "/usr/local/lib/python3.10/dist-packages/h2o/job.py:81: UserWarning: Test/Validation dataset column 'S-HNI (Max)_Lots' has levels not trained on: [\"66\", \"67\", \"68\", \"69\", \"70\", \"71\", \"72\"]\n",
            "  warnings.warn(w)\n",
            "/usr/local/lib/python3.10/dist-packages/h2o/job.py:81: UserWarning: Test/Validation dataset column 'S-HNI (Max)_Shares' has levels not trained on: [\"10050\", \"10200\", \"1173\", \"1260\", \"1340\", \"1360\", \"1474\", \"1496\", \"15180\", \"1541\", ...35 not listed..., \"7035\", \"7062\", \"7100\", \"7140\", \"7854\", \"8316\", \"923\", \"9230\", \"966\", \"9900\"]\n",
            "  warnings.warn(w)\n",
            "/usr/local/lib/python3.10/dist-packages/h2o/job.py:81: UserWarning: Test/Validation dataset column 'S-HNI (Max)_Amount' has levels not trained on: [\"986040\", \"986240\", \"986436\", \"986700\", \"987228\", \"987360\", \"988152\", \"988250\", \"988680\", \"988920\", ...18 not listed..., \"996826\", \"996840\", \"997050\", \"997696\", \"998032\", \"998233\", \"998568\", \"998970\", \"999600\", \"999810\"]\n",
            "  warnings.warn(w)\n",
            "/usr/local/lib/python3.10/dist-packages/h2o/job.py:81: UserWarning: Test/Validation dataset column 'B-HNI (Min)_Lots' has levels not trained on: [\"67\", \"68\", \"69\", \"70\", \"71\", \"72\", \"73\"]\n",
            "  warnings.warn(w)\n",
            "/usr/local/lib/python3.10/dist-packages/h2o/job.py:81: UserWarning: Test/Validation dataset column 'B-HNI (Min)_Shares' has levels not trained on: [\"10050\", \"10200\", \"10350\", \"1190\", \"1278\", \"1360\", \"1380\", \"1496\", \"1518\", \"15410\", ...35 not listed..., \"6120\", \"7140\", \"7169\", \"7200\", \"7245\", \"7973\", \"8442\", \"936\", \"9360\", \"980\"]\n",
            "  warnings.warn(w)\n",
            "/usr/local/lib/python3.10/dist-packages/h2o/job.py:81: UserWarning: Test/Validation dataset column 'B-HNI (Min)_Amount' has levels not trained on: [\"1000960\", \"1000980\", \"1001382\", \"1001650\", \"1001880\", \"1002186\", \"1003000\", \"1003124\", \"1003660\", \"1003680\", ...18 not listed..., \"1011296\", \"1011432\", \"1011500\", \"1011704\", \"1012368\", \"1012928\", \"1013132\", \"1013472\", \"1013880\", \"1014300\"]\n",
            "  warnings.warn(w)\n",
            "/usr/local/lib/python3.10/dist-packages/h2o/job.py:81: UserWarning: Test/Validation dataset column 'Share Holding Pre Issue' has levels not trained on: [\"0.3337\", \"0.3741\", \"0.4408\", \"0.4665\", \"0.4979\", \"0.5675\", \"0.5791\", \"0.6642\", \"0.6666\", \"0.6679\", ...21 not listed..., \"0.918\", \"0.9284\", \"0.9523\", \"0.9642\", \"0.9749\", \"0.978\", \"0.9859\", \"0.993\", \"0.9935\", \"1\"]\n",
            "  warnings.warn(w)\n",
            "/usr/local/lib/python3.10/dist-packages/h2o/job.py:81: UserWarning: Test/Validation dataset column 'Share Holding Post Issue' has levels not trained on: [\"0.3019\", \"0.3534\", \"0.4091\", \"0.416\", \"0.4408\", \"0.4817\", \"0.5124\", \"0.5366\", \"0.5539\", \"0.5547\", ...21 not listed..., \"0.7494\", \"0.7495\", \"0.7497\", \"0.7545\", \"0.765\", \"0.7859\", \"0.792\", \"0.8561\", \"64.46\", \"78.06\"]\n",
            "  warnings.warn(w)\n",
            "/usr/local/lib/python3.10/dist-packages/h2o/job.py:81: UserWarning: Test/Validation dataset column '0_net worth' has levels not trained on: [\"-259.28\", \"-93.07\", \"1019.5\", \"104.57\", \"1103.33\", \"113.61\", \"1226.56\", \"123.49\", \"1374.97\", \"1414.9\", ...23 not listed..., \"56.58\", \"638.26\", \"6580.61\", \"725.68\", \"752.09\", \"810.79\", \"86.11\", \"875.07\", \"88.58\", \"999.37\"]\n",
            "  warnings.warn(w)\n",
            "/usr/local/lib/python3.10/dist-packages/h2o/job.py:81: UserWarning: Test/Validation dataset column '1_net worth' has levels not trained on: [\"-206.87\", \"-702.63\", \"100.93\", \"1033.38\", \"1103.22\", \"1240.53\", \"1336.58\", \"1355.68\", \"1368.35\", \"137.4\", ...23 not listed..., \"65.97\", \"665.73\", \"681.49\", \"71.39\", \"71.46\", \"75.2\", \"760.21\", \"92.47\", \"944.72\", \"988.31\"]\n",
            "  warnings.warn(w)\n",
            "/usr/local/lib/python3.10/dist-packages/h2o/job.py:81: UserWarning: Test/Validation dataset column '2_net worth' has levels not trained on: [\"-352.22\", \"-871.43\", \"100.49\", \"1026.78\", \"106.05\", \"107.25\", \"1076.13\", \"115.45\", \"1153.52\", \"1237.05\", ...23 not listed..., \"5268.11\", \"560.71\", \"631.91\", \"70.03\", \"705.62\", \"714\", \"72.46\", \"787.62\", \"86.22\", \"889.89\"]\n",
            "  warnings.warn(w)\n",
            "/usr/local/lib/python3.10/dist-packages/h2o/job.py:81: UserWarning: Test/Validation dataset column '3_assets' has levels not trained on: [\"1077.86\", \"1097.7\", \"1146.51\", \"123.74\", \"12338.65\", \"19117.54\", \"213.98\", \"2462.64\", \"256.05\", \"2633.62\", ...11 not listed..., \"5746.44\", \"5999.13\", \"6210.92\", \"638.72\", \"687.2\", \"692.76\", \"792\", \"876.38\", \"9450.66\", \"948.25\"]\n",
            "  warnings.warn(w)\n",
            "/usr/local/lib/python3.10/dist-packages/h2o/job.py:81: UserWarning: Test/Validation dataset column '3_revenue' has levels not trained on: [\"10311.01\", \"1059.58\", \"107.71\", \"1178.62\", \"125.03\", \"1567.77\", \"1585.88\", \"1768.42\", \"2031.3\", \"2069.58\", ...11 not listed..., \"402.59\", \"408.79\", \"412.03\", \"472.1\", \"543.28\", \"5633.64\", \"590.81\", \"608.99\", \"697.57\", \"740.36\"]\n",
            "  warnings.warn(w)\n",
            "/usr/local/lib/python3.10/dist-packages/h2o/job.py:81: UserWarning: Test/Validation dataset column '3_net worth' has levels not trained on: [\"-1765.14\", \"100.96\", \"114.09\", \"116.89\", \"117.6\", \"1352.06\", \"1390.47\", \"144.78\", \"1466.88\", \"192.33\", ...10 not listed..., \"375.76\", \"3934.64\", \"47.54\", \"487.83\", \"55.55\", \"622.23\", \"645.16\", \"723.55\", \"834.73\", \"937.27\"]\n",
            "  warnings.warn(w)\n",
            "/usr/local/lib/python3.10/dist-packages/h2o/job.py:81: UserWarning: Test/Validation dataset column '4_assets' has levels not trained on: [\"1082.82\", \"267.16\", \"485.97\"]\n",
            "  warnings.warn(w)\n",
            "/usr/local/lib/python3.10/dist-packages/h2o/job.py:81: UserWarning: Test/Validation dataset column '4_revenue' has levels not trained on: [\"166.13\", \"510.21\", \"523.1\"]\n",
            "  warnings.warn(w)\n",
            "/usr/local/lib/python3.10/dist-packages/h2o/job.py:81: UserWarning: Test/Validation dataset column '4_profit after tax' has levels not trained on: [\"19.24\", \"21.07\", \"65.77\"]\n",
            "  warnings.warn(w)\n",
            "/usr/local/lib/python3.10/dist-packages/h2o/job.py:81: UserWarning: Test/Validation dataset column '4_net worth' has levels not trained on: [\"182.96\", \"363.65\", \"74.74\"]\n",
            "  warnings.warn(w)\n",
            "/usr/local/lib/python3.10/dist-packages/h2o/job.py:81: UserWarning: Test/Validation dataset column 'Industry' has levels not trained on: [\"Computer Peripherals\", \"Integrated Oil\", \"Office Equipment/Supplies\"]\n",
            "  warnings.warn(w)\n",
            "/usr/local/lib/python3.10/dist-packages/h2o/job.py:81: UserWarning: Test/Validation dataset column 'Fresh Issue' has levels not trained on: [\"1,700,680 shares (aggregating up to 75.00 Cr)\", \"1,739,131 shares (aggregating up to 180.00 Cr)\", \"10,000,000 shares (aggregating up to 100.00 Cr)\", \"10,200,000 shares (aggregating up to 66.30 Cr)\", \"10,800,000 shares (aggregating up to 545.40 Cr)\", \"10,890,000 shares (aggregating up to 152.46 Cr)\", \"11,111,111 shares (aggregating up to 400.00 Cr)\", \"11,268,580 shares (aggregating up to 365.00 Cr)\", \"12,280,701 shares (aggregating up to 350.00 Cr)\", \"13,200,158 shares (aggregating up to 71.28 Cr)\", ...27 not listed..., \"6,930,806 shares (aggregating up to 146.24 Cr)\", \"65,116,667 shares (aggregating up to 390.70 Cr)\", \"7,142,857 shares (aggregating up to 320.00 Cr)\", \"7,339,450 shares (aggregating up to 320.00 Cr)\", \"7,374,163 shares (aggregating up to 542.00 Cr)\", \"8,517,350 shares (aggregating up to 270.00 Cr)\", \"8,520,000 shares (aggregating up to 119.28 Cr)\", \"9,605,263 shares (aggregating up to 292.00 Cr)\", \"9,767,442 shares (aggregating up to 210.00 Cr)\", \"95,238,095 shares (aggregating up to 1,200.00 Cr)\"]\n",
            "  warnings.warn(w)\n",
            "/usr/local/lib/python3.10/dist-packages/h2o/job.py:81: UserWarning: Test/Validation dataset column 'Offer for Sale' has levels not trained on: [\"10,449,816 shares of 1 (aggregating up to 171.38 Cr)\", \"10,759,493 shares of 10 (aggregating up to 850.00 Cr)\", \"11,756,910 shares of 2 (aggregating up to 198.69 Cr)\", \"12,050,000 shares of 10 (aggregating up to 72.30 Cr)\", \"12,183,099 shares of 1 (aggregating up to 173.00 Cr)\", \"12,500,000 shares of 2 (aggregating up to 545.00 Cr)\", \"13,500,000 shares of 1 (aggregating up to 170.10 Cr)\", \"14,213,198 shares of 1 (aggregating up to 280.00 Cr)\", \"17,236,808 shares of 5 (aggregating up to 1,784.01 Cr)\", \"17,500,000 shares of 2 (aggregating up to 189.00 Cr)\", ...25 not listed..., \"7,159,920 shares of 2 (aggregating up to 608.59 Cr)\", \"8,000,000 shares of 10 (aggregating up to 240.00 Cr)\", \"8,113,590 shares of 5 (aggregating up to 400.00 Cr)\", \"8,294,118 shares of 10 (aggregating up to 175.00 Cr)\", \"8,500,000 shares of 2 (aggregating up to 425.00 Cr)\", \"9,000,000 shares of 10 (aggregating up to 256.50 Cr)\", \"9,428,178 shares of 10 (aggregating up to 415.78 Cr)\", \"9,541,985 shares of 2 (aggregating up to 500.00 Cr)\", \"9,901,315 shares of 5 (aggregating up to 301.00 Cr)\", \"[.] shares of 10 (aggregating up to 425.00 Cr)\"]\n",
            "  warnings.warn(w)\n",
            "/usr/local/lib/python3.10/dist-packages/h2o/job.py:81: UserWarning: Test/Validation dataset column 'Price Band' has levels not trained on: [\"102 to 108 per share\", \"1026 to 1080 per share\", \"113 to 119 per share\", \"119 to 126 per share\", \"133 to 140 per share\", \"135 to 142 per share\", \"151 to 166 per share\", \"156 to 164 per share\", \"160 to 169 per share\", \"187 to 197 per share\", ...30 not listed..., \"617 to 648 per share\", \"627 to 660 per share\", \"638 to 672 per share\", \"695 to 735 per share\", \"705 to 741 per share\", \"750 to 790 per share\", \"808 to 850 per share\", \"93 to 98 per share\", \"95 to 100 per share\", \"983 to 1035 per share\"]\n",
            "  warnings.warn(w)\n"
          ]
        },
        {
          "data": {
            "text/html": [
              "<table class='dataframe'>\n",
              "<thead>\n",
              "<tr><th style=\"text-align: right;\">   predict</th></tr>\n",
              "</thead>\n",
              "<tbody>\n",
              "<tr><td style=\"text-align: right;\"> 0.26134  </td></tr>\n",
              "<tr><td style=\"text-align: right;\"> 0.102739 </td></tr>\n",
              "<tr><td style=\"text-align: right;\"> 0.0135539</td></tr>\n",
              "<tr><td style=\"text-align: right;\">-0.0659403</td></tr>\n",
              "<tr><td style=\"text-align: right;\">-0.033059 </td></tr>\n",
              "<tr><td style=\"text-align: right;\"> 0.0146485</td></tr>\n",
              "<tr><td style=\"text-align: right;\"> 0.36824  </td></tr>\n",
              "<tr><td style=\"text-align: right;\"> 0.133557 </td></tr>\n",
              "<tr><td style=\"text-align: right;\"> 0.605956 </td></tr>\n",
              "<tr><td style=\"text-align: right;\"> 1.21219  </td></tr>\n",
              "</tbody>\n",
              "</table><pre style='font-size: smaller; margin-bottom: 1em;'>[57 rows x 1 column]</pre>"
            ],
            "text/plain": [
              "   predict\n",
              "----------\n",
              " 0.26134\n",
              " 0.102739\n",
              " 0.0135539\n",
              "-0.0659403\n",
              "-0.033059\n",
              " 0.0146485\n",
              " 0.36824\n",
              " 0.133557\n",
              " 0.605956\n",
              " 1.21219\n",
              "[57 rows x 1 column]\n"
            ]
          },
          "execution_count": 24,
          "metadata": {},
          "output_type": "execute_result"
        }
      ],
      "source": [
        "preds_leader = aml.leader.predict(h2o_test)\n",
        "preds_leader"
      ]
    },
    {
      "cell_type": "code",
      "execution_count": null,
      "metadata": {
        "colab": {
          "base_uri": "https://localhost:8080/"
        },
        "id": "szlnijTQNcju",
        "outputId": "2f3c6e6e-31d0-406e-d43e-75dacf145687"
      },
      "outputs": [
        {
          "name": "stdout",
          "output_type": "stream",
          "text": [
            "/content/drive/MyDrive/datasets/Indian_IPO_Prediction/mainboard_h2o_best_stacked_model_Success_Open_ALL_features_with_deberta_predprobab_underpricing/StackedEnsemble_BestOfFamily_1_AutoML_1_20241025_131517\n"
          ]
        }
      ],
      "source": [
        "best_model = aml.get_best_model()\n",
        "model_path = h2o.save_model(model=best_model, path=\"/content/drive/MyDrive/datasets/Indian_IPO_Prediction/mainboard_h2o_best_stacked_model_\" + y + \"_ALL_features_with_deberta_predprobab_underpricing/\", force=True)\n",
        "print(model_path)"
      ]
    },
    {
      "cell_type": "code",
      "execution_count": null,
      "metadata": {
        "colab": {
          "base_uri": "https://localhost:8080/"
        },
        "id": "lMIghfklQdcV",
        "outputId": "d89108e2-f7bb-4afe-eb54-ac4169f51c5f"
      },
      "outputs": [
        {
          "name": "stdout",
          "output_type": "stream",
          "text": [
            "MAE: 0.20287344637378477\n",
            "RMSE: 0.2950590298294883\n",
            "MSE: 0.08705983108391885\n",
            "\n",
            "\n"
          ]
        }
      ],
      "source": [
        "performance = best_model.model_performance(test_data=h2o_test)\n",
        "print(\"MAE:\", performance.mae())\n",
        "print(f\"RMSE: {performance.rmse()}\")\n",
        "print(f\"MSE: {performance.mse()}\")\n",
        "print(\"\\n\")"
      ]
    },
    {
      "cell_type": "code",
      "execution_count": null,
      "metadata": {
        "colab": {
          "base_uri": "https://localhost:8080/"
        },
        "id": "y_ViKgxCQssm",
        "outputId": "3e1ec2c8-8d9b-4363-93cf-ade91bfcfb93"
      },
      "outputs": [
        {
          "name": "stdout",
          "output_type": "stream",
          "text": [
            "Performance for model StackedEnsemble_BestOfFamily_1_AutoML_1_20241025_131517:\n",
            "MAE: 0.20287344637378477\n",
            "RMSE: 0.2950590298294883\n",
            "MSE: 0.08705983108391885\n",
            "\n",
            "\n"
          ]
        },
        {
          "name": "stderr",
          "output_type": "stream",
          "text": [
            "/usr/local/lib/python3.10/dist-packages/h2o/frame.py:1981: H2ODependencyWarning: Converting H2O frame to pandas dataframe using single-thread.  For faster conversion using multi-thread, install polars and pyarrow and use it as pandas_df = h2o_df.as_data_frame(use_multi_thread=True)\n",
            "\n",
            "  warnings.warn(\"Converting H2O frame to pandas dataframe using single-thread.  For faster conversion using\"\n"
          ]
        },
        {
          "name": "stdout",
          "output_type": "stream",
          "text": [
            "Performance for model DeepLearning_grid_2_AutoML_1_20241025_131517_model_1:\n",
            "MAE: 0.20088312124272503\n",
            "RMSE: 0.29512057893961\n",
            "MSE: 0.0870961561136506\n",
            "\n",
            "\n",
            "Performance for model DeepLearning_grid_3_AutoML_1_20241025_131517_model_1:\n",
            "MAE: 0.21912264656785824\n",
            "RMSE: 0.32598997340869185\n",
            "MSE: 0.1062694627629996\n",
            "\n",
            "\n",
            "Performance for model DeepLearning_grid_1_AutoML_1_20241025_131517_model_1:\n",
            "MAE: 0.2678466433623648\n",
            "RMSE: 0.417705143646164\n",
            "MSE: 0.17447758702846253\n",
            "\n",
            "\n",
            "Performance for model StackedEnsemble_AllModels_1_AutoML_1_20241025_131517:\n",
            "MAE: 0.21026226473816517\n",
            "RMSE: 0.30854451593042787\n",
            "MSE: 0.09519971831074206\n",
            "\n",
            "\n",
            "Performance for model XRT_1_AutoML_1_20241025_131517:\n",
            "MAE: 0.19071060705525603\n",
            "RMSE: 0.2618193980341451\n",
            "MSE: 0.06854939718696211\n",
            "\n",
            "\n",
            "Performance for model DeepLearning_1_AutoML_1_20241025_131517:\n",
            "MAE: 0.2718237407292592\n",
            "RMSE: 0.3305818174899424\n",
            "MSE: 0.1092843380549536\n",
            "\n",
            "\n",
            "Performance for model XGBoost_grid_1_AutoML_1_20241025_131517_model_2:\n",
            "MAE: 0.23179098724779723\n",
            "RMSE: 0.29659025508601133\n",
            "MSE: 0.08796577941198526\n",
            "\n",
            "\n",
            "Performance for model XGBoost_3_AutoML_1_20241025_131517:\n",
            "MAE: 0.2893306056789139\n",
            "RMSE: 0.4167907834592437\n",
            "MSE: 0.17371455717657017\n",
            "\n",
            "\n",
            "Performance for model XGBoost_grid_1_AutoML_1_20241025_131517_model_1:\n",
            "MAE: 0.2878169027206145\n",
            "RMSE: 0.35205907347220516\n",
            "MSE: 0.12394559121410756\n",
            "\n",
            "\n",
            "Performance for model XGBoost_1_AutoML_1_20241025_131517:\n",
            "MAE: 0.36936129317537214\n",
            "RMSE: 0.4463861758209191\n",
            "MSE: 0.19926061796402453\n",
            "\n",
            "\n",
            "Performance for model XGBoost_grid_1_AutoML_1_20241025_131517_model_3:\n",
            "MAE: 0.28493324509952545\n",
            "RMSE: 0.39949153699968504\n",
            "MSE: 0.15959348813437071\n",
            "\n",
            "\n",
            "Performance for model XGBoost_2_AutoML_1_20241025_131517:\n",
            "MAE: 0.36666520662082913\n",
            "RMSE: 0.46664700300146617\n",
            "MSE: 0.21775942541025037\n",
            "\n",
            "\n",
            "Performance for model GLM_1_AutoML_1_20241025_131517:\n",
            "MAE: 0.2128915611173015\n",
            "RMSE: 0.30979919104311443\n",
            "MSE: 0.09597553877096812\n",
            "\n",
            "\n",
            "Performance for model GBM_grid_1_AutoML_1_20241025_131517_model_1:\n",
            "MAE: 0.22084660948864324\n",
            "RMSE: 0.33427086688125823\n",
            "MSE: 0.11173701244554786\n",
            "\n",
            "\n",
            "Performance for model GBM_1_AutoML_1_20241025_131517:\n",
            "MAE: 0.23463098133955806\n",
            "RMSE: 0.33822323377495206\n",
            "MSE: 0.11439495586518587\n",
            "\n",
            "\n",
            "Performance for model DRF_1_AutoML_1_20241025_131517:\n",
            "MAE: 0.2521516983558506\n",
            "RMSE: 0.36670215202065204\n",
            "MSE: 0.1344704682965774\n",
            "\n",
            "\n",
            "Performance for model GBM_3_AutoML_1_20241025_131517:\n",
            "MAE: 0.25706229006258163\n",
            "RMSE: 0.3818475825335389\n",
            "MSE: 0.1458075762867078\n",
            "\n",
            "\n",
            "Performance for model GBM_grid_1_AutoML_1_20241025_131517_model_2:\n",
            "MAE: 0.2721720282612118\n",
            "RMSE: 0.3961750460860151\n",
            "MSE: 0.1569546671412562\n",
            "\n",
            "\n",
            "Performance for model GBM_2_AutoML_1_20241025_131517:\n",
            "MAE: 0.2525936807632879\n",
            "RMSE: 0.37122089938854935\n",
            "MSE: 0.1378049561428435\n",
            "\n",
            "\n",
            "Performance for model GBM_5_AutoML_1_20241025_131517:\n",
            "MAE: 0.2756535927878213\n",
            "RMSE: 0.40054359880129514\n",
            "MSE: 0.1604351745406929\n",
            "\n",
            "\n",
            "Performance for model GBM_4_AutoML_1_20241025_131517:\n",
            "MAE: 0.2739566615846037\n",
            "RMSE: 0.3968756804225844\n",
            "MSE: 0.15751030571088934\n",
            "\n",
            "\n"
          ]
        }
      ],
      "source": [
        "for model_id in lb['model_id'].as_data_frame()['model_id']:\n",
        "    model = h2o.get_model(model_id)\n",
        "    performance = model.model_performance(test_data=h2o_test)\n",
        "    print(f\"Performance for model {model_id}:\")\n",
        "    #print(f\"AUC: {performance.auc()}\")\n",
        "    #print(f\"Log Loss: {performance.logloss()}\")\n",
        "    #print(f\"Mean Per Class Error: {performance.mean_per_class_error()}\")\n",
        "    print(\"MAE:\", performance.mae())\n",
        "    print(f\"RMSE: {performance.rmse()}\")\n",
        "    print(f\"MSE: {performance.mse()}\")\n",
        "    print(\"\\n\")"
      ]
    },
    {
      "cell_type": "code",
      "execution_count": null,
      "metadata": {
        "colab": {
          "base_uri": "https://localhost:8080/"
        },
        "id": "NBZha5-fQzbS",
        "outputId": "32e0f46f-deda-43be-8755-628e42b784b5"
      },
      "outputs": [
        {
          "name": "stderr",
          "output_type": "stream",
          "text": [
            "/usr/local/lib/python3.10/dist-packages/h2o/frame.py:1981: H2ODependencyWarning: Converting H2O frame to pandas dataframe using single-thread.  For faster conversion using multi-thread, install polars and pyarrow and use it as pandas_df = h2o_df.as_data_frame(use_multi_thread=True)\n",
            "\n",
            "  warnings.warn(\"Converting H2O frame to pandas dataframe using single-thread.  For faster conversion using\"\n"
          ]
        },
        {
          "name": "stdout",
          "output_type": "stream",
          "text": [
            "Hyperparameters for model StackedEnsemble_BestOfFamily_1_AutoML_1_20241025_131517:\n",
            "{'model_id': None, 'training_frame': None, 'response_column': None, 'validation_frame': None, 'blending_frame': None, 'base_models': [], 'metalearner_algorithm': 'auto', 'metalearner_nfolds': 0, 'metalearner_fold_assignment': None, 'metalearner_fold_column': None, 'metalearner_params': None, 'metalearner_transform': 'none', 'max_runtime_secs': 0.0, 'weights_column': None, 'offset_column': None, 'custom_metric_func': None, 'seed': -1, 'score_training_samples': 10000, 'keep_levelone_frame': False, 'export_checkpoints_dir': None, 'auc_type': 'auto', 'gainslift_bins': -1}\n",
            "\n",
            "\n",
            "Hyperparameters for model DeepLearning_grid_2_AutoML_1_20241025_131517_model_1:\n",
            "{'model_id': None, 'training_frame': None, 'validation_frame': None, 'nfolds': 0, 'keep_cross_validation_models': True, 'keep_cross_validation_predictions': False, 'keep_cross_validation_fold_assignment': False, 'fold_assignment': 'auto', 'fold_column': None, 'response_column': None, 'ignored_columns': None, 'ignore_const_cols': True, 'score_each_iteration': False, 'weights_column': None, 'offset_column': None, 'balance_classes': False, 'class_sampling_factors': None, 'max_after_balance_size': 5.0, 'max_confusion_matrix_size': 20, 'checkpoint': None, 'pretrained_autoencoder': None, 'overwrite_with_best_model': True, 'use_all_factor_levels': True, 'standardize': True, 'activation': 'rectifier', 'hidden': [200, 200], 'epochs': 10.0, 'train_samples_per_iteration': -2, 'target_ratio_comm_to_comp': 0.05, 'seed': -1, 'adaptive_rate': True, 'rho': 0.99, 'epsilon': 1e-08, 'rate': 0.005, 'rate_annealing': 1e-06, 'rate_decay': 1.0, 'momentum_start': 0.0, 'momentum_ramp': 1000000.0, 'momentum_stable': 0.0, 'nesterov_accelerated_gradient': True, 'input_dropout_ratio': 0.0, 'hidden_dropout_ratios': None, 'l1': 0.0, 'l2': 0.0, 'max_w2': 3.4028235e+38, 'initial_weight_distribution': 'uniform_adaptive', 'initial_weight_scale': 1.0, 'initial_weights': None, 'initial_biases': None, 'loss': 'automatic', 'distribution': 'auto', 'quantile_alpha': 0.5, 'tweedie_power': 1.5, 'huber_alpha': 0.9, 'score_interval': 5.0, 'score_training_samples': 10000, 'score_validation_samples': 0, 'score_duty_cycle': 0.1, 'classification_stop': 0.0, 'regression_stop': 1e-06, 'stopping_rounds': 5, 'stopping_metric': 'auto', 'stopping_tolerance': 0.0, 'max_runtime_secs': 0.0, 'score_validation_sampling': 'uniform', 'diagnostics': True, 'fast_mode': True, 'force_load_balance': True, 'variable_importances': True, 'replicate_training_data': True, 'single_node_mode': False, 'shuffle_training_data': False, 'missing_values_handling': 'mean_imputation', 'quiet_mode': False, 'autoencoder': False, 'sparse': False, 'col_major': False, 'average_activation': 0.0, 'sparsity_beta': 0.0, 'max_categorical_features': 2147483647, 'reproducible': False, 'export_weights_and_biases': False, 'mini_batch_size': 1, 'categorical_encoding': 'auto', 'elastic_averaging': False, 'elastic_averaging_moving_rate': 0.9, 'elastic_averaging_regularization': 0.001, 'export_checkpoints_dir': None, 'auc_type': 'auto', 'custom_metric_func': None, 'gainslift_bins': -1}\n",
            "\n",
            "\n",
            "Hyperparameters for model DeepLearning_grid_3_AutoML_1_20241025_131517_model_1:\n",
            "{'model_id': None, 'training_frame': None, 'validation_frame': None, 'nfolds': 0, 'keep_cross_validation_models': True, 'keep_cross_validation_predictions': False, 'keep_cross_validation_fold_assignment': False, 'fold_assignment': 'auto', 'fold_column': None, 'response_column': None, 'ignored_columns': None, 'ignore_const_cols': True, 'score_each_iteration': False, 'weights_column': None, 'offset_column': None, 'balance_classes': False, 'class_sampling_factors': None, 'max_after_balance_size': 5.0, 'max_confusion_matrix_size': 20, 'checkpoint': None, 'pretrained_autoencoder': None, 'overwrite_with_best_model': True, 'use_all_factor_levels': True, 'standardize': True, 'activation': 'rectifier', 'hidden': [200, 200], 'epochs': 10.0, 'train_samples_per_iteration': -2, 'target_ratio_comm_to_comp': 0.05, 'seed': -1, 'adaptive_rate': True, 'rho': 0.99, 'epsilon': 1e-08, 'rate': 0.005, 'rate_annealing': 1e-06, 'rate_decay': 1.0, 'momentum_start': 0.0, 'momentum_ramp': 1000000.0, 'momentum_stable': 0.0, 'nesterov_accelerated_gradient': True, 'input_dropout_ratio': 0.0, 'hidden_dropout_ratios': None, 'l1': 0.0, 'l2': 0.0, 'max_w2': 3.4028235e+38, 'initial_weight_distribution': 'uniform_adaptive', 'initial_weight_scale': 1.0, 'initial_weights': None, 'initial_biases': None, 'loss': 'automatic', 'distribution': 'auto', 'quantile_alpha': 0.5, 'tweedie_power': 1.5, 'huber_alpha': 0.9, 'score_interval': 5.0, 'score_training_samples': 10000, 'score_validation_samples': 0, 'score_duty_cycle': 0.1, 'classification_stop': 0.0, 'regression_stop': 1e-06, 'stopping_rounds': 5, 'stopping_metric': 'auto', 'stopping_tolerance': 0.0, 'max_runtime_secs': 0.0, 'score_validation_sampling': 'uniform', 'diagnostics': True, 'fast_mode': True, 'force_load_balance': True, 'variable_importances': True, 'replicate_training_data': True, 'single_node_mode': False, 'shuffle_training_data': False, 'missing_values_handling': 'mean_imputation', 'quiet_mode': False, 'autoencoder': False, 'sparse': False, 'col_major': False, 'average_activation': 0.0, 'sparsity_beta': 0.0, 'max_categorical_features': 2147483647, 'reproducible': False, 'export_weights_and_biases': False, 'mini_batch_size': 1, 'categorical_encoding': 'auto', 'elastic_averaging': False, 'elastic_averaging_moving_rate': 0.9, 'elastic_averaging_regularization': 0.001, 'export_checkpoints_dir': None, 'auc_type': 'auto', 'custom_metric_func': None, 'gainslift_bins': -1}\n",
            "\n",
            "\n",
            "Hyperparameters for model DeepLearning_grid_1_AutoML_1_20241025_131517_model_1:\n",
            "{'model_id': None, 'training_frame': None, 'validation_frame': None, 'nfolds': 0, 'keep_cross_validation_models': True, 'keep_cross_validation_predictions': False, 'keep_cross_validation_fold_assignment': False, 'fold_assignment': 'auto', 'fold_column': None, 'response_column': None, 'ignored_columns': None, 'ignore_const_cols': True, 'score_each_iteration': False, 'weights_column': None, 'offset_column': None, 'balance_classes': False, 'class_sampling_factors': None, 'max_after_balance_size': 5.0, 'max_confusion_matrix_size': 20, 'checkpoint': None, 'pretrained_autoencoder': None, 'overwrite_with_best_model': True, 'use_all_factor_levels': True, 'standardize': True, 'activation': 'rectifier', 'hidden': [200, 200], 'epochs': 10.0, 'train_samples_per_iteration': -2, 'target_ratio_comm_to_comp': 0.05, 'seed': -1, 'adaptive_rate': True, 'rho': 0.99, 'epsilon': 1e-08, 'rate': 0.005, 'rate_annealing': 1e-06, 'rate_decay': 1.0, 'momentum_start': 0.0, 'momentum_ramp': 1000000.0, 'momentum_stable': 0.0, 'nesterov_accelerated_gradient': True, 'input_dropout_ratio': 0.0, 'hidden_dropout_ratios': None, 'l1': 0.0, 'l2': 0.0, 'max_w2': 3.4028235e+38, 'initial_weight_distribution': 'uniform_adaptive', 'initial_weight_scale': 1.0, 'initial_weights': None, 'initial_biases': None, 'loss': 'automatic', 'distribution': 'auto', 'quantile_alpha': 0.5, 'tweedie_power': 1.5, 'huber_alpha': 0.9, 'score_interval': 5.0, 'score_training_samples': 10000, 'score_validation_samples': 0, 'score_duty_cycle': 0.1, 'classification_stop': 0.0, 'regression_stop': 1e-06, 'stopping_rounds': 5, 'stopping_metric': 'auto', 'stopping_tolerance': 0.0, 'max_runtime_secs': 0.0, 'score_validation_sampling': 'uniform', 'diagnostics': True, 'fast_mode': True, 'force_load_balance': True, 'variable_importances': True, 'replicate_training_data': True, 'single_node_mode': False, 'shuffle_training_data': False, 'missing_values_handling': 'mean_imputation', 'quiet_mode': False, 'autoencoder': False, 'sparse': False, 'col_major': False, 'average_activation': 0.0, 'sparsity_beta': 0.0, 'max_categorical_features': 2147483647, 'reproducible': False, 'export_weights_and_biases': False, 'mini_batch_size': 1, 'categorical_encoding': 'auto', 'elastic_averaging': False, 'elastic_averaging_moving_rate': 0.9, 'elastic_averaging_regularization': 0.001, 'export_checkpoints_dir': None, 'auc_type': 'auto', 'custom_metric_func': None, 'gainslift_bins': -1}\n",
            "\n",
            "\n",
            "Hyperparameters for model StackedEnsemble_AllModels_1_AutoML_1_20241025_131517:\n",
            "{'model_id': None, 'training_frame': None, 'response_column': None, 'validation_frame': None, 'blending_frame': None, 'base_models': [], 'metalearner_algorithm': 'auto', 'metalearner_nfolds': 0, 'metalearner_fold_assignment': None, 'metalearner_fold_column': None, 'metalearner_params': None, 'metalearner_transform': 'none', 'max_runtime_secs': 0.0, 'weights_column': None, 'offset_column': None, 'custom_metric_func': None, 'seed': -1, 'score_training_samples': 10000, 'keep_levelone_frame': False, 'export_checkpoints_dir': None, 'auc_type': 'auto', 'gainslift_bins': -1}\n",
            "\n",
            "\n",
            "Hyperparameters for model XRT_1_AutoML_1_20241025_131517:\n",
            "{'model_id': None, 'training_frame': None, 'validation_frame': None, 'nfolds': 0, 'keep_cross_validation_models': True, 'keep_cross_validation_predictions': False, 'keep_cross_validation_fold_assignment': False, 'score_each_iteration': False, 'score_tree_interval': 0, 'fold_assignment': 'auto', 'fold_column': None, 'response_column': None, 'ignored_columns': None, 'ignore_const_cols': True, 'weights_column': None, 'balance_classes': False, 'class_sampling_factors': None, 'max_after_balance_size': 5.0, 'max_confusion_matrix_size': 20, 'ntrees': 50, 'max_depth': 20, 'min_rows': 1.0, 'nbins': 20, 'nbins_top_level': 1024, 'nbins_cats': 1024, 'r2_stopping': None, 'stopping_rounds': 0, 'stopping_metric': 'auto', 'stopping_tolerance': 0.001, 'max_runtime_secs': 0.0, 'seed': -1, 'build_tree_one_node': False, 'mtries': -1, 'sample_rate': 0.632, 'sample_rate_per_class': None, 'binomial_double_trees': False, 'checkpoint': None, 'col_sample_rate_change_per_level': 1.0, 'col_sample_rate_per_tree': 1.0, 'min_split_improvement': 1e-05, 'histogram_type': 'auto', 'categorical_encoding': 'auto', 'calibrate_model': False, 'calibration_frame': None, 'calibration_method': 'auto', 'distribution': 'auto', 'custom_metric_func': None, 'export_checkpoints_dir': None, 'check_constant_response': True, 'gainslift_bins': -1, 'auc_type': 'auto'}\n",
            "\n",
            "\n",
            "Hyperparameters for model DeepLearning_1_AutoML_1_20241025_131517:\n",
            "{'model_id': None, 'training_frame': None, 'validation_frame': None, 'nfolds': 0, 'keep_cross_validation_models': True, 'keep_cross_validation_predictions': False, 'keep_cross_validation_fold_assignment': False, 'fold_assignment': 'auto', 'fold_column': None, 'response_column': None, 'ignored_columns': None, 'ignore_const_cols': True, 'score_each_iteration': False, 'weights_column': None, 'offset_column': None, 'balance_classes': False, 'class_sampling_factors': None, 'max_after_balance_size': 5.0, 'max_confusion_matrix_size': 20, 'checkpoint': None, 'pretrained_autoencoder': None, 'overwrite_with_best_model': True, 'use_all_factor_levels': True, 'standardize': True, 'activation': 'rectifier', 'hidden': [200, 200], 'epochs': 10.0, 'train_samples_per_iteration': -2, 'target_ratio_comm_to_comp': 0.05, 'seed': -1, 'adaptive_rate': True, 'rho': 0.99, 'epsilon': 1e-08, 'rate': 0.005, 'rate_annealing': 1e-06, 'rate_decay': 1.0, 'momentum_start': 0.0, 'momentum_ramp': 1000000.0, 'momentum_stable': 0.0, 'nesterov_accelerated_gradient': True, 'input_dropout_ratio': 0.0, 'hidden_dropout_ratios': None, 'l1': 0.0, 'l2': 0.0, 'max_w2': 3.4028235e+38, 'initial_weight_distribution': 'uniform_adaptive', 'initial_weight_scale': 1.0, 'initial_weights': None, 'initial_biases': None, 'loss': 'automatic', 'distribution': 'auto', 'quantile_alpha': 0.5, 'tweedie_power': 1.5, 'huber_alpha': 0.9, 'score_interval': 5.0, 'score_training_samples': 10000, 'score_validation_samples': 0, 'score_duty_cycle': 0.1, 'classification_stop': 0.0, 'regression_stop': 1e-06, 'stopping_rounds': 5, 'stopping_metric': 'auto', 'stopping_tolerance': 0.0, 'max_runtime_secs': 0.0, 'score_validation_sampling': 'uniform', 'diagnostics': True, 'fast_mode': True, 'force_load_balance': True, 'variable_importances': True, 'replicate_training_data': True, 'single_node_mode': False, 'shuffle_training_data': False, 'missing_values_handling': 'mean_imputation', 'quiet_mode': False, 'autoencoder': False, 'sparse': False, 'col_major': False, 'average_activation': 0.0, 'sparsity_beta': 0.0, 'max_categorical_features': 2147483647, 'reproducible': False, 'export_weights_and_biases': False, 'mini_batch_size': 1, 'categorical_encoding': 'auto', 'elastic_averaging': False, 'elastic_averaging_moving_rate': 0.9, 'elastic_averaging_regularization': 0.001, 'export_checkpoints_dir': None, 'auc_type': 'auto', 'custom_metric_func': None, 'gainslift_bins': -1}\n",
            "\n",
            "\n",
            "Hyperparameters for model XGBoost_grid_1_AutoML_1_20241025_131517_model_2:\n",
            "{'model_id': None, 'training_frame': None, 'validation_frame': None, 'nfolds': 0, 'keep_cross_validation_models': True, 'keep_cross_validation_predictions': False, 'keep_cross_validation_fold_assignment': False, 'score_each_iteration': False, 'fold_assignment': 'auto', 'fold_column': None, 'response_column': None, 'ignored_columns': None, 'ignore_const_cols': True, 'offset_column': None, 'weights_column': None, 'stopping_rounds': 0, 'stopping_metric': 'auto', 'stopping_tolerance': 0.001, 'max_runtime_secs': 0.0, 'seed': -1, 'distribution': 'auto', 'tweedie_power': 1.5, 'categorical_encoding': 'auto', 'quiet_mode': True, 'checkpoint': None, 'export_checkpoints_dir': None, 'custom_metric_func': None, 'ntrees': 50, 'max_depth': 6, 'min_rows': 1.0, 'min_child_weight': 1.0, 'learn_rate': 0.3, 'eta': 0.3, 'sample_rate': 1.0, 'subsample': 1.0, 'col_sample_rate': 1.0, 'colsample_bylevel': 1.0, 'col_sample_rate_per_tree': 1.0, 'colsample_bytree': 1.0, 'colsample_bynode': 1.0, 'max_abs_leafnode_pred': 0.0, 'max_delta_step': 0.0, 'monotone_constraints': None, 'interaction_constraints': None, 'score_tree_interval': 0, 'min_split_improvement': 0.0, 'gamma': 0.0, 'nthread': -1, 'save_matrix_directory': None, 'build_tree_one_node': False, 'parallelize_cross_validation': True, 'calibrate_model': False, 'calibration_frame': None, 'calibration_method': 'auto', 'max_bins': 256, 'max_leaves': 0, 'sample_type': 'uniform', 'normalize_type': 'tree', 'rate_drop': 0.0, 'one_drop': False, 'skip_drop': 0.0, 'tree_method': 'auto', 'grow_policy': 'depthwise', 'booster': 'gbtree', 'reg_lambda': 1.0, 'reg_alpha': 0.0, 'dmatrix_type': 'auto', 'backend': 'auto', 'gpu_id': None, 'gainslift_bins': -1, 'auc_type': 'auto', 'scale_pos_weight': 1.0, 'eval_metric': None, 'score_eval_metric_only': False}\n",
            "\n",
            "\n",
            "Hyperparameters for model XGBoost_3_AutoML_1_20241025_131517:\n",
            "{'model_id': None, 'training_frame': None, 'validation_frame': None, 'nfolds': 0, 'keep_cross_validation_models': True, 'keep_cross_validation_predictions': False, 'keep_cross_validation_fold_assignment': False, 'score_each_iteration': False, 'fold_assignment': 'auto', 'fold_column': None, 'response_column': None, 'ignored_columns': None, 'ignore_const_cols': True, 'offset_column': None, 'weights_column': None, 'stopping_rounds': 0, 'stopping_metric': 'auto', 'stopping_tolerance': 0.001, 'max_runtime_secs': 0.0, 'seed': -1, 'distribution': 'auto', 'tweedie_power': 1.5, 'categorical_encoding': 'auto', 'quiet_mode': True, 'checkpoint': None, 'export_checkpoints_dir': None, 'custom_metric_func': None, 'ntrees': 50, 'max_depth': 6, 'min_rows': 1.0, 'min_child_weight': 1.0, 'learn_rate': 0.3, 'eta': 0.3, 'sample_rate': 1.0, 'subsample': 1.0, 'col_sample_rate': 1.0, 'colsample_bylevel': 1.0, 'col_sample_rate_per_tree': 1.0, 'colsample_bytree': 1.0, 'colsample_bynode': 1.0, 'max_abs_leafnode_pred': 0.0, 'max_delta_step': 0.0, 'monotone_constraints': None, 'interaction_constraints': None, 'score_tree_interval': 0, 'min_split_improvement': 0.0, 'gamma': 0.0, 'nthread': -1, 'save_matrix_directory': None, 'build_tree_one_node': False, 'parallelize_cross_validation': True, 'calibrate_model': False, 'calibration_frame': None, 'calibration_method': 'auto', 'max_bins': 256, 'max_leaves': 0, 'sample_type': 'uniform', 'normalize_type': 'tree', 'rate_drop': 0.0, 'one_drop': False, 'skip_drop': 0.0, 'tree_method': 'auto', 'grow_policy': 'depthwise', 'booster': 'gbtree', 'reg_lambda': 1.0, 'reg_alpha': 0.0, 'dmatrix_type': 'auto', 'backend': 'auto', 'gpu_id': None, 'gainslift_bins': -1, 'auc_type': 'auto', 'scale_pos_weight': 1.0, 'eval_metric': None, 'score_eval_metric_only': False}\n",
            "\n",
            "\n",
            "Hyperparameters for model XGBoost_grid_1_AutoML_1_20241025_131517_model_1:\n",
            "{'model_id': None, 'training_frame': None, 'validation_frame': None, 'nfolds': 0, 'keep_cross_validation_models': True, 'keep_cross_validation_predictions': False, 'keep_cross_validation_fold_assignment': False, 'score_each_iteration': False, 'fold_assignment': 'auto', 'fold_column': None, 'response_column': None, 'ignored_columns': None, 'ignore_const_cols': True, 'offset_column': None, 'weights_column': None, 'stopping_rounds': 0, 'stopping_metric': 'auto', 'stopping_tolerance': 0.001, 'max_runtime_secs': 0.0, 'seed': -1, 'distribution': 'auto', 'tweedie_power': 1.5, 'categorical_encoding': 'auto', 'quiet_mode': True, 'checkpoint': None, 'export_checkpoints_dir': None, 'custom_metric_func': None, 'ntrees': 50, 'max_depth': 6, 'min_rows': 1.0, 'min_child_weight': 1.0, 'learn_rate': 0.3, 'eta': 0.3, 'sample_rate': 1.0, 'subsample': 1.0, 'col_sample_rate': 1.0, 'colsample_bylevel': 1.0, 'col_sample_rate_per_tree': 1.0, 'colsample_bytree': 1.0, 'colsample_bynode': 1.0, 'max_abs_leafnode_pred': 0.0, 'max_delta_step': 0.0, 'monotone_constraints': None, 'interaction_constraints': None, 'score_tree_interval': 0, 'min_split_improvement': 0.0, 'gamma': 0.0, 'nthread': -1, 'save_matrix_directory': None, 'build_tree_one_node': False, 'parallelize_cross_validation': True, 'calibrate_model': False, 'calibration_frame': None, 'calibration_method': 'auto', 'max_bins': 256, 'max_leaves': 0, 'sample_type': 'uniform', 'normalize_type': 'tree', 'rate_drop': 0.0, 'one_drop': False, 'skip_drop': 0.0, 'tree_method': 'auto', 'grow_policy': 'depthwise', 'booster': 'gbtree', 'reg_lambda': 1.0, 'reg_alpha': 0.0, 'dmatrix_type': 'auto', 'backend': 'auto', 'gpu_id': None, 'gainslift_bins': -1, 'auc_type': 'auto', 'scale_pos_weight': 1.0, 'eval_metric': None, 'score_eval_metric_only': False}\n",
            "\n",
            "\n",
            "Hyperparameters for model XGBoost_1_AutoML_1_20241025_131517:\n",
            "{'model_id': None, 'training_frame': None, 'validation_frame': None, 'nfolds': 0, 'keep_cross_validation_models': True, 'keep_cross_validation_predictions': False, 'keep_cross_validation_fold_assignment': False, 'score_each_iteration': False, 'fold_assignment': 'auto', 'fold_column': None, 'response_column': None, 'ignored_columns': None, 'ignore_const_cols': True, 'offset_column': None, 'weights_column': None, 'stopping_rounds': 0, 'stopping_metric': 'auto', 'stopping_tolerance': 0.001, 'max_runtime_secs': 0.0, 'seed': -1, 'distribution': 'auto', 'tweedie_power': 1.5, 'categorical_encoding': 'auto', 'quiet_mode': True, 'checkpoint': None, 'export_checkpoints_dir': None, 'custom_metric_func': None, 'ntrees': 50, 'max_depth': 6, 'min_rows': 1.0, 'min_child_weight': 1.0, 'learn_rate': 0.3, 'eta': 0.3, 'sample_rate': 1.0, 'subsample': 1.0, 'col_sample_rate': 1.0, 'colsample_bylevel': 1.0, 'col_sample_rate_per_tree': 1.0, 'colsample_bytree': 1.0, 'colsample_bynode': 1.0, 'max_abs_leafnode_pred': 0.0, 'max_delta_step': 0.0, 'monotone_constraints': None, 'interaction_constraints': None, 'score_tree_interval': 0, 'min_split_improvement': 0.0, 'gamma': 0.0, 'nthread': -1, 'save_matrix_directory': None, 'build_tree_one_node': False, 'parallelize_cross_validation': True, 'calibrate_model': False, 'calibration_frame': None, 'calibration_method': 'auto', 'max_bins': 256, 'max_leaves': 0, 'sample_type': 'uniform', 'normalize_type': 'tree', 'rate_drop': 0.0, 'one_drop': False, 'skip_drop': 0.0, 'tree_method': 'auto', 'grow_policy': 'depthwise', 'booster': 'gbtree', 'reg_lambda': 1.0, 'reg_alpha': 0.0, 'dmatrix_type': 'auto', 'backend': 'auto', 'gpu_id': None, 'gainslift_bins': -1, 'auc_type': 'auto', 'scale_pos_weight': 1.0, 'eval_metric': None, 'score_eval_metric_only': False}\n",
            "\n",
            "\n",
            "Hyperparameters for model XGBoost_grid_1_AutoML_1_20241025_131517_model_3:\n",
            "{'model_id': None, 'training_frame': None, 'validation_frame': None, 'nfolds': 0, 'keep_cross_validation_models': True, 'keep_cross_validation_predictions': False, 'keep_cross_validation_fold_assignment': False, 'score_each_iteration': False, 'fold_assignment': 'auto', 'fold_column': None, 'response_column': None, 'ignored_columns': None, 'ignore_const_cols': True, 'offset_column': None, 'weights_column': None, 'stopping_rounds': 0, 'stopping_metric': 'auto', 'stopping_tolerance': 0.001, 'max_runtime_secs': 0.0, 'seed': -1, 'distribution': 'auto', 'tweedie_power': 1.5, 'categorical_encoding': 'auto', 'quiet_mode': True, 'checkpoint': None, 'export_checkpoints_dir': None, 'custom_metric_func': None, 'ntrees': 50, 'max_depth': 6, 'min_rows': 1.0, 'min_child_weight': 1.0, 'learn_rate': 0.3, 'eta': 0.3, 'sample_rate': 1.0, 'subsample': 1.0, 'col_sample_rate': 1.0, 'colsample_bylevel': 1.0, 'col_sample_rate_per_tree': 1.0, 'colsample_bytree': 1.0, 'colsample_bynode': 1.0, 'max_abs_leafnode_pred': 0.0, 'max_delta_step': 0.0, 'monotone_constraints': None, 'interaction_constraints': None, 'score_tree_interval': 0, 'min_split_improvement': 0.0, 'gamma': 0.0, 'nthread': -1, 'save_matrix_directory': None, 'build_tree_one_node': False, 'parallelize_cross_validation': True, 'calibrate_model': False, 'calibration_frame': None, 'calibration_method': 'auto', 'max_bins': 256, 'max_leaves': 0, 'sample_type': 'uniform', 'normalize_type': 'tree', 'rate_drop': 0.0, 'one_drop': False, 'skip_drop': 0.0, 'tree_method': 'auto', 'grow_policy': 'depthwise', 'booster': 'gbtree', 'reg_lambda': 1.0, 'reg_alpha': 0.0, 'dmatrix_type': 'auto', 'backend': 'auto', 'gpu_id': None, 'gainslift_bins': -1, 'auc_type': 'auto', 'scale_pos_weight': 1.0, 'eval_metric': None, 'score_eval_metric_only': False}\n",
            "\n",
            "\n",
            "Hyperparameters for model XGBoost_2_AutoML_1_20241025_131517:\n",
            "{'model_id': None, 'training_frame': None, 'validation_frame': None, 'nfolds': 0, 'keep_cross_validation_models': True, 'keep_cross_validation_predictions': False, 'keep_cross_validation_fold_assignment': False, 'score_each_iteration': False, 'fold_assignment': 'auto', 'fold_column': None, 'response_column': None, 'ignored_columns': None, 'ignore_const_cols': True, 'offset_column': None, 'weights_column': None, 'stopping_rounds': 0, 'stopping_metric': 'auto', 'stopping_tolerance': 0.001, 'max_runtime_secs': 0.0, 'seed': -1, 'distribution': 'auto', 'tweedie_power': 1.5, 'categorical_encoding': 'auto', 'quiet_mode': True, 'checkpoint': None, 'export_checkpoints_dir': None, 'custom_metric_func': None, 'ntrees': 50, 'max_depth': 6, 'min_rows': 1.0, 'min_child_weight': 1.0, 'learn_rate': 0.3, 'eta': 0.3, 'sample_rate': 1.0, 'subsample': 1.0, 'col_sample_rate': 1.0, 'colsample_bylevel': 1.0, 'col_sample_rate_per_tree': 1.0, 'colsample_bytree': 1.0, 'colsample_bynode': 1.0, 'max_abs_leafnode_pred': 0.0, 'max_delta_step': 0.0, 'monotone_constraints': None, 'interaction_constraints': None, 'score_tree_interval': 0, 'min_split_improvement': 0.0, 'gamma': 0.0, 'nthread': -1, 'save_matrix_directory': None, 'build_tree_one_node': False, 'parallelize_cross_validation': True, 'calibrate_model': False, 'calibration_frame': None, 'calibration_method': 'auto', 'max_bins': 256, 'max_leaves': 0, 'sample_type': 'uniform', 'normalize_type': 'tree', 'rate_drop': 0.0, 'one_drop': False, 'skip_drop': 0.0, 'tree_method': 'auto', 'grow_policy': 'depthwise', 'booster': 'gbtree', 'reg_lambda': 1.0, 'reg_alpha': 0.0, 'dmatrix_type': 'auto', 'backend': 'auto', 'gpu_id': None, 'gainslift_bins': -1, 'auc_type': 'auto', 'scale_pos_weight': 1.0, 'eval_metric': None, 'score_eval_metric_only': False}\n",
            "\n",
            "\n",
            "Hyperparameters for model GLM_1_AutoML_1_20241025_131517:\n",
            "{'model_id': None, 'training_frame': None, 'validation_frame': None, 'nfolds': 0, 'checkpoint': None, 'export_checkpoints_dir': None, 'seed': -1, 'keep_cross_validation_models': True, 'keep_cross_validation_predictions': False, 'keep_cross_validation_fold_assignment': False, 'fold_assignment': 'auto', 'fold_column': None, 'response_column': None, 'ignored_columns': None, 'random_columns': None, 'ignore_const_cols': True, 'score_each_iteration': False, 'score_iteration_interval': -1, 'offset_column': None, 'weights_column': None, 'family': 'auto', 'rand_family': None, 'tweedie_variance_power': 0.0, 'tweedie_link_power': 1.0, 'theta': 1e-10, 'solver': 'auto', 'alpha': None, 'lambda': None, 'lambda_search': False, 'early_stopping': True, 'nlambdas': -1, 'standardize': True, 'missing_values_handling': 'mean_imputation', 'plug_values': None, 'compute_p_values': False, 'dispersion_parameter_method': 'pearson', 'init_dispersion_parameter': 1.0, 'remove_collinear_columns': False, 'intercept': True, 'non_negative': False, 'max_iterations': -1, 'objective_epsilon': -1.0, 'beta_epsilon': 0.0001, 'gradient_epsilon': -1.0, 'link': 'family_default', 'rand_link': None, 'startval': None, 'calc_like': False, 'HGLM': False, 'prior': -1.0, 'cold_start': False, 'lambda_min_ratio': -1.0, 'max_active_predictors': -1, 'interactions': None, 'interaction_pairs': None, 'obj_reg': -1.0, 'stopping_rounds': 0, 'stopping_metric': 'auto', 'stopping_tolerance': 0.001, 'balance_classes': False, 'class_sampling_factors': None, 'max_after_balance_size': 5.0, 'max_confusion_matrix_size': 20, 'max_runtime_secs': 0.0, 'custom_metric_func': None, 'generate_scoring_history': False, 'auc_type': 'auto', 'dispersion_epsilon': 0.0001, 'tweedie_epsilon': 8e-17, 'max_iterations_dispersion': 3000, 'build_null_model': False, 'fix_dispersion_parameter': False, 'generate_variable_inflation_factors': False, 'fix_tweedie_variance_power': True, 'dispersion_learning_rate': 0.5, 'influence': None, 'gainslift_bins': -1, 'linear_constraints': None, 'init_optimal_glm': False, 'separate_linear_beta': False, 'constraint_eta0': 0.1258925, 'constraint_tau': 10.0, 'constraint_alpha': 0.1, 'constraint_beta': 0.9, 'constraint_c0': 10.0}\n",
            "\n",
            "\n",
            "Hyperparameters for model GBM_grid_1_AutoML_1_20241025_131517_model_1:\n",
            "{'model_id': None, 'training_frame': None, 'validation_frame': None, 'nfolds': 0, 'keep_cross_validation_models': True, 'keep_cross_validation_predictions': False, 'keep_cross_validation_fold_assignment': False, 'score_each_iteration': False, 'score_tree_interval': 0, 'fold_assignment': 'auto', 'fold_column': None, 'response_column': None, 'ignored_columns': None, 'ignore_const_cols': True, 'offset_column': None, 'weights_column': None, 'balance_classes': False, 'class_sampling_factors': None, 'max_after_balance_size': 5.0, 'max_confusion_matrix_size': 20, 'ntrees': 50, 'max_depth': 5, 'min_rows': 10.0, 'nbins': 20, 'nbins_top_level': 1024, 'nbins_cats': 1024, 'r2_stopping': None, 'stopping_rounds': 0, 'stopping_metric': 'auto', 'stopping_tolerance': 0.001, 'max_runtime_secs': 0.0, 'seed': -1, 'build_tree_one_node': False, 'learn_rate': 0.1, 'learn_rate_annealing': 1.0, 'distribution': 'auto', 'quantile_alpha': 0.5, 'tweedie_power': 1.5, 'huber_alpha': 0.9, 'checkpoint': None, 'sample_rate': 1.0, 'sample_rate_per_class': None, 'col_sample_rate': 1.0, 'col_sample_rate_change_per_level': 1.0, 'col_sample_rate_per_tree': 1.0, 'min_split_improvement': 1e-05, 'histogram_type': 'auto', 'max_abs_leafnode_pred': None, 'pred_noise_bandwidth': 0.0, 'categorical_encoding': 'auto', 'calibrate_model': False, 'calibration_frame': None, 'calibration_method': 'auto', 'custom_metric_func': None, 'custom_distribution_func': None, 'export_checkpoints_dir': None, 'in_training_checkpoints_dir': None, 'in_training_checkpoints_tree_interval': 1, 'monotone_constraints': None, 'check_constant_response': True, 'gainslift_bins': -1, 'auc_type': 'auto', 'interaction_constraints': None, 'auto_rebalance': True}\n",
            "\n",
            "\n",
            "Hyperparameters for model GBM_1_AutoML_1_20241025_131517:\n",
            "{'model_id': None, 'training_frame': None, 'validation_frame': None, 'nfolds': 0, 'keep_cross_validation_models': True, 'keep_cross_validation_predictions': False, 'keep_cross_validation_fold_assignment': False, 'score_each_iteration': False, 'score_tree_interval': 0, 'fold_assignment': 'auto', 'fold_column': None, 'response_column': None, 'ignored_columns': None, 'ignore_const_cols': True, 'offset_column': None, 'weights_column': None, 'balance_classes': False, 'class_sampling_factors': None, 'max_after_balance_size': 5.0, 'max_confusion_matrix_size': 20, 'ntrees': 50, 'max_depth': 5, 'min_rows': 10.0, 'nbins': 20, 'nbins_top_level': 1024, 'nbins_cats': 1024, 'r2_stopping': None, 'stopping_rounds': 0, 'stopping_metric': 'auto', 'stopping_tolerance': 0.001, 'max_runtime_secs': 0.0, 'seed': -1, 'build_tree_one_node': False, 'learn_rate': 0.1, 'learn_rate_annealing': 1.0, 'distribution': 'auto', 'quantile_alpha': 0.5, 'tweedie_power': 1.5, 'huber_alpha': 0.9, 'checkpoint': None, 'sample_rate': 1.0, 'sample_rate_per_class': None, 'col_sample_rate': 1.0, 'col_sample_rate_change_per_level': 1.0, 'col_sample_rate_per_tree': 1.0, 'min_split_improvement': 1e-05, 'histogram_type': 'auto', 'max_abs_leafnode_pred': None, 'pred_noise_bandwidth': 0.0, 'categorical_encoding': 'auto', 'calibrate_model': False, 'calibration_frame': None, 'calibration_method': 'auto', 'custom_metric_func': None, 'custom_distribution_func': None, 'export_checkpoints_dir': None, 'in_training_checkpoints_dir': None, 'in_training_checkpoints_tree_interval': 1, 'monotone_constraints': None, 'check_constant_response': True, 'gainslift_bins': -1, 'auc_type': 'auto', 'interaction_constraints': None, 'auto_rebalance': True}\n",
            "\n",
            "\n",
            "Hyperparameters for model DRF_1_AutoML_1_20241025_131517:\n",
            "{'model_id': None, 'training_frame': None, 'validation_frame': None, 'nfolds': 0, 'keep_cross_validation_models': True, 'keep_cross_validation_predictions': False, 'keep_cross_validation_fold_assignment': False, 'score_each_iteration': False, 'score_tree_interval': 0, 'fold_assignment': 'auto', 'fold_column': None, 'response_column': None, 'ignored_columns': None, 'ignore_const_cols': True, 'weights_column': None, 'balance_classes': False, 'class_sampling_factors': None, 'max_after_balance_size': 5.0, 'max_confusion_matrix_size': 20, 'ntrees': 50, 'max_depth': 20, 'min_rows': 1.0, 'nbins': 20, 'nbins_top_level': 1024, 'nbins_cats': 1024, 'r2_stopping': None, 'stopping_rounds': 0, 'stopping_metric': 'auto', 'stopping_tolerance': 0.001, 'max_runtime_secs': 0.0, 'seed': -1, 'build_tree_one_node': False, 'mtries': -1, 'sample_rate': 0.632, 'sample_rate_per_class': None, 'binomial_double_trees': False, 'checkpoint': None, 'col_sample_rate_change_per_level': 1.0, 'col_sample_rate_per_tree': 1.0, 'min_split_improvement': 1e-05, 'histogram_type': 'auto', 'categorical_encoding': 'auto', 'calibrate_model': False, 'calibration_frame': None, 'calibration_method': 'auto', 'distribution': 'auto', 'custom_metric_func': None, 'export_checkpoints_dir': None, 'check_constant_response': True, 'gainslift_bins': -1, 'auc_type': 'auto'}\n",
            "\n",
            "\n",
            "Hyperparameters for model GBM_3_AutoML_1_20241025_131517:\n",
            "{'model_id': None, 'training_frame': None, 'validation_frame': None, 'nfolds': 0, 'keep_cross_validation_models': True, 'keep_cross_validation_predictions': False, 'keep_cross_validation_fold_assignment': False, 'score_each_iteration': False, 'score_tree_interval': 0, 'fold_assignment': 'auto', 'fold_column': None, 'response_column': None, 'ignored_columns': None, 'ignore_const_cols': True, 'offset_column': None, 'weights_column': None, 'balance_classes': False, 'class_sampling_factors': None, 'max_after_balance_size': 5.0, 'max_confusion_matrix_size': 20, 'ntrees': 50, 'max_depth': 5, 'min_rows': 10.0, 'nbins': 20, 'nbins_top_level': 1024, 'nbins_cats': 1024, 'r2_stopping': None, 'stopping_rounds': 0, 'stopping_metric': 'auto', 'stopping_tolerance': 0.001, 'max_runtime_secs': 0.0, 'seed': -1, 'build_tree_one_node': False, 'learn_rate': 0.1, 'learn_rate_annealing': 1.0, 'distribution': 'auto', 'quantile_alpha': 0.5, 'tweedie_power': 1.5, 'huber_alpha': 0.9, 'checkpoint': None, 'sample_rate': 1.0, 'sample_rate_per_class': None, 'col_sample_rate': 1.0, 'col_sample_rate_change_per_level': 1.0, 'col_sample_rate_per_tree': 1.0, 'min_split_improvement': 1e-05, 'histogram_type': 'auto', 'max_abs_leafnode_pred': None, 'pred_noise_bandwidth': 0.0, 'categorical_encoding': 'auto', 'calibrate_model': False, 'calibration_frame': None, 'calibration_method': 'auto', 'custom_metric_func': None, 'custom_distribution_func': None, 'export_checkpoints_dir': None, 'in_training_checkpoints_dir': None, 'in_training_checkpoints_tree_interval': 1, 'monotone_constraints': None, 'check_constant_response': True, 'gainslift_bins': -1, 'auc_type': 'auto', 'interaction_constraints': None, 'auto_rebalance': True}\n",
            "\n",
            "\n",
            "Hyperparameters for model GBM_grid_1_AutoML_1_20241025_131517_model_2:\n",
            "{'model_id': None, 'training_frame': None, 'validation_frame': None, 'nfolds': 0, 'keep_cross_validation_models': True, 'keep_cross_validation_predictions': False, 'keep_cross_validation_fold_assignment': False, 'score_each_iteration': False, 'score_tree_interval': 0, 'fold_assignment': 'auto', 'fold_column': None, 'response_column': None, 'ignored_columns': None, 'ignore_const_cols': True, 'offset_column': None, 'weights_column': None, 'balance_classes': False, 'class_sampling_factors': None, 'max_after_balance_size': 5.0, 'max_confusion_matrix_size': 20, 'ntrees': 50, 'max_depth': 5, 'min_rows': 10.0, 'nbins': 20, 'nbins_top_level': 1024, 'nbins_cats': 1024, 'r2_stopping': None, 'stopping_rounds': 0, 'stopping_metric': 'auto', 'stopping_tolerance': 0.001, 'max_runtime_secs': 0.0, 'seed': -1, 'build_tree_one_node': False, 'learn_rate': 0.1, 'learn_rate_annealing': 1.0, 'distribution': 'auto', 'quantile_alpha': 0.5, 'tweedie_power': 1.5, 'huber_alpha': 0.9, 'checkpoint': None, 'sample_rate': 1.0, 'sample_rate_per_class': None, 'col_sample_rate': 1.0, 'col_sample_rate_change_per_level': 1.0, 'col_sample_rate_per_tree': 1.0, 'min_split_improvement': 1e-05, 'histogram_type': 'auto', 'max_abs_leafnode_pred': None, 'pred_noise_bandwidth': 0.0, 'categorical_encoding': 'auto', 'calibrate_model': False, 'calibration_frame': None, 'calibration_method': 'auto', 'custom_metric_func': None, 'custom_distribution_func': None, 'export_checkpoints_dir': None, 'in_training_checkpoints_dir': None, 'in_training_checkpoints_tree_interval': 1, 'monotone_constraints': None, 'check_constant_response': True, 'gainslift_bins': -1, 'auc_type': 'auto', 'interaction_constraints': None, 'auto_rebalance': True}\n",
            "\n",
            "\n",
            "Hyperparameters for model GBM_2_AutoML_1_20241025_131517:\n",
            "{'model_id': None, 'training_frame': None, 'validation_frame': None, 'nfolds': 0, 'keep_cross_validation_models': True, 'keep_cross_validation_predictions': False, 'keep_cross_validation_fold_assignment': False, 'score_each_iteration': False, 'score_tree_interval': 0, 'fold_assignment': 'auto', 'fold_column': None, 'response_column': None, 'ignored_columns': None, 'ignore_const_cols': True, 'offset_column': None, 'weights_column': None, 'balance_classes': False, 'class_sampling_factors': None, 'max_after_balance_size': 5.0, 'max_confusion_matrix_size': 20, 'ntrees': 50, 'max_depth': 5, 'min_rows': 10.0, 'nbins': 20, 'nbins_top_level': 1024, 'nbins_cats': 1024, 'r2_stopping': None, 'stopping_rounds': 0, 'stopping_metric': 'auto', 'stopping_tolerance': 0.001, 'max_runtime_secs': 0.0, 'seed': -1, 'build_tree_one_node': False, 'learn_rate': 0.1, 'learn_rate_annealing': 1.0, 'distribution': 'auto', 'quantile_alpha': 0.5, 'tweedie_power': 1.5, 'huber_alpha': 0.9, 'checkpoint': None, 'sample_rate': 1.0, 'sample_rate_per_class': None, 'col_sample_rate': 1.0, 'col_sample_rate_change_per_level': 1.0, 'col_sample_rate_per_tree': 1.0, 'min_split_improvement': 1e-05, 'histogram_type': 'auto', 'max_abs_leafnode_pred': None, 'pred_noise_bandwidth': 0.0, 'categorical_encoding': 'auto', 'calibrate_model': False, 'calibration_frame': None, 'calibration_method': 'auto', 'custom_metric_func': None, 'custom_distribution_func': None, 'export_checkpoints_dir': None, 'in_training_checkpoints_dir': None, 'in_training_checkpoints_tree_interval': 1, 'monotone_constraints': None, 'check_constant_response': True, 'gainslift_bins': -1, 'auc_type': 'auto', 'interaction_constraints': None, 'auto_rebalance': True}\n",
            "\n",
            "\n",
            "Hyperparameters for model GBM_5_AutoML_1_20241025_131517:\n",
            "{'model_id': None, 'training_frame': None, 'validation_frame': None, 'nfolds': 0, 'keep_cross_validation_models': True, 'keep_cross_validation_predictions': False, 'keep_cross_validation_fold_assignment': False, 'score_each_iteration': False, 'score_tree_interval': 0, 'fold_assignment': 'auto', 'fold_column': None, 'response_column': None, 'ignored_columns': None, 'ignore_const_cols': True, 'offset_column': None, 'weights_column': None, 'balance_classes': False, 'class_sampling_factors': None, 'max_after_balance_size': 5.0, 'max_confusion_matrix_size': 20, 'ntrees': 50, 'max_depth': 5, 'min_rows': 10.0, 'nbins': 20, 'nbins_top_level': 1024, 'nbins_cats': 1024, 'r2_stopping': None, 'stopping_rounds': 0, 'stopping_metric': 'auto', 'stopping_tolerance': 0.001, 'max_runtime_secs': 0.0, 'seed': -1, 'build_tree_one_node': False, 'learn_rate': 0.1, 'learn_rate_annealing': 1.0, 'distribution': 'auto', 'quantile_alpha': 0.5, 'tweedie_power': 1.5, 'huber_alpha': 0.9, 'checkpoint': None, 'sample_rate': 1.0, 'sample_rate_per_class': None, 'col_sample_rate': 1.0, 'col_sample_rate_change_per_level': 1.0, 'col_sample_rate_per_tree': 1.0, 'min_split_improvement': 1e-05, 'histogram_type': 'auto', 'max_abs_leafnode_pred': None, 'pred_noise_bandwidth': 0.0, 'categorical_encoding': 'auto', 'calibrate_model': False, 'calibration_frame': None, 'calibration_method': 'auto', 'custom_metric_func': None, 'custom_distribution_func': None, 'export_checkpoints_dir': None, 'in_training_checkpoints_dir': None, 'in_training_checkpoints_tree_interval': 1, 'monotone_constraints': None, 'check_constant_response': True, 'gainslift_bins': -1, 'auc_type': 'auto', 'interaction_constraints': None, 'auto_rebalance': True}\n",
            "\n",
            "\n",
            "Hyperparameters for model GBM_4_AutoML_1_20241025_131517:\n",
            "{'model_id': None, 'training_frame': None, 'validation_frame': None, 'nfolds': 0, 'keep_cross_validation_models': True, 'keep_cross_validation_predictions': False, 'keep_cross_validation_fold_assignment': False, 'score_each_iteration': False, 'score_tree_interval': 0, 'fold_assignment': 'auto', 'fold_column': None, 'response_column': None, 'ignored_columns': None, 'ignore_const_cols': True, 'offset_column': None, 'weights_column': None, 'balance_classes': False, 'class_sampling_factors': None, 'max_after_balance_size': 5.0, 'max_confusion_matrix_size': 20, 'ntrees': 50, 'max_depth': 5, 'min_rows': 10.0, 'nbins': 20, 'nbins_top_level': 1024, 'nbins_cats': 1024, 'r2_stopping': None, 'stopping_rounds': 0, 'stopping_metric': 'auto', 'stopping_tolerance': 0.001, 'max_runtime_secs': 0.0, 'seed': -1, 'build_tree_one_node': False, 'learn_rate': 0.1, 'learn_rate_annealing': 1.0, 'distribution': 'auto', 'quantile_alpha': 0.5, 'tweedie_power': 1.5, 'huber_alpha': 0.9, 'checkpoint': None, 'sample_rate': 1.0, 'sample_rate_per_class': None, 'col_sample_rate': 1.0, 'col_sample_rate_change_per_level': 1.0, 'col_sample_rate_per_tree': 1.0, 'min_split_improvement': 1e-05, 'histogram_type': 'auto', 'max_abs_leafnode_pred': None, 'pred_noise_bandwidth': 0.0, 'categorical_encoding': 'auto', 'calibrate_model': False, 'calibration_frame': None, 'calibration_method': 'auto', 'custom_metric_func': None, 'custom_distribution_func': None, 'export_checkpoints_dir': None, 'in_training_checkpoints_dir': None, 'in_training_checkpoints_tree_interval': 1, 'monotone_constraints': None, 'check_constant_response': True, 'gainslift_bins': -1, 'auc_type': 'auto', 'interaction_constraints': None, 'auto_rebalance': True}\n",
            "\n",
            "\n"
          ]
        }
      ],
      "source": [
        "for model_id in lb['model_id'].as_data_frame()['model_id']:\n",
        "    model = h2o.get_model(model_id)\n",
        "    hyperparameters = model.get_params()\n",
        "    print(f\"Hyperparameters for model {model_id}:\")\n",
        "    print(hyperparameters)\n",
        "    print(\"\\n\")"
      ]
    },
    {
      "cell_type": "code",
      "execution_count": null,
      "metadata": {
        "colab": {
          "base_uri": "https://localhost:8080/"
        },
        "id": "3oE15hVWQ_BP",
        "outputId": "e0d62f30-1d1b-4f87-de9f-926d08099021"
      },
      "outputs": [
        {
          "name": "stdout",
          "output_type": "stream",
          "text": [
            "Hyperparameters for model GBM_4_AutoML_1_20241025_131517:\n",
            "{'model_id': None, 'training_frame': None, 'response_column': None, 'validation_frame': None, 'blending_frame': None, 'base_models': [], 'metalearner_algorithm': 'auto', 'metalearner_nfolds': 0, 'metalearner_fold_assignment': None, 'metalearner_fold_column': None, 'metalearner_params': None, 'metalearner_transform': 'none', 'max_runtime_secs': 0.0, 'weights_column': None, 'offset_column': None, 'custom_metric_func': None, 'seed': -1, 'score_training_samples': 10000, 'keep_levelone_frame': False, 'export_checkpoints_dir': None, 'auc_type': 'auto', 'gainslift_bins': -1}\n",
            "\n",
            "\n"
          ]
        }
      ],
      "source": [
        "model = aml.get_best_model()\n",
        "hyperparameters = model.get_params()\n",
        "print(f\"Hyperparameters for model {model_id}:\")\n",
        "print(hyperparameters)\n",
        "print(\"\\n\")"
      ]
    }
  ],
  "metadata": {
    "colab": {
      "provenance": []
    },
    "kernelspec": {
      "display_name": "Python 3",
      "name": "python3"
    },
    "language_info": {
      "name": "python"
    }
  },
  "nbformat": 4,
  "nbformat_minor": 0
}

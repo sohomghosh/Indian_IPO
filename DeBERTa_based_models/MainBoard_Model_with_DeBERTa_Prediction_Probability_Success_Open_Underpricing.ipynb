{
 "cells": [
  {
   "cell_type": "code",
   "execution_count": null,
   "metadata": {
    "id": "pK7zs1krzCGL"
   },
   "outputs": [],
   "source": [
    "import pandas as pd\n",
    "y = 'Success_Open'\n",
    "tp = 'mb'\n",
    "deberta_probab = pd.read_csv(\"/content/drive/MyDrive/datasets/Indian_IPO_Prediction/deberta_probabilities/deberta_probabilities_mb_success_open.csv\")"
   ]
  },
  {
   "cell_type": "code",
   "execution_count": null,
   "metadata": {
    "id": "bX3HdMcoiQ3K"
   },
   "outputs": [],
   "source": [
    "import pandas as pd\n",
    "import numpy as np\n",
    "import pickle"
   ]
  },
  {
   "cell_type": "code",
   "execution_count": null,
   "metadata": {
    "id": "xAMhtgALJQML"
   },
   "outputs": [],
   "source": [
    "#text_features = ['full_text_content', 'full_text_context_with_news', 'answer_of_question_1',\t'answer_of_question_2',\t'answer_of_question_3','answer_of_question_4','answer_of_question_5','answer_of_question_6','answer_of_question_7','answer_of_question_8','answer_of_question_9','answer_of_question_10','answer_of_question_11','answer_of_question_12','answer_of_question_13','answer_of_question_14','answer_of_question_15','answer_of_question_16','answer_of_question_17','answer_of_question_18','answer_of_question_19','answer_of_question_20','answer_of_question_21','answer_of_question_22','answer_of_question_23','answer_of_question_24','answer_of_question_25']"
   ]
  },
  {
   "cell_type": "code",
   "execution_count": null,
   "metadata": {
    "colab": {
     "base_uri": "https://localhost:8080/"
    },
    "id": "9OX5pKIpKeil",
    "outputId": "3b1f64a9-166b-4a85-ff89-b32674669d9f"
   },
   "outputs": [
    {
     "name": "stdout",
     "output_type": "stream",
     "text": [
      "\u001b[2K     \u001b[90m━━━━━━━━━━━━━━━━━━━━━━━━━━━━━━━━━━━━━━━━\u001b[0m \u001b[32m265.8/265.8 MB\u001b[0m \u001b[31m4.1 MB/s\u001b[0m eta \u001b[36m0:00:00\u001b[0m\n",
      "\u001b[?25h  Preparing metadata (setup.py) ... \u001b[?25l\u001b[?25hdone\n",
      "  Building wheel for h2o (setup.py) ... \u001b[?25l\u001b[?25hdone\n"
     ]
    }
   ],
   "source": [
    "!pip install -q h2o"
   ]
  },
  {
   "cell_type": "code",
   "execution_count": null,
   "metadata": {
    "colab": {
     "base_uri": "https://localhost:8080/",
     "height": 544
    },
    "id": "1UIBFIyGKiZG",
    "outputId": "8ee47251-a640-4b5a-8f91-ee25e0c0e150"
   },
   "outputs": [
    {
     "name": "stdout",
     "output_type": "stream",
     "text": [
      "Checking whether there is an H2O instance running at http://localhost:54321..... not found.\n",
      "Attempting to start a local H2O server...\n",
      "  Java Version: openjdk version \"11.0.25\" 2024-10-15; OpenJDK Runtime Environment (build 11.0.25+9-post-Ubuntu-1ubuntu122.04); OpenJDK 64-Bit Server VM (build 11.0.25+9-post-Ubuntu-1ubuntu122.04, mixed mode, sharing)\n",
      "  Starting server from /usr/local/lib/python3.10/dist-packages/h2o/backend/bin/h2o.jar\n",
      "  Ice root: /tmp/tmp3zaezqcj\n",
      "  JVM stdout: /tmp/tmp3zaezqcj/h2o_unknownUser_started_from_python.out\n",
      "  JVM stderr: /tmp/tmp3zaezqcj/h2o_unknownUser_started_from_python.err\n",
      "  Server is running at http://127.0.0.1:54321\n",
      "Connecting to H2O server at http://127.0.0.1:54321 ... successful.\n"
     ]
    },
    {
     "data": {
      "text/html": [
       "\n",
       "<style>\n",
       "\n",
       "#h2o-table-1.h2o-container {\n",
       "  overflow-x: auto;\n",
       "}\n",
       "#h2o-table-1 .h2o-table {\n",
       "  /* width: 100%; */\n",
       "  margin-top: 1em;\n",
       "  margin-bottom: 1em;\n",
       "}\n",
       "#h2o-table-1 .h2o-table caption {\n",
       "  white-space: nowrap;\n",
       "  caption-side: top;\n",
       "  text-align: left;\n",
       "  /* margin-left: 1em; */\n",
       "  margin: 0;\n",
       "  font-size: larger;\n",
       "}\n",
       "#h2o-table-1 .h2o-table thead {\n",
       "  white-space: nowrap; \n",
       "  position: sticky;\n",
       "  top: 0;\n",
       "  box-shadow: 0 -1px inset;\n",
       "}\n",
       "#h2o-table-1 .h2o-table tbody {\n",
       "  overflow: auto;\n",
       "}\n",
       "#h2o-table-1 .h2o-table th,\n",
       "#h2o-table-1 .h2o-table td {\n",
       "  text-align: right;\n",
       "  /* border: 1px solid; */\n",
       "}\n",
       "#h2o-table-1 .h2o-table tr:nth-child(even) {\n",
       "  /* background: #F5F5F5 */\n",
       "}\n",
       "\n",
       "</style>      \n",
       "<div id=\"h2o-table-1\" class=\"h2o-container\">\n",
       "  <table class=\"h2o-table\">\n",
       "    <caption></caption>\n",
       "    <thead></thead>\n",
       "    <tbody><tr><td>H2O_cluster_uptime:</td>\n",
       "<td>08 secs</td></tr>\n",
       "<tr><td>H2O_cluster_timezone:</td>\n",
       "<td>Etc/UTC</td></tr>\n",
       "<tr><td>H2O_data_parsing_timezone:</td>\n",
       "<td>UTC</td></tr>\n",
       "<tr><td>H2O_cluster_version:</td>\n",
       "<td>3.46.0.6</td></tr>\n",
       "<tr><td>H2O_cluster_version_age:</td>\n",
       "<td>1 month and 4 days</td></tr>\n",
       "<tr><td>H2O_cluster_name:</td>\n",
       "<td>H2O_from_python_unknownUser_z13mgx</td></tr>\n",
       "<tr><td>H2O_cluster_total_nodes:</td>\n",
       "<td>1</td></tr>\n",
       "<tr><td>H2O_cluster_free_memory:</td>\n",
       "<td>3.170 Gb</td></tr>\n",
       "<tr><td>H2O_cluster_total_cores:</td>\n",
       "<td>2</td></tr>\n",
       "<tr><td>H2O_cluster_allowed_cores:</td>\n",
       "<td>2</td></tr>\n",
       "<tr><td>H2O_cluster_status:</td>\n",
       "<td>locked, healthy</td></tr>\n",
       "<tr><td>H2O_connection_url:</td>\n",
       "<td>http://127.0.0.1:54321</td></tr>\n",
       "<tr><td>H2O_connection_proxy:</td>\n",
       "<td>{\"http\": null, \"https\": null, \"colab_language_server\": \"/usr/colab/bin/language_service\"}</td></tr>\n",
       "<tr><td>H2O_internal_security:</td>\n",
       "<td>False</td></tr>\n",
       "<tr><td>Python_version:</td>\n",
       "<td>3.10.12 final</td></tr></tbody>\n",
       "  </table>\n",
       "</div>\n"
      ],
      "text/plain": [
       "--------------------------  -----------------------------------------------------------------------------------------\n",
       "H2O_cluster_uptime:         08 secs\n",
       "H2O_cluster_timezone:       Etc/UTC\n",
       "H2O_data_parsing_timezone:  UTC\n",
       "H2O_cluster_version:        3.46.0.6\n",
       "H2O_cluster_version_age:    1 month and 4 days\n",
       "H2O_cluster_name:           H2O_from_python_unknownUser_z13mgx\n",
       "H2O_cluster_total_nodes:    1\n",
       "H2O_cluster_free_memory:    3.170 Gb\n",
       "H2O_cluster_total_cores:    2\n",
       "H2O_cluster_allowed_cores:  2\n",
       "H2O_cluster_status:         locked, healthy\n",
       "H2O_connection_url:         http://127.0.0.1:54321\n",
       "H2O_connection_proxy:       {\"http\": null, \"https\": null, \"colab_language_server\": \"/usr/colab/bin/language_service\"}\n",
       "H2O_internal_security:      False\n",
       "Python_version:             3.10.12 final\n",
       "--------------------------  -----------------------------------------------------------------------------------------"
      ]
     },
     "metadata": {},
     "output_type": "display_data"
    }
   ],
   "source": [
    "import h2o\n",
    "from h2o.automl import H2OAutoML\n",
    "\n",
    "# Start the H2O cluster (locally)\n",
    "h2o.init()"
   ]
  },
  {
   "cell_type": "code",
   "execution_count": null,
   "metadata": {
    "id": "xzXXJwE_K-Ah"
   },
   "outputs": [],
   "source": [
    "numeric_features = ['Final_Issue_Price',\n",
    " 'Issue Size (Rs Cr.)',\n",
    " 'Lot Size',\n",
    " 'GDP per capita growth (annual %)',\n",
    " 'GDP growth (annual %)',\n",
    " 'GDP (current US$)',\n",
    " 'Unemployment, total (% of total labor force) (modeled ILO estimate)',\n",
    " 'Stocks traded, total value (% of GDP)',\n",
    " 'Personal remittances, received (% of GDP)',\n",
    " 'Net trade in goods and services (BoP, current US$)',\n",
    " 'GNI per capita growth (annual %)',\n",
    " 'Inflation, consumer prices (annual %)',\n",
    " 'GNI (current US$)',\n",
    " 'Foreign direct investment, net inflows (BoP, current US$)',\n",
    " 'Foreign direct investment, net (BoP, current US$)',\n",
    " 'Price_nifty50_daily',\n",
    " 'Open_nifty50_daily',\n",
    " 'High_nifty50_daily',\n",
    " 'Low_nifty50_daily',\n",
    " 'Volume_nifty50_daily',\n",
    " 'Chg%_nifty50_daily',\n",
    " 'Price_nifty50_weekly',\n",
    " 'Open_nifty50_weekly',\n",
    " 'High_nifty50_weekly',\n",
    " 'Low_nifty50_weekly',\n",
    " 'Volume_nifty50_weekly',\n",
    " 'Chg%_nifty50_weekly',\n",
    " 'Price_nifty50_monthly',\n",
    " 'Open_nifty50_monthly',\n",
    " 'High_nifty50_monthly',\n",
    " 'Low_nifty50_monthly',\n",
    " 'Volume_nifty50_monthly',\n",
    " 'Chg%_nifty50_monthly',\n",
    " 'Price_vix_daily',\n",
    " 'Open_vix_daily',\n",
    " 'High_vix_daily',\n",
    " 'Low_vix_daily',\n",
    " 'Chg%_vix_daily',\n",
    " 'Price_vix_weekly',\n",
    " 'Open_vix_weekly',\n",
    " 'High_vix_weekly',\n",
    " 'Low_vix_weekly',\n",
    " 'Chg%_vix_weekly',\n",
    " 'Price_vix_monthly',\n",
    " 'Open_vix_monthly',\n",
    " 'High_vix_monthly',\n",
    " 'Low_vix_monthly',\n",
    " 'Chg%_vix_monthly',\n",
    " 'previous_quarter_success_open',\n",
    " 'previous_quarter_success_close',\n",
    " 'previous_quarter_success_high',\n",
    " 'dynamic_last_90Day_success_open',\n",
    " 'dynamic_last_90Day_success_close',\n",
    " 'dynamic_last_90Day_success_high',\n",
    " 'day_1_qib',\n",
    " 'day_1_nii',\n",
    " 'day_1_retail',\n",
    " 'day_1_total',\n",
    " 'day_2_qib',\n",
    " 'day_2_nii',\n",
    " 'day_2_retail',\n",
    " 'day_2_total',\n",
    " 'day_3_qib',\n",
    " 'day_3_nii',\n",
    " 'day_3_retail',\n",
    " 'day_3_total',\n",
    " 'day_4_qib',\n",
    " 'day_4_nii',\n",
    " 'day_4_retail',\n",
    " 'day_4_total',\n",
    " 'day_5_qib',\n",
    " 'day_5_nii',\n",
    " 'day_5_retail',\n",
    " 'day_5_total',\n",
    " 'day_6_qib',\n",
    " 'day_6_nii',\n",
    " 'day_6_retail',\n",
    " 'day_6_total',\n",
    " 'Brokers_Subscribe',\n",
    " 'Brokers_Neutral',\n",
    " 'Brokers_Avoid',\n",
    " 'Members_Subscribe',\n",
    " 'Members_Neutral',\n",
    " 'Members_Avoid',\n",
    " 'Face Value per share',\n",
    " 'Retail (Min)_Lots',\n",
    " 'Retail (Min)_Shares',\n",
    " 'Retail (Min)_Amount',\n",
    " 'Retail (Max)_Lots',\n",
    " 'Retail (Max)_Shares',\n",
    " 'Retail (Max)_Amount',\n",
    " 'S-HNI (Min)_Lots',\n",
    " 'S-HNI (Min)_Shares',\n",
    " 'S-HNI (Min)_Amount',\n",
    " 'S-HNI (Max)_Lots',\n",
    " 'S-HNI (Max)_Shares',\n",
    " 'S-HNI (Max)_Amount',\n",
    " 'B-HNI (Min)_Lots',\n",
    " 'B-HNI (Min)_Shares',\n",
    " 'B-HNI (Min)_Amount',\n",
    " 'Share Holding Pre Issue',\n",
    " 'Share Holding Post Issue',\n",
    " '0_assets',\n",
    " '0_revenue',\n",
    " '0_profit after tax',\n",
    " '0_net worth',\n",
    " '0_reserves and surplus',\n",
    " '0_total borrowing',\n",
    " '0_total income',\n",
    " '1_assets',\n",
    " '1_revenue',\n",
    " '1_profit after tax',\n",
    " '1_net worth',\n",
    " '1_reserves and surplus',\n",
    " '1_total borrowing',\n",
    " '1_total income',\n",
    " '2_assets',\n",
    " '2_revenue',\n",
    " '2_profit after tax',\n",
    " '2_net worth',\n",
    " '2_reserves and surplus',\n",
    " '2_total borrowing',\n",
    " '2_total income',\n",
    " '3_assets',\n",
    " '3_revenue',\n",
    " '3_profit after tax',\n",
    " '3_net worth',\n",
    " '3_reserves and surplus',\n",
    " '3_total borrowing',\n",
    " '3_total income',\n",
    " '4_assets',\n",
    " '4_revenue',\n",
    " '4_profit after tax',\n",
    " '4_net worth',\n",
    " '4_reserves and surplus',\n",
    " '4_total borrowing',\n",
    " '4_total income',\n",
    " '5_assets',\n",
    " '5_revenue',\n",
    " '5_profit after tax',\n",
    " '5_total income']\n",
    "\n",
    "categorical_features = ['Sector',\t'Industry',\t'Total Issue Size',\t'Issue Type',\t'Fresh Issue',\t'Offer for Sale',\t'Price Band']"
   ]
  },
  {
   "cell_type": "code",
   "execution_count": null,
   "metadata": {
    "id": "grMftj68LBS0"
   },
   "outputs": [],
   "source": [
    "def clean_numbers(txt):\n",
    "    num =  str(txt).replace(',','').replace(' ','')\n",
    "    if len(num.split('.')) > 2:\n",
    "        num = '.'.join(num.split('.')[0:2])\n",
    "    if num == '':\n",
    "        return np.nan\n",
    "    if num == 'nan':\n",
    "        return np.nan\n",
    "    if num == '-':\n",
    "        return np.nan\n",
    "    if '%' in num:\n",
    "        num = float(num.replace('%',''))/100\n",
    "    elif 'Cr' in num:\n",
    "        num = float(num.replace('Cr',''))*10000000\n",
    "    elif 'B' in num:\n",
    "        num = float(num.replace('B',''))*1000000000\n",
    "\n",
    "    elif 'M' in num:\n",
    "        num = float(num.replace('M',''))*1000000\n",
    "\n",
    "    elif 'K' in num:\n",
    "        num = float(num.replace('K',''))*1000\n",
    "    else:\n",
    "        num = float(num)\n",
    "\n",
    "    return num"
   ]
  },
  {
   "cell_type": "markdown",
   "metadata": {
    "id": "Z7dpoCkgJHYC"
   },
   "source": [
    "# Main Board"
   ]
  },
  {
   "cell_type": "code",
   "execution_count": null,
   "metadata": {
    "colab": {
     "base_uri": "https://localhost:8080/"
    },
    "id": "8TdoOE4OIRsY",
    "outputId": "bbcc1e37-8b9c-453e-f15b-616f97e625c6"
   },
   "outputs": [
    {
     "data": {
      "text/plain": [
       "(418, 217)"
      ]
     },
     "execution_count": 9,
     "metadata": {},
     "output_type": "execute_result"
    }
   ],
   "source": [
    "main = pd.read_excel(\"/content/drive/MyDrive/datasets/Indian_IPO_Prediction/final_data/ipo_mainline_final_data_v18.xlsx\")\n",
    "main.shape"
   ]
  },
  {
   "cell_type": "code",
   "execution_count": null,
   "metadata": {
    "id": "1-jn5iTRI_kd"
   },
   "outputs": [],
   "source": [
    "main = pd.concat([main, deberta_probab],axis=1)\n",
    "\n",
    "train = main[main['Close Year'] < 2023]\n",
    "test = main[main['Close Year'] == 2023]"
   ]
  },
  {
   "cell_type": "markdown",
   "metadata": {
    "id": "QLUmTOtvTk0j"
   },
   "source": [
    "## Without News"
   ]
  },
  {
   "cell_type": "code",
   "execution_count": null,
   "metadata": {
    "id": "KhLfwLZRLHla"
   },
   "outputs": [],
   "source": [
    "text_features_probab = [i for i in deberta_probab.columns if 'class_1_prob' in i]"
   ]
  },
  {
   "cell_type": "code",
   "execution_count": null,
   "metadata": {
    "colab": {
     "base_uri": "https://localhost:8080/"
    },
    "id": "12qfQbvgJ-8w",
    "outputId": "27f7fba6-0333-48f0-83ed-216a8f3c4a69"
   },
   "outputs": [
    {
     "name": "stderr",
     "output_type": "stream",
     "text": [
      "<ipython-input-12-25082cdf839e>:5: SettingWithCopyWarning: \n",
      "A value is trying to be set on a copy of a slice from a DataFrame.\n",
      "Try using .loc[row_indexer,col_indexer] = value instead\n",
      "\n",
      "See the caveats in the documentation: https://pandas.pydata.org/pandas-docs/stable/user_guide/indexing.html#returning-a-view-versus-a-copy\n",
      "  train_use_X[i] = train_use_X[i].apply(lambda x : clean_numbers(str(x))).astype('float64')\n",
      "<ipython-input-12-25082cdf839e>:6: SettingWithCopyWarning: \n",
      "A value is trying to be set on a copy of a slice from a DataFrame.\n",
      "Try using .loc[row_indexer,col_indexer] = value instead\n",
      "\n",
      "See the caveats in the documentation: https://pandas.pydata.org/pandas-docs/stable/user_guide/indexing.html#returning-a-view-versus-a-copy\n",
      "  test_use_X[i] = test_use_X[i].apply(lambda x : clean_numbers(str(x))).astype('float64')\n",
      "<ipython-input-12-25082cdf839e>:5: SettingWithCopyWarning: \n",
      "A value is trying to be set on a copy of a slice from a DataFrame.\n",
      "Try using .loc[row_indexer,col_indexer] = value instead\n",
      "\n",
      "See the caveats in the documentation: https://pandas.pydata.org/pandas-docs/stable/user_guide/indexing.html#returning-a-view-versus-a-copy\n",
      "  train_use_X[i] = train_use_X[i].apply(lambda x : clean_numbers(str(x))).astype('float64')\n",
      "<ipython-input-12-25082cdf839e>:6: SettingWithCopyWarning: \n",
      "A value is trying to be set on a copy of a slice from a DataFrame.\n",
      "Try using .loc[row_indexer,col_indexer] = value instead\n",
      "\n",
      "See the caveats in the documentation: https://pandas.pydata.org/pandas-docs/stable/user_guide/indexing.html#returning-a-view-versus-a-copy\n",
      "  test_use_X[i] = test_use_X[i].apply(lambda x : clean_numbers(str(x))).astype('float64')\n",
      "<ipython-input-12-25082cdf839e>:5: SettingWithCopyWarning: \n",
      "A value is trying to be set on a copy of a slice from a DataFrame.\n",
      "Try using .loc[row_indexer,col_indexer] = value instead\n",
      "\n",
      "See the caveats in the documentation: https://pandas.pydata.org/pandas-docs/stable/user_guide/indexing.html#returning-a-view-versus-a-copy\n",
      "  train_use_X[i] = train_use_X[i].apply(lambda x : clean_numbers(str(x))).astype('float64')\n",
      "<ipython-input-12-25082cdf839e>:6: SettingWithCopyWarning: \n",
      "A value is trying to be set on a copy of a slice from a DataFrame.\n",
      "Try using .loc[row_indexer,col_indexer] = value instead\n",
      "\n",
      "See the caveats in the documentation: https://pandas.pydata.org/pandas-docs/stable/user_guide/indexing.html#returning-a-view-versus-a-copy\n",
      "  test_use_X[i] = test_use_X[i].apply(lambda x : clean_numbers(str(x))).astype('float64')\n",
      "<ipython-input-12-25082cdf839e>:5: SettingWithCopyWarning: \n",
      "A value is trying to be set on a copy of a slice from a DataFrame.\n",
      "Try using .loc[row_indexer,col_indexer] = value instead\n",
      "\n",
      "See the caveats in the documentation: https://pandas.pydata.org/pandas-docs/stable/user_guide/indexing.html#returning-a-view-versus-a-copy\n",
      "  train_use_X[i] = train_use_X[i].apply(lambda x : clean_numbers(str(x))).astype('float64')\n",
      "<ipython-input-12-25082cdf839e>:6: SettingWithCopyWarning: \n",
      "A value is trying to be set on a copy of a slice from a DataFrame.\n",
      "Try using .loc[row_indexer,col_indexer] = value instead\n",
      "\n",
      "See the caveats in the documentation: https://pandas.pydata.org/pandas-docs/stable/user_guide/indexing.html#returning-a-view-versus-a-copy\n",
      "  test_use_X[i] = test_use_X[i].apply(lambda x : clean_numbers(str(x))).astype('float64')\n",
      "<ipython-input-12-25082cdf839e>:5: SettingWithCopyWarning: \n",
      "A value is trying to be set on a copy of a slice from a DataFrame.\n",
      "Try using .loc[row_indexer,col_indexer] = value instead\n",
      "\n",
      "See the caveats in the documentation: https://pandas.pydata.org/pandas-docs/stable/user_guide/indexing.html#returning-a-view-versus-a-copy\n",
      "  train_use_X[i] = train_use_X[i].apply(lambda x : clean_numbers(str(x))).astype('float64')\n",
      "<ipython-input-12-25082cdf839e>:6: SettingWithCopyWarning: \n",
      "A value is trying to be set on a copy of a slice from a DataFrame.\n",
      "Try using .loc[row_indexer,col_indexer] = value instead\n",
      "\n",
      "See the caveats in the documentation: https://pandas.pydata.org/pandas-docs/stable/user_guide/indexing.html#returning-a-view-versus-a-copy\n",
      "  test_use_X[i] = test_use_X[i].apply(lambda x : clean_numbers(str(x))).astype('float64')\n",
      "<ipython-input-12-25082cdf839e>:5: SettingWithCopyWarning: \n",
      "A value is trying to be set on a copy of a slice from a DataFrame.\n",
      "Try using .loc[row_indexer,col_indexer] = value instead\n",
      "\n",
      "See the caveats in the documentation: https://pandas.pydata.org/pandas-docs/stable/user_guide/indexing.html#returning-a-view-versus-a-copy\n",
      "  train_use_X[i] = train_use_X[i].apply(lambda x : clean_numbers(str(x))).astype('float64')\n",
      "<ipython-input-12-25082cdf839e>:6: SettingWithCopyWarning: \n",
      "A value is trying to be set on a copy of a slice from a DataFrame.\n",
      "Try using .loc[row_indexer,col_indexer] = value instead\n",
      "\n",
      "See the caveats in the documentation: https://pandas.pydata.org/pandas-docs/stable/user_guide/indexing.html#returning-a-view-versus-a-copy\n",
      "  test_use_X[i] = test_use_X[i].apply(lambda x : clean_numbers(str(x))).astype('float64')\n",
      "<ipython-input-12-25082cdf839e>:5: SettingWithCopyWarning: \n",
      "A value is trying to be set on a copy of a slice from a DataFrame.\n",
      "Try using .loc[row_indexer,col_indexer] = value instead\n",
      "\n",
      "See the caveats in the documentation: https://pandas.pydata.org/pandas-docs/stable/user_guide/indexing.html#returning-a-view-versus-a-copy\n",
      "  train_use_X[i] = train_use_X[i].apply(lambda x : clean_numbers(str(x))).astype('float64')\n",
      "<ipython-input-12-25082cdf839e>:6: SettingWithCopyWarning: \n",
      "A value is trying to be set on a copy of a slice from a DataFrame.\n",
      "Try using .loc[row_indexer,col_indexer] = value instead\n",
      "\n",
      "See the caveats in the documentation: https://pandas.pydata.org/pandas-docs/stable/user_guide/indexing.html#returning-a-view-versus-a-copy\n",
      "  test_use_X[i] = test_use_X[i].apply(lambda x : clean_numbers(str(x))).astype('float64')\n",
      "<ipython-input-12-25082cdf839e>:5: SettingWithCopyWarning: \n",
      "A value is trying to be set on a copy of a slice from a DataFrame.\n",
      "Try using .loc[row_indexer,col_indexer] = value instead\n",
      "\n",
      "See the caveats in the documentation: https://pandas.pydata.org/pandas-docs/stable/user_guide/indexing.html#returning-a-view-versus-a-copy\n",
      "  train_use_X[i] = train_use_X[i].apply(lambda x : clean_numbers(str(x))).astype('float64')\n",
      "<ipython-input-12-25082cdf839e>:6: SettingWithCopyWarning: \n",
      "A value is trying to be set on a copy of a slice from a DataFrame.\n",
      "Try using .loc[row_indexer,col_indexer] = value instead\n",
      "\n",
      "See the caveats in the documentation: https://pandas.pydata.org/pandas-docs/stable/user_guide/indexing.html#returning-a-view-versus-a-copy\n",
      "  test_use_X[i] = test_use_X[i].apply(lambda x : clean_numbers(str(x))).astype('float64')\n",
      "<ipython-input-12-25082cdf839e>:5: SettingWithCopyWarning: \n",
      "A value is trying to be set on a copy of a slice from a DataFrame.\n",
      "Try using .loc[row_indexer,col_indexer] = value instead\n",
      "\n",
      "See the caveats in the documentation: https://pandas.pydata.org/pandas-docs/stable/user_guide/indexing.html#returning-a-view-versus-a-copy\n",
      "  train_use_X[i] = train_use_X[i].apply(lambda x : clean_numbers(str(x))).astype('float64')\n",
      "<ipython-input-12-25082cdf839e>:6: SettingWithCopyWarning: \n",
      "A value is trying to be set on a copy of a slice from a DataFrame.\n",
      "Try using .loc[row_indexer,col_indexer] = value instead\n",
      "\n",
      "See the caveats in the documentation: https://pandas.pydata.org/pandas-docs/stable/user_guide/indexing.html#returning-a-view-versus-a-copy\n",
      "  test_use_X[i] = test_use_X[i].apply(lambda x : clean_numbers(str(x))).astype('float64')\n",
      "<ipython-input-12-25082cdf839e>:5: SettingWithCopyWarning: \n",
      "A value is trying to be set on a copy of a slice from a DataFrame.\n",
      "Try using .loc[row_indexer,col_indexer] = value instead\n",
      "\n",
      "See the caveats in the documentation: https://pandas.pydata.org/pandas-docs/stable/user_guide/indexing.html#returning-a-view-versus-a-copy\n",
      "  train_use_X[i] = train_use_X[i].apply(lambda x : clean_numbers(str(x))).astype('float64')\n",
      "<ipython-input-12-25082cdf839e>:6: SettingWithCopyWarning: \n",
      "A value is trying to be set on a copy of a slice from a DataFrame.\n",
      "Try using .loc[row_indexer,col_indexer] = value instead\n",
      "\n",
      "See the caveats in the documentation: https://pandas.pydata.org/pandas-docs/stable/user_guide/indexing.html#returning-a-view-versus-a-copy\n",
      "  test_use_X[i] = test_use_X[i].apply(lambda x : clean_numbers(str(x))).astype('float64')\n",
      "<ipython-input-12-25082cdf839e>:5: SettingWithCopyWarning: \n",
      "A value is trying to be set on a copy of a slice from a DataFrame.\n",
      "Try using .loc[row_indexer,col_indexer] = value instead\n",
      "\n",
      "See the caveats in the documentation: https://pandas.pydata.org/pandas-docs/stable/user_guide/indexing.html#returning-a-view-versus-a-copy\n",
      "  train_use_X[i] = train_use_X[i].apply(lambda x : clean_numbers(str(x))).astype('float64')\n",
      "<ipython-input-12-25082cdf839e>:6: SettingWithCopyWarning: \n",
      "A value is trying to be set on a copy of a slice from a DataFrame.\n",
      "Try using .loc[row_indexer,col_indexer] = value instead\n",
      "\n",
      "See the caveats in the documentation: https://pandas.pydata.org/pandas-docs/stable/user_guide/indexing.html#returning-a-view-versus-a-copy\n",
      "  test_use_X[i] = test_use_X[i].apply(lambda x : clean_numbers(str(x))).astype('float64')\n",
      "<ipython-input-12-25082cdf839e>:5: SettingWithCopyWarning: \n",
      "A value is trying to be set on a copy of a slice from a DataFrame.\n",
      "Try using .loc[row_indexer,col_indexer] = value instead\n",
      "\n",
      "See the caveats in the documentation: https://pandas.pydata.org/pandas-docs/stable/user_guide/indexing.html#returning-a-view-versus-a-copy\n",
      "  train_use_X[i] = train_use_X[i].apply(lambda x : clean_numbers(str(x))).astype('float64')\n",
      "<ipython-input-12-25082cdf839e>:6: SettingWithCopyWarning: \n",
      "A value is trying to be set on a copy of a slice from a DataFrame.\n",
      "Try using .loc[row_indexer,col_indexer] = value instead\n",
      "\n",
      "See the caveats in the documentation: https://pandas.pydata.org/pandas-docs/stable/user_guide/indexing.html#returning-a-view-versus-a-copy\n",
      "  test_use_X[i] = test_use_X[i].apply(lambda x : clean_numbers(str(x))).astype('float64')\n",
      "<ipython-input-12-25082cdf839e>:5: SettingWithCopyWarning: \n",
      "A value is trying to be set on a copy of a slice from a DataFrame.\n",
      "Try using .loc[row_indexer,col_indexer] = value instead\n",
      "\n",
      "See the caveats in the documentation: https://pandas.pydata.org/pandas-docs/stable/user_guide/indexing.html#returning-a-view-versus-a-copy\n",
      "  train_use_X[i] = train_use_X[i].apply(lambda x : clean_numbers(str(x))).astype('float64')\n",
      "<ipython-input-12-25082cdf839e>:6: SettingWithCopyWarning: \n",
      "A value is trying to be set on a copy of a slice from a DataFrame.\n",
      "Try using .loc[row_indexer,col_indexer] = value instead\n",
      "\n",
      "See the caveats in the documentation: https://pandas.pydata.org/pandas-docs/stable/user_guide/indexing.html#returning-a-view-versus-a-copy\n",
      "  test_use_X[i] = test_use_X[i].apply(lambda x : clean_numbers(str(x))).astype('float64')\n",
      "<ipython-input-12-25082cdf839e>:5: SettingWithCopyWarning: \n",
      "A value is trying to be set on a copy of a slice from a DataFrame.\n",
      "Try using .loc[row_indexer,col_indexer] = value instead\n",
      "\n",
      "See the caveats in the documentation: https://pandas.pydata.org/pandas-docs/stable/user_guide/indexing.html#returning-a-view-versus-a-copy\n",
      "  train_use_X[i] = train_use_X[i].apply(lambda x : clean_numbers(str(x))).astype('float64')\n",
      "<ipython-input-12-25082cdf839e>:6: SettingWithCopyWarning: \n",
      "A value is trying to be set on a copy of a slice from a DataFrame.\n",
      "Try using .loc[row_indexer,col_indexer] = value instead\n",
      "\n",
      "See the caveats in the documentation: https://pandas.pydata.org/pandas-docs/stable/user_guide/indexing.html#returning-a-view-versus-a-copy\n",
      "  test_use_X[i] = test_use_X[i].apply(lambda x : clean_numbers(str(x))).astype('float64')\n",
      "<ipython-input-12-25082cdf839e>:5: SettingWithCopyWarning: \n",
      "A value is trying to be set on a copy of a slice from a DataFrame.\n",
      "Try using .loc[row_indexer,col_indexer] = value instead\n",
      "\n",
      "See the caveats in the documentation: https://pandas.pydata.org/pandas-docs/stable/user_guide/indexing.html#returning-a-view-versus-a-copy\n",
      "  train_use_X[i] = train_use_X[i].apply(lambda x : clean_numbers(str(x))).astype('float64')\n",
      "<ipython-input-12-25082cdf839e>:6: SettingWithCopyWarning: \n",
      "A value is trying to be set on a copy of a slice from a DataFrame.\n",
      "Try using .loc[row_indexer,col_indexer] = value instead\n",
      "\n",
      "See the caveats in the documentation: https://pandas.pydata.org/pandas-docs/stable/user_guide/indexing.html#returning-a-view-versus-a-copy\n",
      "  test_use_X[i] = test_use_X[i].apply(lambda x : clean_numbers(str(x))).astype('float64')\n",
      "<ipython-input-12-25082cdf839e>:5: SettingWithCopyWarning: \n",
      "A value is trying to be set on a copy of a slice from a DataFrame.\n",
      "Try using .loc[row_indexer,col_indexer] = value instead\n",
      "\n",
      "See the caveats in the documentation: https://pandas.pydata.org/pandas-docs/stable/user_guide/indexing.html#returning-a-view-versus-a-copy\n",
      "  train_use_X[i] = train_use_X[i].apply(lambda x : clean_numbers(str(x))).astype('float64')\n",
      "<ipython-input-12-25082cdf839e>:6: SettingWithCopyWarning: \n",
      "A value is trying to be set on a copy of a slice from a DataFrame.\n",
      "Try using .loc[row_indexer,col_indexer] = value instead\n",
      "\n",
      "See the caveats in the documentation: https://pandas.pydata.org/pandas-docs/stable/user_guide/indexing.html#returning-a-view-versus-a-copy\n",
      "  test_use_X[i] = test_use_X[i].apply(lambda x : clean_numbers(str(x))).astype('float64')\n",
      "<ipython-input-12-25082cdf839e>:5: SettingWithCopyWarning: \n",
      "A value is trying to be set on a copy of a slice from a DataFrame.\n",
      "Try using .loc[row_indexer,col_indexer] = value instead\n",
      "\n",
      "See the caveats in the documentation: https://pandas.pydata.org/pandas-docs/stable/user_guide/indexing.html#returning-a-view-versus-a-copy\n",
      "  train_use_X[i] = train_use_X[i].apply(lambda x : clean_numbers(str(x))).astype('float64')\n",
      "<ipython-input-12-25082cdf839e>:6: SettingWithCopyWarning: \n",
      "A value is trying to be set on a copy of a slice from a DataFrame.\n",
      "Try using .loc[row_indexer,col_indexer] = value instead\n",
      "\n",
      "See the caveats in the documentation: https://pandas.pydata.org/pandas-docs/stable/user_guide/indexing.html#returning-a-view-versus-a-copy\n",
      "  test_use_X[i] = test_use_X[i].apply(lambda x : clean_numbers(str(x))).astype('float64')\n",
      "<ipython-input-12-25082cdf839e>:5: SettingWithCopyWarning: \n",
      "A value is trying to be set on a copy of a slice from a DataFrame.\n",
      "Try using .loc[row_indexer,col_indexer] = value instead\n",
      "\n",
      "See the caveats in the documentation: https://pandas.pydata.org/pandas-docs/stable/user_guide/indexing.html#returning-a-view-versus-a-copy\n",
      "  train_use_X[i] = train_use_X[i].apply(lambda x : clean_numbers(str(x))).astype('float64')\n",
      "<ipython-input-12-25082cdf839e>:6: SettingWithCopyWarning: \n",
      "A value is trying to be set on a copy of a slice from a DataFrame.\n",
      "Try using .loc[row_indexer,col_indexer] = value instead\n",
      "\n",
      "See the caveats in the documentation: https://pandas.pydata.org/pandas-docs/stable/user_guide/indexing.html#returning-a-view-versus-a-copy\n",
      "  test_use_X[i] = test_use_X[i].apply(lambda x : clean_numbers(str(x))).astype('float64')\n",
      "<ipython-input-12-25082cdf839e>:5: SettingWithCopyWarning: \n",
      "A value is trying to be set on a copy of a slice from a DataFrame.\n",
      "Try using .loc[row_indexer,col_indexer] = value instead\n",
      "\n",
      "See the caveats in the documentation: https://pandas.pydata.org/pandas-docs/stable/user_guide/indexing.html#returning-a-view-versus-a-copy\n",
      "  train_use_X[i] = train_use_X[i].apply(lambda x : clean_numbers(str(x))).astype('float64')\n",
      "<ipython-input-12-25082cdf839e>:6: SettingWithCopyWarning: \n",
      "A value is trying to be set on a copy of a slice from a DataFrame.\n",
      "Try using .loc[row_indexer,col_indexer] = value instead\n",
      "\n",
      "See the caveats in the documentation: https://pandas.pydata.org/pandas-docs/stable/user_guide/indexing.html#returning-a-view-versus-a-copy\n",
      "  test_use_X[i] = test_use_X[i].apply(lambda x : clean_numbers(str(x))).astype('float64')\n",
      "<ipython-input-12-25082cdf839e>:9: SettingWithCopyWarning: \n",
      "A value is trying to be set on a copy of a slice from a DataFrame.\n",
      "Try using .loc[row_indexer,col_indexer] = value instead\n",
      "\n",
      "See the caveats in the documentation: https://pandas.pydata.org/pandas-docs/stable/user_guide/indexing.html#returning-a-view-versus-a-copy\n",
      "  train_use_X[col] = train_use_X[col].str.replace('\"', '', regex=False)  # Remove double quotes\n",
      "<ipython-input-12-25082cdf839e>:10: SettingWithCopyWarning: \n",
      "A value is trying to be set on a copy of a slice from a DataFrame.\n",
      "Try using .loc[row_indexer,col_indexer] = value instead\n",
      "\n",
      "See the caveats in the documentation: https://pandas.pydata.org/pandas-docs/stable/user_guide/indexing.html#returning-a-view-versus-a-copy\n",
      "  train_use_X[col] = train_use_X[col].str.replace('\\n', ' ', regex=False)\n",
      "<ipython-input-12-25082cdf839e>:11: SettingWithCopyWarning: \n",
      "A value is trying to be set on a copy of a slice from a DataFrame.\n",
      "Try using .loc[row_indexer,col_indexer] = value instead\n",
      "\n",
      "See the caveats in the documentation: https://pandas.pydata.org/pandas-docs/stable/user_guide/indexing.html#returning-a-view-versus-a-copy\n",
      "  test_use_X[col] = test_use_X[col].str.replace('\"', '', regex=False)  # Remove double quotes\n",
      "<ipython-input-12-25082cdf839e>:12: SettingWithCopyWarning: \n",
      "A value is trying to be set on a copy of a slice from a DataFrame.\n",
      "Try using .loc[row_indexer,col_indexer] = value instead\n",
      "\n",
      "See the caveats in the documentation: https://pandas.pydata.org/pandas-docs/stable/user_guide/indexing.html#returning-a-view-versus-a-copy\n",
      "  test_use_X[col] = test_use_X[col].str.replace('\\n', ' ', regex=False)\n"
     ]
    }
   ],
   "source": [
    "train_use_X = train[numeric_features + categorical_features + text_features_probab]\n",
    "test_use_X = test[numeric_features + categorical_features + text_features_probab]\n",
    "for i in numeric_features:\n",
    "  if train_use_X[i].dtype != 'int64' and train_use_X[i].dtype !='float64':\n",
    "    train_use_X[i] = train_use_X[i].apply(lambda x : clean_numbers(str(x))).astype('float64')\n",
    "    test_use_X[i] = test_use_X[i].apply(lambda x : clean_numbers(str(x))).astype('float64')\n",
    "\n",
    "for col in  categorical_features:\n",
    "  train_use_X[col] = train_use_X[col].str.replace('\"', '', regex=False)  # Remove double quotes\n",
    "  train_use_X[col] = train_use_X[col].str.replace('\\n', ' ', regex=False)\n",
    "  test_use_X[col] = test_use_X[col].str.replace('\"', '', regex=False)  # Remove double quotes\n",
    "  test_use_X[col] = test_use_X[col].str.replace('\\n', ' ', regex=False)"
   ]
  },
  {
   "cell_type": "code",
   "execution_count": null,
   "metadata": {
    "colab": {
     "base_uri": "https://localhost:8080/",
     "height": 1000
    },
    "id": "g2u3N9lPMCj2",
    "outputId": "6bc51257-16de-4ba8-97cb-d447c4877b35"
   },
   "outputs": [
    {
     "name": "stdout",
     "output_type": "stream",
     "text": [
      "Parse progress: |████████████████████████████████████████████████████████████████| (done) 100%\n",
      "Parse progress: |████████████████████████████████████████████████████████████████| (done) 100%\n"
     ]
    },
    {
     "name": "stderr",
     "output_type": "stream",
     "text": [
      "<ipython-input-13-ace75062e149>:12: SettingWithCopyWarning: \n",
      "A value is trying to be set on a copy of a slice from a DataFrame.\n",
      "Try using .loc[row_indexer,col_indexer] = value instead\n",
      "\n",
      "See the caveats in the documentation: https://pandas.pydata.org/pandas-docs/stable/user_guide/indexing.html#returning-a-view-versus-a-copy\n",
      "  train['underpricing']= (train[val] - train['Final_Issue_Price'])/train['Final_Issue_Price']\n",
      "<ipython-input-13-ace75062e149>:13: SettingWithCopyWarning: \n",
      "A value is trying to be set on a copy of a slice from a DataFrame.\n",
      "Try using .loc[row_indexer,col_indexer] = value instead\n",
      "\n",
      "See the caveats in the documentation: https://pandas.pydata.org/pandas-docs/stable/user_guide/indexing.html#returning-a-view-versus-a-copy\n",
      "  test['underpricing']= (test[val] - test['Final_Issue_Price'])/test['Final_Issue_Price']\n"
     ]
    },
    {
     "name": "stdout",
     "output_type": "stream",
     "text": [
      "Parse progress: |████████████████████████████████████████████████████████████████| (done) 100%\n",
      "Parse progress: |████████████████████████████████████████████████████████████████| (done) 100%\n",
      "AutoML progress: |\n",
      "13:15:25.696: _train param, Dropping bad and constant columns: [4_reserves and surplus, Retail (Min)_Lots, 2_total borrowing, 2_reserves and surplus, 0_total borrowing, 1_reserves and surplus, 1_total borrowing, 3_reserves and surplus, 0_reserves and surplus, 3_total borrowing, Total Issue Size, 4_total borrowing]\n",
      "\n",
      "██\n",
      "13:15:40.470: _train param, Dropping bad and constant columns: [4_reserves and surplus, Retail (Min)_Lots, 2_total borrowing, 2_reserves and surplus, 0_total borrowing, 1_reserves and surplus, 1_total borrowing, 3_reserves and surplus, 0_reserves and surplus, 3_total borrowing, Total Issue Size, 4_total borrowing]\n",
      "\n",
      "██\n",
      "13:15:55.41: _train param, Dropping bad and constant columns: [4_reserves and surplus, Retail (Min)_Lots, 2_total borrowing, 2_reserves and surplus, 0_total borrowing, 1_reserves and surplus, 1_total borrowing, 3_reserves and surplus, 0_reserves and surplus, 3_total borrowing, Total Issue Size, 4_total borrowing]\n",
      "\n",
      "\n",
      "13:16:01.105: _train param, Dropping bad and constant columns: [4_reserves and surplus, Retail (Min)_Lots, 2_total borrowing, 2_reserves and surplus, 0_total borrowing, 1_reserves and surplus, 1_total borrowing, 3_reserves and surplus, 0_reserves and surplus, 3_total borrowing, Total Issue Size, 4_total borrowing]\n",
      "\n",
      "█\n",
      "13:16:11.297: _train param, Dropping bad and constant columns: [4_reserves and surplus, Retail (Min)_Lots, 2_total borrowing, 2_reserves and surplus, 0_total borrowing, 1_reserves and surplus, 1_total borrowing, 3_reserves and surplus, 0_reserves and surplus, 3_total borrowing, Total Issue Size, 4_total borrowing]\n",
      "\n",
      "███\n",
      "13:16:33.236: _train param, Dropping bad and constant columns: [4_reserves and surplus, Retail (Min)_Lots, 2_total borrowing, 2_reserves and surplus, 0_total borrowing, 1_reserves and surplus, 1_total borrowing, 3_reserves and surplus, 0_reserves and surplus, 3_total borrowing, Total Issue Size, 4_total borrowing]\n",
      "\n",
      "\n",
      "13:16:40.856: _train param, Dropping bad and constant columns: [4_reserves and surplus, Retail (Min)_Lots, 2_total borrowing, 2_reserves and surplus, 0_total borrowing, 1_reserves and surplus, 1_total borrowing, 3_reserves and surplus, 0_reserves and surplus, 3_total borrowing, Total Issue Size, 4_total borrowing]\n",
      "\n",
      "█\n",
      "13:16:46.446: _train param, Dropping bad and constant columns: [4_reserves and surplus, Retail (Min)_Lots, 2_total borrowing, 2_reserves and surplus, 0_total borrowing, 1_reserves and surplus, 1_total borrowing, 3_reserves and surplus, 0_reserves and surplus, 3_total borrowing, Total Issue Size, 4_total borrowing]\n",
      "\n",
      "█\n",
      "13:16:53.212: _train param, Dropping bad and constant columns: [4_reserves and surplus, Retail (Min)_Lots, 2_total borrowing, 2_reserves and surplus, 0_total borrowing, 1_reserves and surplus, 1_total borrowing, 3_reserves and surplus, 0_reserves and surplus, 3_total borrowing, Total Issue Size, 4_total borrowing]\n",
      "\n",
      "█\n",
      "13:16:59.400: _train param, Dropping bad and constant columns: [4_reserves and surplus, Retail (Min)_Lots, 2_total borrowing, 2_reserves and surplus, 0_total borrowing, 1_reserves and surplus, 1_total borrowing, 3_reserves and surplus, 0_reserves and surplus, 3_total borrowing, Total Issue Size, 4_total borrowing]\n",
      "\n",
      "███\n",
      "13:17:24.891: _train param, Dropping bad and constant columns: [4_reserves and surplus, Retail (Min)_Lots, 2_total borrowing, 2_reserves and surplus, 0_total borrowing, 1_reserves and surplus, 1_total borrowing, 3_reserves and surplus, 0_reserves and surplus, 3_total borrowing, Total Issue Size, 4_total borrowing]\n",
      "\n",
      "\n",
      "13:17:30.688: _train param, Dropping bad and constant columns: [4_reserves and surplus, Retail (Min)_Lots, 2_total borrowing, 2_reserves and surplus, 0_total borrowing, 1_reserves and surplus, 1_total borrowing, 3_reserves and surplus, 0_reserves and surplus, 3_total borrowing, Total Issue Size, 4_total borrowing]\n",
      "\n",
      "███████████████████████████████████████████████\n",
      "13:29:43.889: _train param, Dropping unused columns: [4_reserves and surplus, Retail (Min)_Lots, 2_total borrowing, 2_reserves and surplus, 0_total borrowing, 1_reserves and surplus, 1_total borrowing, 3_reserves and surplus, 0_reserves and surplus, 3_total borrowing, Total Issue Size, 4_total borrowing]\n",
      "13:29:44.722: _train param, Dropping unused columns: [4_reserves and surplus, Retail (Min)_Lots, 2_total borrowing, 2_reserves and surplus, 0_total borrowing, 1_reserves and surplus, 1_total borrowing, 3_reserves and surplus, 0_reserves and surplus, 3_total borrowing, Total Issue Size, 4_total borrowing]\n",
      "\n",
      "██| (done) 100%\n"
     ]
    },
    {
     "data": {
      "text/html": [
       "<table class='dataframe'>\n",
       "<thead>\n",
       "<tr><th>model_id                                               </th><th style=\"text-align: right;\">    rmse</th><th style=\"text-align: right;\">      mse</th><th style=\"text-align: right;\">     mae</th><th style=\"text-align: right;\">     rmsle</th><th style=\"text-align: right;\">  mean_residual_deviance</th></tr>\n",
       "</thead>\n",
       "<tbody>\n",
       "<tr><td>DeepLearning_grid_3_AutoML_1_20241206_131525_model_1   </td><td style=\"text-align: right;\">0.202175</td><td style=\"text-align: right;\">0.0408746</td><td style=\"text-align: right;\">0.118181</td><td style=\"text-align: right;\">  0.13614 </td><td style=\"text-align: right;\">               0.0408746</td></tr>\n",
       "<tr><td>StackedEnsemble_AllModels_1_AutoML_1_20241206_131525   </td><td style=\"text-align: right;\">0.20506 </td><td style=\"text-align: right;\">0.0420495</td><td style=\"text-align: right;\">0.115057</td><td style=\"text-align: right;\">  0.135547</td><td style=\"text-align: right;\">               0.0420495</td></tr>\n",
       "<tr><td>StackedEnsemble_BestOfFamily_1_AutoML_1_20241206_131525</td><td style=\"text-align: right;\">0.208112</td><td style=\"text-align: right;\">0.0433104</td><td style=\"text-align: right;\">0.118532</td><td style=\"text-align: right;\">  0.137944</td><td style=\"text-align: right;\">               0.0433104</td></tr>\n",
       "<tr><td>DeepLearning_grid_2_AutoML_1_20241206_131525_model_1   </td><td style=\"text-align: right;\">0.209026</td><td style=\"text-align: right;\">0.0436919</td><td style=\"text-align: right;\">0.121878</td><td style=\"text-align: right;\">  0.140555</td><td style=\"text-align: right;\">               0.0436919</td></tr>\n",
       "<tr><td>DeepLearning_grid_1_AutoML_1_20241206_131525_model_1   </td><td style=\"text-align: right;\">0.214687</td><td style=\"text-align: right;\">0.0460903</td><td style=\"text-align: right;\">0.131115</td><td style=\"text-align: right;\">  0.14726 </td><td style=\"text-align: right;\">               0.0460903</td></tr>\n",
       "<tr><td>XGBoost_3_AutoML_1_20241206_131525                     </td><td style=\"text-align: right;\">0.230142</td><td style=\"text-align: right;\">0.0529653</td><td style=\"text-align: right;\">0.132417</td><td style=\"text-align: right;\">  0.154633</td><td style=\"text-align: right;\">               0.0529653</td></tr>\n",
       "<tr><td>XRT_1_AutoML_1_20241206_131525                         </td><td style=\"text-align: right;\">0.23036 </td><td style=\"text-align: right;\">0.0530655</td><td style=\"text-align: right;\">0.13211 </td><td style=\"text-align: right;\">  0.150551</td><td style=\"text-align: right;\">               0.0530655</td></tr>\n",
       "<tr><td>XGBoost_grid_1_AutoML_1_20241206_131525_model_2        </td><td style=\"text-align: right;\">0.234678</td><td style=\"text-align: right;\">0.0550736</td><td style=\"text-align: right;\">0.13806 </td><td style=\"text-align: right;\">  0.158845</td><td style=\"text-align: right;\">               0.0550736</td></tr>\n",
       "<tr><td>DeepLearning_1_AutoML_1_20241206_131525                </td><td style=\"text-align: right;\">0.235432</td><td style=\"text-align: right;\">0.0554281</td><td style=\"text-align: right;\">0.140811</td><td style=\"text-align: right;\">  0.160607</td><td style=\"text-align: right;\">               0.0554281</td></tr>\n",
       "<tr><td>XGBoost_grid_1_AutoML_1_20241206_131525_model_3        </td><td style=\"text-align: right;\">0.242986</td><td style=\"text-align: right;\">0.059042 </td><td style=\"text-align: right;\">0.135577</td><td style=\"text-align: right;\">  0.158657</td><td style=\"text-align: right;\">               0.059042 </td></tr>\n",
       "<tr><td>XGBoost_grid_1_AutoML_1_20241206_131525_model_1        </td><td style=\"text-align: right;\">0.244148</td><td style=\"text-align: right;\">0.0596081</td><td style=\"text-align: right;\">0.146601</td><td style=\"text-align: right;\">  0.16694 </td><td style=\"text-align: right;\">               0.0596081</td></tr>\n",
       "<tr><td>XGBoost_2_AutoML_1_20241206_131525                     </td><td style=\"text-align: right;\">0.250166</td><td style=\"text-align: right;\">0.0625833</td><td style=\"text-align: right;\">0.148229</td><td style=\"text-align: right;\">  0.168945</td><td style=\"text-align: right;\">               0.0625833</td></tr>\n",
       "<tr><td>XGBoost_1_AutoML_1_20241206_131525                     </td><td style=\"text-align: right;\">0.250243</td><td style=\"text-align: right;\">0.0626214</td><td style=\"text-align: right;\">0.152447</td><td style=\"text-align: right;\">  0.169567</td><td style=\"text-align: right;\">               0.0626214</td></tr>\n",
       "<tr><td>GLM_1_AutoML_1_20241206_131525                         </td><td style=\"text-align: right;\">0.272457</td><td style=\"text-align: right;\">0.074233 </td><td style=\"text-align: right;\">0.142628</td><td style=\"text-align: right;\">nan       </td><td style=\"text-align: right;\">               0.074233 </td></tr>\n",
       "<tr><td>GBM_grid_1_AutoML_1_20241206_131525_model_1            </td><td style=\"text-align: right;\">0.291301</td><td style=\"text-align: right;\">0.0848564</td><td style=\"text-align: right;\">0.150418</td><td style=\"text-align: right;\">  0.193694</td><td style=\"text-align: right;\">               0.0848564</td></tr>\n",
       "<tr><td>GBM_1_AutoML_1_20241206_131525                         </td><td style=\"text-align: right;\">0.307358</td><td style=\"text-align: right;\">0.0944688</td><td style=\"text-align: right;\">0.164533</td><td style=\"text-align: right;\">  0.209649</td><td style=\"text-align: right;\">               0.0944688</td></tr>\n",
       "<tr><td>DRF_1_AutoML_1_20241206_131525                         </td><td style=\"text-align: right;\">0.310917</td><td style=\"text-align: right;\">0.0966691</td><td style=\"text-align: right;\">0.158156</td><td style=\"text-align: right;\">  0.2112  </td><td style=\"text-align: right;\">               0.0966691</td></tr>\n",
       "<tr><td>GBM_3_AutoML_1_20241206_131525                         </td><td style=\"text-align: right;\">0.313207</td><td style=\"text-align: right;\">0.0980988</td><td style=\"text-align: right;\">0.164633</td><td style=\"text-align: right;\">  0.214018</td><td style=\"text-align: right;\">               0.0980988</td></tr>\n",
       "<tr><td>GBM_2_AutoML_1_20241206_131525                         </td><td style=\"text-align: right;\">0.314277</td><td style=\"text-align: right;\">0.0987703</td><td style=\"text-align: right;\">0.166147</td><td style=\"text-align: right;\">  0.215271</td><td style=\"text-align: right;\">               0.0987703</td></tr>\n",
       "<tr><td>GBM_grid_1_AutoML_1_20241206_131525_model_2            </td><td style=\"text-align: right;\">0.31469 </td><td style=\"text-align: right;\">0.0990297</td><td style=\"text-align: right;\">0.16597 </td><td style=\"text-align: right;\">  0.215581</td><td style=\"text-align: right;\">               0.0990297</td></tr>\n",
       "<tr><td>GBM_5_AutoML_1_20241206_131525                         </td><td style=\"text-align: right;\">0.315854</td><td style=\"text-align: right;\">0.0997638</td><td style=\"text-align: right;\">0.167008</td><td style=\"text-align: right;\">  0.216848</td><td style=\"text-align: right;\">               0.0997638</td></tr>\n",
       "<tr><td>GBM_4_AutoML_1_20241206_131525                         </td><td style=\"text-align: right;\">0.317127</td><td style=\"text-align: right;\">0.10057  </td><td style=\"text-align: right;\">0.167994</td><td style=\"text-align: right;\">  0.218159</td><td style=\"text-align: right;\">               0.10057  </td></tr>\n",
       "</tbody>\n",
       "</table><pre style='font-size: smaller; margin-bottom: 1em;'>[22 rows x 6 columns]</pre>"
      ],
      "text/plain": [
       "model_id                                                     rmse        mse       mae       rmsle    mean_residual_deviance\n",
       "-------------------------------------------------------  --------  ---------  --------  ----------  ------------------------\n",
       "DeepLearning_grid_3_AutoML_1_20241206_131525_model_1     0.202175  0.0408746  0.118181    0.13614                  0.0408746\n",
       "StackedEnsemble_AllModels_1_AutoML_1_20241206_131525     0.20506   0.0420495  0.115057    0.135547                 0.0420495\n",
       "StackedEnsemble_BestOfFamily_1_AutoML_1_20241206_131525  0.208112  0.0433104  0.118532    0.137944                 0.0433104\n",
       "DeepLearning_grid_2_AutoML_1_20241206_131525_model_1     0.209026  0.0436919  0.121878    0.140555                 0.0436919\n",
       "DeepLearning_grid_1_AutoML_1_20241206_131525_model_1     0.214687  0.0460903  0.131115    0.14726                  0.0460903\n",
       "XGBoost_3_AutoML_1_20241206_131525                       0.230142  0.0529653  0.132417    0.154633                 0.0529653\n",
       "XRT_1_AutoML_1_20241206_131525                           0.23036   0.0530655  0.13211     0.150551                 0.0530655\n",
       "XGBoost_grid_1_AutoML_1_20241206_131525_model_2          0.234678  0.0550736  0.13806     0.158845                 0.0550736\n",
       "DeepLearning_1_AutoML_1_20241206_131525                  0.235432  0.0554281  0.140811    0.160607                 0.0554281\n",
       "XGBoost_grid_1_AutoML_1_20241206_131525_model_3          0.242986  0.059042   0.135577    0.158657                 0.059042\n",
       "XGBoost_grid_1_AutoML_1_20241206_131525_model_1          0.244148  0.0596081  0.146601    0.16694                  0.0596081\n",
       "XGBoost_2_AutoML_1_20241206_131525                       0.250166  0.0625833  0.148229    0.168945                 0.0625833\n",
       "XGBoost_1_AutoML_1_20241206_131525                       0.250243  0.0626214  0.152447    0.169567                 0.0626214\n",
       "GLM_1_AutoML_1_20241206_131525                           0.272457  0.074233   0.142628  nan                        0.074233\n",
       "GBM_grid_1_AutoML_1_20241206_131525_model_1              0.291301  0.0848564  0.150418    0.193694                 0.0848564\n",
       "GBM_1_AutoML_1_20241206_131525                           0.307358  0.0944688  0.164533    0.209649                 0.0944688\n",
       "DRF_1_AutoML_1_20241206_131525                           0.310917  0.0966691  0.158156    0.2112                   0.0966691\n",
       "GBM_3_AutoML_1_20241206_131525                           0.313207  0.0980988  0.164633    0.214018                 0.0980988\n",
       "GBM_2_AutoML_1_20241206_131525                           0.314277  0.0987703  0.166147    0.215271                 0.0987703\n",
       "GBM_grid_1_AutoML_1_20241206_131525_model_2              0.31469   0.0990297  0.16597     0.215581                 0.0990297\n",
       "GBM_5_AutoML_1_20241206_131525                           0.315854  0.0997638  0.167008    0.216848                 0.0997638\n",
       "GBM_4_AutoML_1_20241206_131525                           0.317127  0.10057    0.167994    0.218159                 0.10057\n",
       "[22 rows x 6 columns]\n"
      ]
     },
     "execution_count": 13,
     "metadata": {},
     "output_type": "execute_result"
    }
   ],
   "source": [
    "h2o_train = h2o.H2OFrame(train_use_X)  # Convert train DataFrame to H2OFrame\n",
    "h2o_test = h2o.H2OFrame(test_use_X)  # Convert test DataFrame to H2OFrame\n",
    "\n",
    "# train['underpricing']= (train[y] - train['Final_Issue_Price'])/train['Final_Issue_Price']\n",
    "# test['underpricing']= (test[y] - test['Final_Issue_Price'])/test['Final_Issue_Price']\n",
    "if y == 'Success_Open':\n",
    "  val = 'NSE_Open'\n",
    "if y == 'Success_Close':\n",
    "  val = 'NSE_Last_Trade'\n",
    "if y == 'Success_High':\n",
    "  val = 'NSE_High'\n",
    "train['underpricing']= (train[val] - train['Final_Issue_Price'])/train['Final_Issue_Price']\n",
    "test['underpricing']= (test[val] - test['Final_Issue_Price'])/test['Final_Issue_Price']\n",
    "# Identify predictors and response\n",
    "# x = train.columns\n",
    "# y = \"response\"\n",
    "# x.remove(y)\n",
    "\n",
    "x= numeric_features + categorical_features + text_features_probab #+ text_features\n",
    "\n",
    "\n",
    "# h2o_train[y] = h2o.H2OFrame(train[y].to_list()).asfactor()  # Convert Pandas Series to H2OFrame before assigning\n",
    "# h2o_test[y] = h2o.H2OFrame(test[y].to_list()).asfactor()  # Convert Pandas Series to H2OFrame before assigning\n",
    "h2o_train[y] = h2o.H2OFrame(train['underpricing'].to_list()) #h2o.H2OFrame(train[y].to_list()).asfactor()  # Convert Pandas Series to H2OFrame before assigning\n",
    "h2o_test[y] =  h2o.H2OFrame(test['underpricing'].to_list()) #h2o.H2OFrame(test[y].to_list()).asfactor()  # Convert Pandas Series to H2OFrame before assigning\n",
    "\n",
    "# For binary classification, response should be a factor\n",
    "# train[y] = train[y].asfactor()\n",
    "# test[y] = test[y].asfactor()\n",
    "\n",
    "# Run AutoML for 20 base models\n",
    "aml = H2OAutoML(max_models=20, seed=1)\n",
    "aml.train(x=x, y=y, training_frame=h2o_train)\n",
    "\n",
    "# View the AutoML Leaderboard\n",
    "lb = aml.leaderboard\n",
    "lb.head(rows=lb.nrows)"
   ]
  },
  {
   "cell_type": "code",
   "execution_count": null,
   "metadata": {
    "colab": {
     "base_uri": "https://localhost:8080/",
     "height": 765
    },
    "id": "q20RofCNMVbl",
    "outputId": "dc672d86-635c-41c2-ee67-5887c7f56b10"
   },
   "outputs": [
    {
     "data": {
      "text/html": [
       "<table class='dataframe'>\n",
       "<thead>\n",
       "<tr><th>model_id                                               </th><th style=\"text-align: right;\">    rmse</th><th style=\"text-align: right;\">      mse</th><th style=\"text-align: right;\">     mae</th><th style=\"text-align: right;\">     rmsle</th><th style=\"text-align: right;\">  mean_residual_deviance</th></tr>\n",
       "</thead>\n",
       "<tbody>\n",
       "<tr><td>DeepLearning_grid_3_AutoML_1_20241206_131525_model_1   </td><td style=\"text-align: right;\">0.202175</td><td style=\"text-align: right;\">0.0408746</td><td style=\"text-align: right;\">0.118181</td><td style=\"text-align: right;\">  0.13614 </td><td style=\"text-align: right;\">               0.0408746</td></tr>\n",
       "<tr><td>StackedEnsemble_AllModels_1_AutoML_1_20241206_131525   </td><td style=\"text-align: right;\">0.20506 </td><td style=\"text-align: right;\">0.0420495</td><td style=\"text-align: right;\">0.115057</td><td style=\"text-align: right;\">  0.135547</td><td style=\"text-align: right;\">               0.0420495</td></tr>\n",
       "<tr><td>StackedEnsemble_BestOfFamily_1_AutoML_1_20241206_131525</td><td style=\"text-align: right;\">0.208112</td><td style=\"text-align: right;\">0.0433104</td><td style=\"text-align: right;\">0.118532</td><td style=\"text-align: right;\">  0.137944</td><td style=\"text-align: right;\">               0.0433104</td></tr>\n",
       "<tr><td>DeepLearning_grid_2_AutoML_1_20241206_131525_model_1   </td><td style=\"text-align: right;\">0.209026</td><td style=\"text-align: right;\">0.0436919</td><td style=\"text-align: right;\">0.121878</td><td style=\"text-align: right;\">  0.140555</td><td style=\"text-align: right;\">               0.0436919</td></tr>\n",
       "<tr><td>DeepLearning_grid_1_AutoML_1_20241206_131525_model_1   </td><td style=\"text-align: right;\">0.214687</td><td style=\"text-align: right;\">0.0460903</td><td style=\"text-align: right;\">0.131115</td><td style=\"text-align: right;\">  0.14726 </td><td style=\"text-align: right;\">               0.0460903</td></tr>\n",
       "<tr><td>XGBoost_3_AutoML_1_20241206_131525                     </td><td style=\"text-align: right;\">0.230142</td><td style=\"text-align: right;\">0.0529653</td><td style=\"text-align: right;\">0.132417</td><td style=\"text-align: right;\">  0.154633</td><td style=\"text-align: right;\">               0.0529653</td></tr>\n",
       "<tr><td>XRT_1_AutoML_1_20241206_131525                         </td><td style=\"text-align: right;\">0.23036 </td><td style=\"text-align: right;\">0.0530655</td><td style=\"text-align: right;\">0.13211 </td><td style=\"text-align: right;\">  0.150551</td><td style=\"text-align: right;\">               0.0530655</td></tr>\n",
       "<tr><td>XGBoost_grid_1_AutoML_1_20241206_131525_model_2        </td><td style=\"text-align: right;\">0.234678</td><td style=\"text-align: right;\">0.0550736</td><td style=\"text-align: right;\">0.13806 </td><td style=\"text-align: right;\">  0.158845</td><td style=\"text-align: right;\">               0.0550736</td></tr>\n",
       "<tr><td>DeepLearning_1_AutoML_1_20241206_131525                </td><td style=\"text-align: right;\">0.235432</td><td style=\"text-align: right;\">0.0554281</td><td style=\"text-align: right;\">0.140811</td><td style=\"text-align: right;\">  0.160607</td><td style=\"text-align: right;\">               0.0554281</td></tr>\n",
       "<tr><td>XGBoost_grid_1_AutoML_1_20241206_131525_model_3        </td><td style=\"text-align: right;\">0.242986</td><td style=\"text-align: right;\">0.059042 </td><td style=\"text-align: right;\">0.135577</td><td style=\"text-align: right;\">  0.158657</td><td style=\"text-align: right;\">               0.059042 </td></tr>\n",
       "<tr><td>XGBoost_grid_1_AutoML_1_20241206_131525_model_1        </td><td style=\"text-align: right;\">0.244148</td><td style=\"text-align: right;\">0.0596081</td><td style=\"text-align: right;\">0.146601</td><td style=\"text-align: right;\">  0.16694 </td><td style=\"text-align: right;\">               0.0596081</td></tr>\n",
       "<tr><td>XGBoost_2_AutoML_1_20241206_131525                     </td><td style=\"text-align: right;\">0.250166</td><td style=\"text-align: right;\">0.0625833</td><td style=\"text-align: right;\">0.148229</td><td style=\"text-align: right;\">  0.168945</td><td style=\"text-align: right;\">               0.0625833</td></tr>\n",
       "<tr><td>XGBoost_1_AutoML_1_20241206_131525                     </td><td style=\"text-align: right;\">0.250243</td><td style=\"text-align: right;\">0.0626214</td><td style=\"text-align: right;\">0.152447</td><td style=\"text-align: right;\">  0.169567</td><td style=\"text-align: right;\">               0.0626214</td></tr>\n",
       "<tr><td>GLM_1_AutoML_1_20241206_131525                         </td><td style=\"text-align: right;\">0.272457</td><td style=\"text-align: right;\">0.074233 </td><td style=\"text-align: right;\">0.142628</td><td style=\"text-align: right;\">nan       </td><td style=\"text-align: right;\">               0.074233 </td></tr>\n",
       "<tr><td>GBM_grid_1_AutoML_1_20241206_131525_model_1            </td><td style=\"text-align: right;\">0.291301</td><td style=\"text-align: right;\">0.0848564</td><td style=\"text-align: right;\">0.150418</td><td style=\"text-align: right;\">  0.193694</td><td style=\"text-align: right;\">               0.0848564</td></tr>\n",
       "<tr><td>GBM_1_AutoML_1_20241206_131525                         </td><td style=\"text-align: right;\">0.307358</td><td style=\"text-align: right;\">0.0944688</td><td style=\"text-align: right;\">0.164533</td><td style=\"text-align: right;\">  0.209649</td><td style=\"text-align: right;\">               0.0944688</td></tr>\n",
       "<tr><td>DRF_1_AutoML_1_20241206_131525                         </td><td style=\"text-align: right;\">0.310917</td><td style=\"text-align: right;\">0.0966691</td><td style=\"text-align: right;\">0.158156</td><td style=\"text-align: right;\">  0.2112  </td><td style=\"text-align: right;\">               0.0966691</td></tr>\n",
       "<tr><td>GBM_3_AutoML_1_20241206_131525                         </td><td style=\"text-align: right;\">0.313207</td><td style=\"text-align: right;\">0.0980988</td><td style=\"text-align: right;\">0.164633</td><td style=\"text-align: right;\">  0.214018</td><td style=\"text-align: right;\">               0.0980988</td></tr>\n",
       "<tr><td>GBM_2_AutoML_1_20241206_131525                         </td><td style=\"text-align: right;\">0.314277</td><td style=\"text-align: right;\">0.0987703</td><td style=\"text-align: right;\">0.166147</td><td style=\"text-align: right;\">  0.215271</td><td style=\"text-align: right;\">               0.0987703</td></tr>\n",
       "<tr><td>GBM_grid_1_AutoML_1_20241206_131525_model_2            </td><td style=\"text-align: right;\">0.31469 </td><td style=\"text-align: right;\">0.0990297</td><td style=\"text-align: right;\">0.16597 </td><td style=\"text-align: right;\">  0.215581</td><td style=\"text-align: right;\">               0.0990297</td></tr>\n",
       "<tr><td>GBM_5_AutoML_1_20241206_131525                         </td><td style=\"text-align: right;\">0.315854</td><td style=\"text-align: right;\">0.0997638</td><td style=\"text-align: right;\">0.167008</td><td style=\"text-align: right;\">  0.216848</td><td style=\"text-align: right;\">               0.0997638</td></tr>\n",
       "<tr><td>GBM_4_AutoML_1_20241206_131525                         </td><td style=\"text-align: right;\">0.317127</td><td style=\"text-align: right;\">0.10057  </td><td style=\"text-align: right;\">0.167994</td><td style=\"text-align: right;\">  0.218159</td><td style=\"text-align: right;\">               0.10057  </td></tr>\n",
       "</tbody>\n",
       "</table><pre style='font-size: smaller; margin-bottom: 1em;'>[22 rows x 6 columns]</pre>"
      ],
      "text/plain": [
       "model_id                                                     rmse        mse       mae       rmsle    mean_residual_deviance\n",
       "-------------------------------------------------------  --------  ---------  --------  ----------  ------------------------\n",
       "DeepLearning_grid_3_AutoML_1_20241206_131525_model_1     0.202175  0.0408746  0.118181    0.13614                  0.0408746\n",
       "StackedEnsemble_AllModels_1_AutoML_1_20241206_131525     0.20506   0.0420495  0.115057    0.135547                 0.0420495\n",
       "StackedEnsemble_BestOfFamily_1_AutoML_1_20241206_131525  0.208112  0.0433104  0.118532    0.137944                 0.0433104\n",
       "DeepLearning_grid_2_AutoML_1_20241206_131525_model_1     0.209026  0.0436919  0.121878    0.140555                 0.0436919\n",
       "DeepLearning_grid_1_AutoML_1_20241206_131525_model_1     0.214687  0.0460903  0.131115    0.14726                  0.0460903\n",
       "XGBoost_3_AutoML_1_20241206_131525                       0.230142  0.0529653  0.132417    0.154633                 0.0529653\n",
       "XRT_1_AutoML_1_20241206_131525                           0.23036   0.0530655  0.13211     0.150551                 0.0530655\n",
       "XGBoost_grid_1_AutoML_1_20241206_131525_model_2          0.234678  0.0550736  0.13806     0.158845                 0.0550736\n",
       "DeepLearning_1_AutoML_1_20241206_131525                  0.235432  0.0554281  0.140811    0.160607                 0.0554281\n",
       "XGBoost_grid_1_AutoML_1_20241206_131525_model_3          0.242986  0.059042   0.135577    0.158657                 0.059042\n",
       "XGBoost_grid_1_AutoML_1_20241206_131525_model_1          0.244148  0.0596081  0.146601    0.16694                  0.0596081\n",
       "XGBoost_2_AutoML_1_20241206_131525                       0.250166  0.0625833  0.148229    0.168945                 0.0625833\n",
       "XGBoost_1_AutoML_1_20241206_131525                       0.250243  0.0626214  0.152447    0.169567                 0.0626214\n",
       "GLM_1_AutoML_1_20241206_131525                           0.272457  0.074233   0.142628  nan                        0.074233\n",
       "GBM_grid_1_AutoML_1_20241206_131525_model_1              0.291301  0.0848564  0.150418    0.193694                 0.0848564\n",
       "GBM_1_AutoML_1_20241206_131525                           0.307358  0.0944688  0.164533    0.209649                 0.0944688\n",
       "DRF_1_AutoML_1_20241206_131525                           0.310917  0.0966691  0.158156    0.2112                   0.0966691\n",
       "GBM_3_AutoML_1_20241206_131525                           0.313207  0.0980988  0.164633    0.214018                 0.0980988\n",
       "GBM_2_AutoML_1_20241206_131525                           0.314277  0.0987703  0.166147    0.215271                 0.0987703\n",
       "GBM_grid_1_AutoML_1_20241206_131525_model_2              0.31469   0.0990297  0.16597     0.215581                 0.0990297\n",
       "GBM_5_AutoML_1_20241206_131525                           0.315854  0.0997638  0.167008    0.216848                 0.0997638\n",
       "GBM_4_AutoML_1_20241206_131525                           0.317127  0.10057    0.167994    0.218159                 0.10057\n",
       "[22 rows x 6 columns]\n"
      ]
     },
     "execution_count": 14,
     "metadata": {},
     "output_type": "execute_result"
    }
   ],
   "source": [
    "lb"
   ]
  },
  {
   "cell_type": "code",
   "execution_count": null,
   "metadata": {
    "colab": {
     "base_uri": "https://localhost:8080/",
     "height": 409
    },
    "id": "Cr96t4puMHxY",
    "outputId": "2d036745-e39a-4b94-97fb-c9b117e7920b"
   },
   "outputs": [
    {
     "data": {
      "text/html": [
       "<table class='dataframe'>\n",
       "<thead>\n",
       "<tr><th>model_id                                               </th><th style=\"text-align: right;\">    rmse</th><th style=\"text-align: right;\">      mse</th><th style=\"text-align: right;\">     mae</th><th style=\"text-align: right;\">   rmsle</th><th style=\"text-align: right;\">  mean_residual_deviance</th><th style=\"text-align: right;\">  training_time_ms</th><th style=\"text-align: right;\">  predict_time_per_row_ms</th><th>algo           </th></tr>\n",
       "</thead>\n",
       "<tbody>\n",
       "<tr><td>DeepLearning_grid_3_AutoML_1_20241206_131525_model_1   </td><td style=\"text-align: right;\">0.202175</td><td style=\"text-align: right;\">0.0408746</td><td style=\"text-align: right;\">0.118181</td><td style=\"text-align: right;\">0.13614 </td><td style=\"text-align: right;\">               0.0408746</td><td style=\"text-align: right;\">             64292</td><td style=\"text-align: right;\">                 0.764253</td><td>DeepLearning   </td></tr>\n",
       "<tr><td>StackedEnsemble_AllModels_1_AutoML_1_20241206_131525   </td><td style=\"text-align: right;\">0.20506 </td><td style=\"text-align: right;\">0.0420495</td><td style=\"text-align: right;\">0.115057</td><td style=\"text-align: right;\">0.135547</td><td style=\"text-align: right;\">               0.0420495</td><td style=\"text-align: right;\">              1176</td><td style=\"text-align: right;\">                 2.72795 </td><td>StackedEnsemble</td></tr>\n",
       "<tr><td>StackedEnsemble_BestOfFamily_1_AutoML_1_20241206_131525</td><td style=\"text-align: right;\">0.208112</td><td style=\"text-align: right;\">0.0433104</td><td style=\"text-align: right;\">0.118532</td><td style=\"text-align: right;\">0.137944</td><td style=\"text-align: right;\">               0.0433104</td><td style=\"text-align: right;\">               782</td><td style=\"text-align: right;\">                 1.21355 </td><td>StackedEnsemble</td></tr>\n",
       "<tr><td>DeepLearning_grid_2_AutoML_1_20241206_131525_model_1   </td><td style=\"text-align: right;\">0.209026</td><td style=\"text-align: right;\">0.0436919</td><td style=\"text-align: right;\">0.121878</td><td style=\"text-align: right;\">0.140555</td><td style=\"text-align: right;\">               0.0436919</td><td style=\"text-align: right;\">             45508</td><td style=\"text-align: right;\">                 1.07095 </td><td>DeepLearning   </td></tr>\n",
       "<tr><td>DeepLearning_grid_1_AutoML_1_20241206_131525_model_1   </td><td style=\"text-align: right;\">0.214687</td><td style=\"text-align: right;\">0.0460903</td><td style=\"text-align: right;\">0.131115</td><td style=\"text-align: right;\">0.14726 </td><td style=\"text-align: right;\">               0.0460903</td><td style=\"text-align: right;\">             25102</td><td style=\"text-align: right;\">                 0.889563</td><td>DeepLearning   </td></tr>\n",
       "<tr><td>XGBoost_3_AutoML_1_20241206_131525                     </td><td style=\"text-align: right;\">0.230142</td><td style=\"text-align: right;\">0.0529653</td><td style=\"text-align: right;\">0.132417</td><td style=\"text-align: right;\">0.154633</td><td style=\"text-align: right;\">               0.0529653</td><td style=\"text-align: right;\">              1117</td><td style=\"text-align: right;\">                 0.036697</td><td>XGBoost        </td></tr>\n",
       "<tr><td>XRT_1_AutoML_1_20241206_131525                         </td><td style=\"text-align: right;\">0.23036 </td><td style=\"text-align: right;\">0.0530655</td><td style=\"text-align: right;\">0.13211 </td><td style=\"text-align: right;\">0.150551</td><td style=\"text-align: right;\">               0.0530655</td><td style=\"text-align: right;\">              4146</td><td style=\"text-align: right;\">                 0.086631</td><td>DRF            </td></tr>\n",
       "<tr><td>XGBoost_grid_1_AutoML_1_20241206_131525_model_2        </td><td style=\"text-align: right;\">0.234678</td><td style=\"text-align: right;\">0.0550736</td><td style=\"text-align: right;\">0.13806 </td><td style=\"text-align: right;\">0.158845</td><td style=\"text-align: right;\">               0.0550736</td><td style=\"text-align: right;\">               765</td><td style=\"text-align: right;\">                 0.057955</td><td>XGBoost        </td></tr>\n",
       "<tr><td>DeepLearning_1_AutoML_1_20241206_131525                </td><td style=\"text-align: right;\">0.235432</td><td style=\"text-align: right;\">0.0554281</td><td style=\"text-align: right;\">0.140811</td><td style=\"text-align: right;\">0.160607</td><td style=\"text-align: right;\">               0.0554281</td><td style=\"text-align: right;\">              1633</td><td style=\"text-align: right;\">                 0.127716</td><td>DeepLearning   </td></tr>\n",
       "<tr><td>XGBoost_grid_1_AutoML_1_20241206_131525_model_3        </td><td style=\"text-align: right;\">0.242986</td><td style=\"text-align: right;\">0.059042 </td><td style=\"text-align: right;\">0.135577</td><td style=\"text-align: right;\">0.158657</td><td style=\"text-align: right;\">               0.059042 </td><td style=\"text-align: right;\">              2322</td><td style=\"text-align: right;\">                 0.039867</td><td>XGBoost        </td></tr>\n",
       "</tbody>\n",
       "</table><pre style='font-size: smaller; margin-bottom: 1em;'>[22 rows x 9 columns]</pre>"
      ],
      "text/plain": [
       "model_id                                                     rmse        mse       mae     rmsle    mean_residual_deviance    training_time_ms    predict_time_per_row_ms  algo\n",
       "-------------------------------------------------------  --------  ---------  --------  --------  ------------------------  ------------------  -------------------------  ---------------\n",
       "DeepLearning_grid_3_AutoML_1_20241206_131525_model_1     0.202175  0.0408746  0.118181  0.13614                  0.0408746               64292                   0.764253  DeepLearning\n",
       "StackedEnsemble_AllModels_1_AutoML_1_20241206_131525     0.20506   0.0420495  0.115057  0.135547                 0.0420495                1176                   2.72795   StackedEnsemble\n",
       "StackedEnsemble_BestOfFamily_1_AutoML_1_20241206_131525  0.208112  0.0433104  0.118532  0.137944                 0.0433104                 782                   1.21355   StackedEnsemble\n",
       "DeepLearning_grid_2_AutoML_1_20241206_131525_model_1     0.209026  0.0436919  0.121878  0.140555                 0.0436919               45508                   1.07095   DeepLearning\n",
       "DeepLearning_grid_1_AutoML_1_20241206_131525_model_1     0.214687  0.0460903  0.131115  0.14726                  0.0460903               25102                   0.889563  DeepLearning\n",
       "XGBoost_3_AutoML_1_20241206_131525                       0.230142  0.0529653  0.132417  0.154633                 0.0529653                1117                   0.036697  XGBoost\n",
       "XRT_1_AutoML_1_20241206_131525                           0.23036   0.0530655  0.13211   0.150551                 0.0530655                4146                   0.086631  DRF\n",
       "XGBoost_grid_1_AutoML_1_20241206_131525_model_2          0.234678  0.0550736  0.13806   0.158845                 0.0550736                 765                   0.057955  XGBoost\n",
       "DeepLearning_1_AutoML_1_20241206_131525                  0.235432  0.0554281  0.140811  0.160607                 0.0554281                1633                   0.127716  DeepLearning\n",
       "XGBoost_grid_1_AutoML_1_20241206_131525_model_3          0.242986  0.059042   0.135577  0.158657                 0.059042                 2322                   0.039867  XGBoost\n",
       "[22 rows x 9 columns]\n"
      ]
     },
     "execution_count": 15,
     "metadata": {},
     "output_type": "execute_result"
    }
   ],
   "source": [
    "lb = h2o.automl.get_leaderboard(aml, extra_columns = \"ALL\")\n",
    "lb"
   ]
  },
  {
   "cell_type": "code",
   "execution_count": null,
   "metadata": {
    "colab": {
     "base_uri": "https://localhost:8080/"
    },
    "id": "cIEL8CoJMa4e",
    "outputId": "0d77d9b1-ce99-4ee9-825c-16ac3b9f3d53"
   },
   "outputs": [
    {
     "name": "stdout",
     "output_type": "stream",
     "text": [
      "Model Details\n",
      "=============\n",
      "H2ODeepLearningEstimator : Deep Learning\n",
      "Model Key: DeepLearning_grid_3_AutoML_1_20241206_131525_model_1\n",
      "\n",
      "\n",
      "Status of Neuron Layers: predicting Success_Open, regression, gaussian distribution, Quadratic loss, 297,001 weights/biases, 3.5 MB, 58,387 training samples, mini-batch size 1\n",
      "    layer    units    type              dropout    l1    l2    mean_rate             rate_rms               momentum    mean_weight             weight_rms            mean_bias               bias_rms\n",
      "--  -------  -------  ----------------  ---------  ----  ----  --------------------  ---------------------  ----------  ----------------------  --------------------  ----------------------  -----------------------\n",
      "    1        2766     Input             15.0\n",
      "    2        100      RectifierDropout  10.0       0.0   0.0   0.04477978134311694   0.1819630265235901     0.0         -2.579290761134664e-05  0.027248896658420563  0.4701218114479036      0.07100054621696472\n",
      "    3        100      RectifierDropout  10.0       0.0   0.0   0.01653465662805829   0.021153897047042847   0.0         -0.010266734132150122   0.10328257083892822   0.9675064214209211      0.03698979318141937\n",
      "    4        100      RectifierDropout  10.0       0.0   0.0   0.034738962667787567  0.10316586494445801    0.0         -0.011420292389010865   0.10093748569488525   0.9805132598847347      0.020505160093307495\n",
      "    5        1        Linear                       0.0   0.0   0.001169621884910157  0.0011073332279920578  0.0         0.01326269731274806     0.10916605591773987   -0.0005567378814684703  1.0971281125650402e-154\n",
      "\n",
      "ModelMetricsRegression: deeplearning\n",
      "** Reported on train data. **\n",
      "\n",
      "MSE: 0.0019046770431556297\n",
      "RMSE: 0.043642605824533776\n",
      "MAE: 0.028333823555523125\n",
      "RMSLE: 0.03045929454319223\n",
      "Mean Residual Deviance: 0.0019046770431556297\n",
      "\n",
      "ModelMetricsRegression: deeplearning\n",
      "** Reported on cross-validation data. **\n",
      "\n",
      "MSE: 0.04087456729047947\n",
      "RMSE: 0.2021745960561798\n",
      "MAE: 0.11818133947463397\n",
      "RMSLE: 0.13614040481507547\n",
      "Mean Residual Deviance: 0.04087456729047947\n",
      "\n",
      "Cross-Validation Metrics Summary: \n",
      "                        mean      sd         cv_1_valid    cv_2_valid    cv_3_valid    cv_4_valid    cv_5_valid\n",
      "----------------------  --------  ---------  ------------  ------------  ------------  ------------  ------------\n",
      "aic                     nan       0          nan           nan           nan           nan           nan\n",
      "loglikelihood           nan       0          nan           nan           nan           nan           nan\n",
      "mae                     0.118176  0.0147445  0.120027      0.125884      0.0930877     0.120615      0.131268\n",
      "mean_residual_deviance  0.040889  0.0209679  0.0356634     0.0313817     0.019868      0.0420351     0.075497\n",
      "mse                     0.040889  0.0209679  0.0356634     0.0313817     0.019868      0.0420351     0.075497\n",
      "r2                      0.573802  0.0653219  0.612855      0.637083      0.609326      0.485201      0.524546\n",
      "residual_deviance       0.040889  0.0209679  0.0356634     0.0313817     0.019868      0.0420351     0.075497\n",
      "rmse                    0.197348  0.0492779  0.188848      0.177149      0.140954      0.205025      0.274767\n",
      "rmsle                   0.135154  0.0181615  0.141114      0.129736      0.106501      0.144825      0.153592\n",
      "\n",
      "Scoring History: \n",
      "    timestamp            duration          training_speed    epochs    iterations    samples    training_rmse    training_deviance    training_mae    training_r2\n",
      "--  -------------------  ----------------  ----------------  --------  ------------  ---------  ---------------  -------------------  --------------  -------------\n",
      "    2024-12-06 13:28:39  0.000 sec                           0         0             0          nan              nan                  nan             nan\n",
      "    2024-12-06 13:28:40  4 min 18.648 sec  875 obs/sec       1.71745   1             620        0.236252         0.055815             0.174706        0.411247\n",
      "    2024-12-06 13:28:45  4 min 24.377 sec  824 obs/sec       13.9003   8             5018       0.164202         0.0269623            0.0995053       0.715594\n",
      "    2024-12-06 13:28:51  4 min 29.454 sec  801 obs/sec       24.3241   14            8781       0.125467         0.0157419            0.0722121       0.833949\n",
      "    2024-12-06 13:28:56  4 min 34.764 sec  903 obs/sec       40.1191   23            14483      0.092934         0.00863673           0.0550519       0.908897\n",
      "    2024-12-06 13:29:02  4 min 40.660 sec  904 obs/sec       53.9695   31            19483      0.0794646        0.00631462           0.0558875       0.933392\n",
      "    2024-12-06 13:29:07  4 min 45.835 sec  903 obs/sec       66.3296   38            23945      0.0694998        0.00483022           0.0430128       0.949049\n",
      "    2024-12-06 13:29:12  4 min 51.313 sec  950 obs/sec       83.6233   48            30188      0.0671859        0.00451394           0.0448453       0.952386\n",
      "    2024-12-06 13:29:18  4 min 57.436 sec  938 obs/sec       97.4903   56            35194      0.0498038        0.00248042           0.0344403       0.973836\n",
      "    2024-12-06 13:29:24  5 min  2.553 sec  947 obs/sec       111.371   64            40205      0.0432029        0.00186649           0.0291785       0.980312\n",
      "    2024-12-06 13:29:29  5 min  7.875 sec  978 obs/sec       128.856   74            46517      0.0372126        0.00138478           0.0251592       0.985393\n",
      "    2024-12-06 13:29:35  5 min 13.635 sec  962 obs/sec       140.997   81            50900      0.045848         0.00210204           0.0296917       0.977827\n",
      "    2024-12-06 13:29:40  5 min 19.022 sec  966 obs/sec       154.809   89            55886      0.0652056        0.00425177           0.0386496       0.955151\n",
      "    2024-12-06 13:29:43  5 min 21.918 sec  965 obs/sec       161.737   93            58387      0.0436426        0.00190468           0.0283338       0.979909\n",
      "\n",
      "Variable Importances: \n",
      "variable                            relative_importance    scaled_importance    percentage\n",
      "----------------------------------  ---------------------  -------------------  ---------------------\n",
      "Brokers_Avoid                       1.0                    1.0                  0.0006777888789503818\n",
      "day_2_total                         0.9941555857658386     0.9941555857658386   0.0006738275999784879\n",
      "answer_of_question_13_class_1_prob  0.9810175895690918     0.9810175895690918   0.0006649228122646404\n",
      "day_2_qib                           0.9749053716659546     0.9749053716659546   0.0006607800189441726\n",
      "day_2_retail                        0.8859738111495972     0.8859738111495972   0.0006005031962384827\n",
      "answer_of_question_7_class_1_prob   0.8521782755851746     0.8521782755851746   0.000577596958074745\n",
      "answer_of_question_21_class_1_prob  0.8484379053115845     0.8484379053115845   0.0005750617767001489\n",
      "answer_of_question_9_class_1_prob   0.8440588712692261     0.8440588712692261   0.0005720937161256933\n",
      "day_2_nii                           0.8334138989448547     0.8334138989448547   0.0005648786722674998\n",
      "answer_of_question_5_class_1_prob   0.8125777244567871     0.8125777244567871   0.0005507561449196179\n",
      "---                                 ---                    ---                  ---\n",
      "day_6_retail.missing(NA)            0.0                    0.0                  0.0\n",
      "0_net worth.missing(NA)             0.0                    0.0                  0.0\n",
      "3_net worth.missing(NA)             0.0                    0.0                  0.0\n",
      "day_6_total.missing(NA)             0.0                    0.0                  0.0\n",
      "1_net worth.missing(NA)             0.0                    0.0                  0.0\n",
      "day_6_qib.missing(NA)               0.0                    0.0                  0.0\n",
      "Issue Type.missing(NA)              0.0                    0.0                  0.0\n",
      "2_net worth.missing(NA)             0.0                    0.0                  0.0\n",
      "4_net worth.missing(NA)             0.0                    0.0                  0.0\n",
      "day_6_nii.missing(NA)               0.0                    0.0                  0.0\n",
      "[2766 rows x 4 columns]\n",
      "\n"
     ]
    }
   ],
   "source": [
    "# Get the best model using the metric\n",
    "m = aml.leader\n",
    "print(m)"
   ]
  },
  {
   "cell_type": "code",
   "execution_count": null,
   "metadata": {
    "colab": {
     "base_uri": "https://localhost:8080/"
    },
    "id": "-yGPUFsnMeVx",
    "outputId": "02097a67-8689-410a-fe69-5ecfef2f4189"
   },
   "outputs": [
    {
     "name": "stdout",
     "output_type": "stream",
     "text": [
      "Model Details\n",
      "=============\n",
      "H2ODeepLearningEstimator : Deep Learning\n",
      "Model Key: DeepLearning_grid_3_AutoML_1_20241206_131525_model_1\n",
      "\n",
      "\n",
      "Status of Neuron Layers: predicting Success_Open, regression, gaussian distribution, Quadratic loss, 297,001 weights/biases, 3.5 MB, 58,387 training samples, mini-batch size 1\n",
      "    layer    units    type              dropout    l1    l2    mean_rate             rate_rms               momentum    mean_weight             weight_rms            mean_bias               bias_rms\n",
      "--  -------  -------  ----------------  ---------  ----  ----  --------------------  ---------------------  ----------  ----------------------  --------------------  ----------------------  -----------------------\n",
      "    1        2766     Input             15.0\n",
      "    2        100      RectifierDropout  10.0       0.0   0.0   0.04477978134311694   0.1819630265235901     0.0         -2.579290761134664e-05  0.027248896658420563  0.4701218114479036      0.07100054621696472\n",
      "    3        100      RectifierDropout  10.0       0.0   0.0   0.01653465662805829   0.021153897047042847   0.0         -0.010266734132150122   0.10328257083892822   0.9675064214209211      0.03698979318141937\n",
      "    4        100      RectifierDropout  10.0       0.0   0.0   0.034738962667787567  0.10316586494445801    0.0         -0.011420292389010865   0.10093748569488525   0.9805132598847347      0.020505160093307495\n",
      "    5        1        Linear                       0.0   0.0   0.001169621884910157  0.0011073332279920578  0.0         0.01326269731274806     0.10916605591773987   -0.0005567378814684703  1.0971281125650402e-154\n",
      "\n",
      "ModelMetricsRegression: deeplearning\n",
      "** Reported on train data. **\n",
      "\n",
      "MSE: 0.0019046770431556297\n",
      "RMSE: 0.043642605824533776\n",
      "MAE: 0.028333823555523125\n",
      "RMSLE: 0.03045929454319223\n",
      "Mean Residual Deviance: 0.0019046770431556297\n",
      "\n",
      "ModelMetricsRegression: deeplearning\n",
      "** Reported on cross-validation data. **\n",
      "\n",
      "MSE: 0.04087456729047947\n",
      "RMSE: 0.2021745960561798\n",
      "MAE: 0.11818133947463397\n",
      "RMSLE: 0.13614040481507547\n",
      "Mean Residual Deviance: 0.04087456729047947\n",
      "\n",
      "Cross-Validation Metrics Summary: \n",
      "                        mean      sd         cv_1_valid    cv_2_valid    cv_3_valid    cv_4_valid    cv_5_valid\n",
      "----------------------  --------  ---------  ------------  ------------  ------------  ------------  ------------\n",
      "aic                     nan       0          nan           nan           nan           nan           nan\n",
      "loglikelihood           nan       0          nan           nan           nan           nan           nan\n",
      "mae                     0.118176  0.0147445  0.120027      0.125884      0.0930877     0.120615      0.131268\n",
      "mean_residual_deviance  0.040889  0.0209679  0.0356634     0.0313817     0.019868      0.0420351     0.075497\n",
      "mse                     0.040889  0.0209679  0.0356634     0.0313817     0.019868      0.0420351     0.075497\n",
      "r2                      0.573802  0.0653219  0.612855      0.637083      0.609326      0.485201      0.524546\n",
      "residual_deviance       0.040889  0.0209679  0.0356634     0.0313817     0.019868      0.0420351     0.075497\n",
      "rmse                    0.197348  0.0492779  0.188848      0.177149      0.140954      0.205025      0.274767\n",
      "rmsle                   0.135154  0.0181615  0.141114      0.129736      0.106501      0.144825      0.153592\n",
      "\n",
      "Scoring History: \n",
      "    timestamp            duration          training_speed    epochs    iterations    samples    training_rmse    training_deviance    training_mae    training_r2\n",
      "--  -------------------  ----------------  ----------------  --------  ------------  ---------  ---------------  -------------------  --------------  -------------\n",
      "    2024-12-06 13:28:39  0.000 sec                           0         0             0          nan              nan                  nan             nan\n",
      "    2024-12-06 13:28:40  4 min 18.648 sec  875 obs/sec       1.71745   1             620        0.236252         0.055815             0.174706        0.411247\n",
      "    2024-12-06 13:28:45  4 min 24.377 sec  824 obs/sec       13.9003   8             5018       0.164202         0.0269623            0.0995053       0.715594\n",
      "    2024-12-06 13:28:51  4 min 29.454 sec  801 obs/sec       24.3241   14            8781       0.125467         0.0157419            0.0722121       0.833949\n",
      "    2024-12-06 13:28:56  4 min 34.764 sec  903 obs/sec       40.1191   23            14483      0.092934         0.00863673           0.0550519       0.908897\n",
      "    2024-12-06 13:29:02  4 min 40.660 sec  904 obs/sec       53.9695   31            19483      0.0794646        0.00631462           0.0558875       0.933392\n",
      "    2024-12-06 13:29:07  4 min 45.835 sec  903 obs/sec       66.3296   38            23945      0.0694998        0.00483022           0.0430128       0.949049\n",
      "    2024-12-06 13:29:12  4 min 51.313 sec  950 obs/sec       83.6233   48            30188      0.0671859        0.00451394           0.0448453       0.952386\n",
      "    2024-12-06 13:29:18  4 min 57.436 sec  938 obs/sec       97.4903   56            35194      0.0498038        0.00248042           0.0344403       0.973836\n",
      "    2024-12-06 13:29:24  5 min  2.553 sec  947 obs/sec       111.371   64            40205      0.0432029        0.00186649           0.0291785       0.980312\n",
      "    2024-12-06 13:29:29  5 min  7.875 sec  978 obs/sec       128.856   74            46517      0.0372126        0.00138478           0.0251592       0.985393\n",
      "    2024-12-06 13:29:35  5 min 13.635 sec  962 obs/sec       140.997   81            50900      0.045848         0.00210204           0.0296917       0.977827\n",
      "    2024-12-06 13:29:40  5 min 19.022 sec  966 obs/sec       154.809   89            55886      0.0652056        0.00425177           0.0386496       0.955151\n",
      "    2024-12-06 13:29:43  5 min 21.918 sec  965 obs/sec       161.737   93            58387      0.0436426        0.00190468           0.0283338       0.979909\n",
      "\n",
      "Variable Importances: \n",
      "variable                            relative_importance    scaled_importance    percentage\n",
      "----------------------------------  ---------------------  -------------------  ---------------------\n",
      "Brokers_Avoid                       1.0                    1.0                  0.0006777888789503818\n",
      "day_2_total                         0.9941555857658386     0.9941555857658386   0.0006738275999784879\n",
      "answer_of_question_13_class_1_prob  0.9810175895690918     0.9810175895690918   0.0006649228122646404\n",
      "day_2_qib                           0.9749053716659546     0.9749053716659546   0.0006607800189441726\n",
      "day_2_retail                        0.8859738111495972     0.8859738111495972   0.0006005031962384827\n",
      "answer_of_question_7_class_1_prob   0.8521782755851746     0.8521782755851746   0.000577596958074745\n",
      "answer_of_question_21_class_1_prob  0.8484379053115845     0.8484379053115845   0.0005750617767001489\n",
      "answer_of_question_9_class_1_prob   0.8440588712692261     0.8440588712692261   0.0005720937161256933\n",
      "day_2_nii                           0.8334138989448547     0.8334138989448547   0.0005648786722674998\n",
      "answer_of_question_5_class_1_prob   0.8125777244567871     0.8125777244567871   0.0005507561449196179\n",
      "---                                 ---                    ---                  ---\n",
      "day_6_retail.missing(NA)            0.0                    0.0                  0.0\n",
      "0_net worth.missing(NA)             0.0                    0.0                  0.0\n",
      "3_net worth.missing(NA)             0.0                    0.0                  0.0\n",
      "day_6_total.missing(NA)             0.0                    0.0                  0.0\n",
      "1_net worth.missing(NA)             0.0                    0.0                  0.0\n",
      "day_6_qib.missing(NA)               0.0                    0.0                  0.0\n",
      "Issue Type.missing(NA)              0.0                    0.0                  0.0\n",
      "2_net worth.missing(NA)             0.0                    0.0                  0.0\n",
      "4_net worth.missing(NA)             0.0                    0.0                  0.0\n",
      "day_6_nii.missing(NA)               0.0                    0.0                  0.0\n",
      "[2766 rows x 4 columns]\n",
      "\n"
     ]
    }
   ],
   "source": [
    "# this is equivalent to\n",
    "m = aml.get_best_model()\n",
    "print(m)"
   ]
  },
  {
   "cell_type": "code",
   "execution_count": null,
   "metadata": {
    "id": "slwGwWJ4MhCP"
   },
   "outputs": [],
   "source": [
    "# Get the best model using a non-default metric\n",
    "# m = aml.get_best_model(criterion=\"logloss\")\n",
    "# print(m)"
   ]
  },
  {
   "cell_type": "code",
   "execution_count": null,
   "metadata": {
    "colab": {
     "base_uri": "https://localhost:8080/"
    },
    "id": "g-99maupMj0G",
    "outputId": "3851632d-77fa-4275-f79c-7b98a6471c2c"
   },
   "outputs": [
    {
     "name": "stdout",
     "output_type": "stream",
     "text": [
      "timestamp     level    stage       message                                                                                                                                                         name    value\n",
      "13:15:25.295  INFO     Workflow    Project: AutoML_1_20241206_131525\n",
      "13:15:25.297  INFO     Validation  5-fold cross-validation will be used.\n",
      "13:15:25.298  INFO     Validation  Setting stopping tolerance adaptively based on the training frame: 0.05\n",
      "13:15:25.298  INFO     Validation  Build control seed: 1\n",
      "13:15:25.315  INFO     DataImport  training frame: Frame key: AutoML_1_20241206_131525_training_py_1_sid_894a    cols: 175    rows: 361  chunks: 1    size: 464913  checksum: 5679454819620877751\n",
      "13:15:25.315  INFO     DataImport  validation frame: NULL\n",
      "13:15:25.315  INFO     DataImport  leaderboard frame: NULL\n",
      "13:15:25.316  INFO     DataImport  blending frame: NULL\n",
      "13:15:25.316  INFO     DataImport  response column: Success_Open\n",
      "13:15:25.316  INFO     DataImport  fold column: null\n",
      "[152 rows x 6 columns]\n",
      "\n"
     ]
    }
   ],
   "source": [
    "# Get AutoML event log\n",
    "log = aml.event_log\n",
    "print(log)\n"
   ]
  },
  {
   "cell_type": "code",
   "execution_count": null,
   "metadata": {
    "colab": {
     "base_uri": "https://localhost:8080/"
    },
    "id": "OuVytzLbMmix",
    "outputId": "3a8222ae-c86e-4b72-8400-aab5e345afa0"
   },
   "outputs": [
    {
     "name": "stdout",
     "output_type": "stream",
     "text": [
      "{'creation_epoch': '1733490925', 'start_epoch': '1733490926', 'start_XGBoost_def_2': '1733490926', 'start_GLM_def_1': '1733490940', 'start_GBM_def_5': '1733490955', 'start_XGBoost_def_1': '1733490961', 'start_DRF_def_1': '1733490971', 'start_GBM_def_2': '1733490993', 'start_GBM_def_3': '1733491001', 'start_GBM_def_4': '1733491006', 'start_XGBoost_def_3': '1733491013', 'start_DRF_XRT': '1733491019', 'start_GBM_def_1': '1733491045', 'start_DeepLearning_def_1': '1733491051', 'start_XGBoost_grid_1': '1733491059', 'start_GBM_grid_1': '1733491077', 'start_DeepLearning_grid_1': '1733491083', 'start_DeepLearning_grid_2': '1733491229', 'start_DeepLearning_grid_3': '1733491462', 'start_StackedEnsemble_best_of_family_xglm': '1733491784', 'start_StackedEnsemble_all_xglm': '1733491785', 'stop_epoch': '1733491786', 'duration_secs': '860'}\n"
     ]
    }
   ],
   "source": [
    "# Get training timing info\n",
    "info = aml.training_info\n",
    "print(info)"
   ]
  },
  {
   "cell_type": "code",
   "execution_count": null,
   "metadata": {
    "colab": {
     "base_uri": "https://localhost:8080/",
     "height": 36
    },
    "id": "C6ODkYRiMov8",
    "outputId": "96461fd5-de51-4ed5-9a10-3816fbf89b51"
   },
   "outputs": [
    {
     "data": {
      "application/vnd.google.colaboratory.intrinsic+json": {
       "type": "string"
      },
      "text/plain": [
       "'DeepLearning_grid_3_AutoML_1_20241206_131525_model_1'"
      ]
     },
     "execution_count": 21,
     "metadata": {},
     "output_type": "execute_result"
    }
   ],
   "source": [
    "aml.leader.model_id"
   ]
  },
  {
   "cell_type": "code",
   "execution_count": null,
   "metadata": {
    "id": "bDgmQAkzMpjr"
   },
   "outputs": [],
   "source": [
    "# aml.leader.confusion_matrix()"
   ]
  },
  {
   "cell_type": "code",
   "execution_count": null,
   "metadata": {
    "id": "fCB5lYeOO7yK"
   },
   "outputs": [],
   "source": [
    "cols = ['3_assets',  '3_revenue', 'Share Holding Post Issue', 'Share Holding Pre Issue', 'S-HNI (Max)_Shares',  'B-HNI (Min)_Shares', 'S-HNI (Min)_Amount', 'B-HNI (Min)_Amount', 'S-HNI (Min)_Shares', 'S-HNI (Max)_Amount', 'B-HNI (Min)_Lots', 'S-HNI (Max)_Lots', 'S-HNI (Min)_Lots', '0_net worth',  '3_net worth', '1_net worth', '2_net worth']\n",
    "for col in cols:\n",
    "  h2o_test[col] = h2o_test[col].ascharacter().asfactor()"
   ]
  },
  {
   "cell_type": "code",
   "execution_count": null,
   "metadata": {
    "colab": {
     "base_uri": "https://localhost:8080/",
     "height": 1000
    },
    "id": "xAnz6gPaMz6l",
    "outputId": "f7c8eb8b-8d55-4434-d5e5-574149c3946f"
   },
   "outputs": [
    {
     "name": "stdout",
     "output_type": "stream",
     "text": [
      "deeplearning prediction progress: |██████████████████████████████████████████████| (done) 100%\n"
     ]
    },
    {
     "name": "stderr",
     "output_type": "stream",
     "text": [
      "/usr/local/lib/python3.10/dist-packages/h2o/job.py:81: UserWarning: Test/Validation dataset column 'Price Band' has levels not trained on: [\"102 to 108 per share\", \"1026 to 1080 per share\", \"113 to 119 per share\", \"119 to 126 per share\", \"133 to 140 per share\", \"135 to 142 per share\", \"151 to 166 per share\", \"156 to 164 per share\", \"160 to 169 per share\", \"187 to 197 per share\", ...30 not listed..., \"617 to 648 per share\", \"627 to 660 per share\", \"638 to 672 per share\", \"695 to 735 per share\", \"705 to 741 per share\", \"750 to 790 per share\", \"808 to 850 per share\", \"93 to 98 per share\", \"95 to 100 per share\", \"983 to 1035 per share\"]\n",
      "  warnings.warn(w)\n",
      "/usr/local/lib/python3.10/dist-packages/h2o/job.py:81: UserWarning: Test/Validation dataset column 'Offer for Sale' has levels not trained on: [\"10,449,816 shares of 1 (aggregating up to 171.38 Cr)\", \"10,759,493 shares of 10 (aggregating up to 850.00 Cr)\", \"11,756,910 shares of 2 (aggregating up to 198.69 Cr)\", \"12,050,000 shares of 10 (aggregating up to 72.30 Cr)\", \"12,183,099 shares of 1 (aggregating up to 173.00 Cr)\", \"12,500,000 shares of 2 (aggregating up to 545.00 Cr)\", \"13,500,000 shares of 1 (aggregating up to 170.10 Cr)\", \"14,213,198 shares of 1 (aggregating up to 280.00 Cr)\", \"17,236,808 shares of 5 (aggregating up to 1,784.01 Cr)\", \"17,500,000 shares of 2 (aggregating up to 189.00 Cr)\", ...25 not listed..., \"7,159,920 shares of 2 (aggregating up to 608.59 Cr)\", \"8,000,000 shares of 10 (aggregating up to 240.00 Cr)\", \"8,113,590 shares of 5 (aggregating up to 400.00 Cr)\", \"8,294,118 shares of 10 (aggregating up to 175.00 Cr)\", \"8,500,000 shares of 2 (aggregating up to 425.00 Cr)\", \"9,000,000 shares of 10 (aggregating up to 256.50 Cr)\", \"9,428,178 shares of 10 (aggregating up to 415.78 Cr)\", \"9,541,985 shares of 2 (aggregating up to 500.00 Cr)\", \"9,901,315 shares of 5 (aggregating up to 301.00 Cr)\", \"[.] shares of 10 (aggregating up to 425.00 Cr)\"]\n",
      "  warnings.warn(w)\n",
      "/usr/local/lib/python3.10/dist-packages/h2o/job.py:81: UserWarning: Test/Validation dataset column '4_profit after tax' has levels not trained on: [\"19.24\", \"21.07\", \"65.77\"]\n",
      "  warnings.warn(w)\n",
      "/usr/local/lib/python3.10/dist-packages/h2o/job.py:81: UserWarning: Test/Validation dataset column '3_assets' has levels not trained on: [\"1077.86\", \"1097.7\", \"1146.51\", \"123.74\", \"12338.65\", \"19117.54\", \"213.98\", \"2462.64\", \"256.05\", \"2633.62\", ...11 not listed..., \"5746.44\", \"5999.13\", \"6210.92\", \"638.72\", \"687.2\", \"692.76\", \"792\", \"876.38\", \"9450.66\", \"948.25\"]\n",
      "  warnings.warn(w)\n",
      "/usr/local/lib/python3.10/dist-packages/h2o/job.py:81: UserWarning: Test/Validation dataset column '3_revenue' has levels not trained on: [\"10311.01\", \"1059.58\", \"107.71\", \"1178.62\", \"125.03\", \"1567.77\", \"1585.88\", \"1768.42\", \"2031.3\", \"2069.58\", ...11 not listed..., \"402.59\", \"408.79\", \"412.03\", \"472.1\", \"543.28\", \"5633.64\", \"590.81\", \"608.99\", \"697.57\", \"740.36\"]\n",
      "  warnings.warn(w)\n",
      "/usr/local/lib/python3.10/dist-packages/h2o/job.py:81: UserWarning: Test/Validation dataset column 'Share Holding Post Issue' has levels not trained on: [\"0.3019\", \"0.3534\", \"0.4091\", \"0.416\", \"0.4408\", \"0.4817\", \"0.5124\", \"0.5366\", \"0.5539\", \"0.5547\", ...21 not listed..., \"0.7494\", \"0.7495\", \"0.7497\", \"0.7545\", \"0.765\", \"0.7859\", \"0.792\", \"0.8561\", \"64.46\", \"78.06\"]\n",
      "  warnings.warn(w)\n",
      "/usr/local/lib/python3.10/dist-packages/h2o/job.py:81: UserWarning: Test/Validation dataset column 'Fresh Issue' has levels not trained on: [\"1,700,680 shares (aggregating up to 75.00 Cr)\", \"1,739,131 shares (aggregating up to 180.00 Cr)\", \"10,000,000 shares (aggregating up to 100.00 Cr)\", \"10,200,000 shares (aggregating up to 66.30 Cr)\", \"10,800,000 shares (aggregating up to 545.40 Cr)\", \"10,890,000 shares (aggregating up to 152.46 Cr)\", \"11,111,111 shares (aggregating up to 400.00 Cr)\", \"11,268,580 shares (aggregating up to 365.00 Cr)\", \"12,280,701 shares (aggregating up to 350.00 Cr)\", \"13,200,158 shares (aggregating up to 71.28 Cr)\", ...27 not listed..., \"6,930,806 shares (aggregating up to 146.24 Cr)\", \"65,116,667 shares (aggregating up to 390.70 Cr)\", \"7,142,857 shares (aggregating up to 320.00 Cr)\", \"7,339,450 shares (aggregating up to 320.00 Cr)\", \"7,374,163 shares (aggregating up to 542.00 Cr)\", \"8,517,350 shares (aggregating up to 270.00 Cr)\", \"8,520,000 shares (aggregating up to 119.28 Cr)\", \"9,605,263 shares (aggregating up to 292.00 Cr)\", \"9,767,442 shares (aggregating up to 210.00 Cr)\", \"95,238,095 shares (aggregating up to 1,200.00 Cr)\"]\n",
      "  warnings.warn(w)\n",
      "/usr/local/lib/python3.10/dist-packages/h2o/job.py:81: UserWarning: Test/Validation dataset column 'Share Holding Pre Issue' has levels not trained on: [\"0.3337\", \"0.3741\", \"0.4408\", \"0.4665\", \"0.4979\", \"0.5675\", \"0.5791\", \"0.6642\", \"0.6666\", \"0.6679\", ...21 not listed..., \"0.918\", \"0.9284\", \"0.9523\", \"0.9642\", \"0.9749\", \"0.978\", \"0.9859\", \"0.993\", \"0.9935\", \"1\"]\n",
      "  warnings.warn(w)\n",
      "/usr/local/lib/python3.10/dist-packages/h2o/job.py:81: UserWarning: Test/Validation dataset column 'Industry' has levels not trained on: [\"Computer Peripherals\", \"Integrated Oil\", \"Office Equipment/Supplies\"]\n",
      "  warnings.warn(w)\n",
      "/usr/local/lib/python3.10/dist-packages/h2o/job.py:81: UserWarning: Test/Validation dataset column '4_assets' has levels not trained on: [\"1082.82\", \"267.16\", \"485.97\"]\n",
      "  warnings.warn(w)\n",
      "/usr/local/lib/python3.10/dist-packages/h2o/job.py:81: UserWarning: Test/Validation dataset column '4_revenue' has levels not trained on: [\"166.13\", \"510.21\", \"523.1\"]\n",
      "  warnings.warn(w)\n",
      "/usr/local/lib/python3.10/dist-packages/h2o/job.py:81: UserWarning: Test/Validation dataset column 'day_3_total' has levels not trained on: [\"0.98\", \"2.19\", \"5.35\", \"5.5\", \"50.38\", \"62.83\"]\n",
      "  warnings.warn(w)\n",
      "/usr/local/lib/python3.10/dist-packages/h2o/job.py:81: UserWarning: Test/Validation dataset column 'day_3_nii' has levels not trained on: [\"1.52\", \"1.92\", \"132.99\", \"6.49\", \"64.88\", \"9.01\"]\n",
      "  warnings.warn(w)\n",
      "/usr/local/lib/python3.10/dist-packages/h2o/job.py:81: UserWarning: Test/Validation dataset column 'day_3_retail' has levels not trained on: [\"0.55\", \"16.53\", \"225.37\", \"3.14\", \"4.44\", \"64.84\"]\n",
      "  warnings.warn(w)\n",
      "/usr/local/lib/python3.10/dist-packages/h2o/job.py:81: UserWarning: Test/Validation dataset column 'day_3_qib' has levels not trained on: [\"1.05\", \"1.28\", \"5.79\", \"64.1\"]\n",
      "  warnings.warn(w)\n",
      "/usr/local/lib/python3.10/dist-packages/h2o/job.py:81: UserWarning: Test/Validation dataset column 'S-HNI (Max)_Shares' has levels not trained on: [\"10050\", \"10200\", \"1173\", \"1260\", \"1340\", \"1360\", \"1474\", \"1496\", \"15180\", \"1541\", ...35 not listed..., \"7035\", \"7062\", \"7100\", \"7140\", \"7854\", \"8316\", \"923\", \"9230\", \"966\", \"9900\"]\n",
      "  warnings.warn(w)\n",
      "/usr/local/lib/python3.10/dist-packages/h2o/job.py:81: UserWarning: Test/Validation dataset column 'B-HNI (Min)_Shares' has levels not trained on: [\"10050\", \"10200\", \"10350\", \"1190\", \"1278\", \"1360\", \"1380\", \"1496\", \"1518\", \"15410\", ...35 not listed..., \"6120\", \"7140\", \"7169\", \"7200\", \"7245\", \"7973\", \"8442\", \"936\", \"9360\", \"980\"]\n",
      "  warnings.warn(w)\n",
      "/usr/local/lib/python3.10/dist-packages/h2o/job.py:81: UserWarning: Test/Validation dataset column 'S-HNI (Min)_Amount' has levels not trained on: [\"202300\", \"202860\", \"203280\", \"204750\", \"204820\", \"205030\", \"205408\", \"205800\", \"206080\", \"206250\", ...18 not listed..., \"209160\", \"209244\", \"209300\", \"209412\", \"209608\", \"209720\", \"209916\", \"210000\", \"210600\", \"213300\"]\n",
      "  warnings.warn(w)\n",
      "/usr/local/lib/python3.10/dist-packages/h2o/job.py:81: UserWarning: Test/Validation dataset column 'B-HNI (Min)_Amount' has levels not trained on: [\"1000960\", \"1000980\", \"1001382\", \"1001650\", \"1001880\", \"1002186\", \"1003000\", \"1003124\", \"1003660\", \"1003680\", ...18 not listed..., \"1011296\", \"1011432\", \"1011500\", \"1011704\", \"1012368\", \"1012928\", \"1013132\", \"1013472\", \"1013880\", \"1014300\"]\n",
      "  warnings.warn(w)\n",
      "/usr/local/lib/python3.10/dist-packages/h2o/job.py:81: UserWarning: Test/Validation dataset column 'S-HNI (Min)_Shares' has levels not trained on: [\"1064\", \"1232\", \"1260\", \"1470\", \"1498\", \"1500\", \"1666\", \"1764\", \"195\", \"1950\", ...25 not listed..., \"686\", \"700\", \"714\", \"728\", \"742\", \"784\", \"8400\", \"938\", \"966\", \"980\"]\n",
      "  warnings.warn(w)\n",
      "/usr/local/lib/python3.10/dist-packages/h2o/job.py:81: UserWarning: Test/Validation dataset column 'S-HNI (Max)_Amount' has levels not trained on: [\"986040\", \"986240\", \"986436\", \"986700\", \"987228\", \"987360\", \"988152\", \"988250\", \"988680\", \"988920\", ...18 not listed..., \"996826\", \"996840\", \"997050\", \"997696\", \"998032\", \"998233\", \"998568\", \"998970\", \"999600\", \"999810\"]\n",
      "  warnings.warn(w)\n",
      "/usr/local/lib/python3.10/dist-packages/h2o/job.py:81: UserWarning: Test/Validation dataset column 'B-HNI (Min)_Lots' has levels not trained on: [\"67\", \"68\", \"69\", \"70\", \"71\", \"72\", \"73\"]\n",
      "  warnings.warn(w)\n",
      "/usr/local/lib/python3.10/dist-packages/h2o/job.py:81: UserWarning: Test/Validation dataset column 'S-HNI (Max)_Lots' has levels not trained on: [\"66\", \"67\", \"68\", \"69\", \"70\", \"71\", \"72\"]\n",
      "  warnings.warn(w)\n",
      "/usr/local/lib/python3.10/dist-packages/h2o/job.py:81: UserWarning: Test/Validation dataset column 'S-HNI (Min)_Lots' has levels not trained on: [\"14\", \"15\"]\n",
      "  warnings.warn(w)\n",
      "/usr/local/lib/python3.10/dist-packages/h2o/job.py:81: UserWarning: Test/Validation dataset column '0_net worth' has levels not trained on: [\"-259.28\", \"-93.07\", \"1019.5\", \"104.57\", \"1103.33\", \"113.61\", \"1226.56\", \"123.49\", \"1374.97\", \"1414.9\", ...23 not listed..., \"56.58\", \"638.26\", \"6580.61\", \"725.68\", \"752.09\", \"810.79\", \"86.11\", \"875.07\", \"88.58\", \"999.37\"]\n",
      "  warnings.warn(w)\n",
      "/usr/local/lib/python3.10/dist-packages/h2o/job.py:81: UserWarning: Test/Validation dataset column '3_net worth' has levels not trained on: [\"-1765.14\", \"100.96\", \"114.09\", \"116.89\", \"117.6\", \"1352.06\", \"1390.47\", \"144.78\", \"1466.88\", \"192.33\", ...10 not listed..., \"375.76\", \"3934.64\", \"47.54\", \"487.83\", \"55.55\", \"622.23\", \"645.16\", \"723.55\", \"834.73\", \"937.27\"]\n",
      "  warnings.warn(w)\n",
      "/usr/local/lib/python3.10/dist-packages/h2o/job.py:81: UserWarning: Test/Validation dataset column '1_net worth' has levels not trained on: [\"-206.87\", \"-702.63\", \"100.93\", \"1033.38\", \"1103.22\", \"1240.53\", \"1336.58\", \"1355.68\", \"1368.35\", \"137.4\", ...23 not listed..., \"65.97\", \"665.73\", \"681.49\", \"71.39\", \"71.46\", \"75.2\", \"760.21\", \"92.47\", \"944.72\", \"988.31\"]\n",
      "  warnings.warn(w)\n",
      "/usr/local/lib/python3.10/dist-packages/h2o/job.py:81: UserWarning: Test/Validation dataset column '2_net worth' has levels not trained on: [\"-352.22\", \"-871.43\", \"100.49\", \"1026.78\", \"106.05\", \"107.25\", \"1076.13\", \"115.45\", \"1153.52\", \"1237.05\", ...23 not listed..., \"5268.11\", \"560.71\", \"631.91\", \"70.03\", \"705.62\", \"714\", \"72.46\", \"787.62\", \"86.22\", \"889.89\"]\n",
      "  warnings.warn(w)\n",
      "/usr/local/lib/python3.10/dist-packages/h2o/job.py:81: UserWarning: Test/Validation dataset column '4_net worth' has levels not trained on: [\"182.96\", \"363.65\", \"74.74\"]\n",
      "  warnings.warn(w)\n"
     ]
    },
    {
     "data": {
      "text/html": [
       "<table class='dataframe'>\n",
       "<thead>\n",
       "<tr><th style=\"text-align: right;\">    predict</th></tr>\n",
       "</thead>\n",
       "<tbody>\n",
       "<tr><td style=\"text-align: right;\"> 0.13734   </td></tr>\n",
       "<tr><td style=\"text-align: right;\"> 0.0251698 </td></tr>\n",
       "<tr><td style=\"text-align: right;\">-0.0072252 </td></tr>\n",
       "<tr><td style=\"text-align: right;\"> 0.0390367 </td></tr>\n",
       "<tr><td style=\"text-align: right;\"> 0.027535  </td></tr>\n",
       "<tr><td style=\"text-align: right;\"> 0.0115684 </td></tr>\n",
       "<tr><td style=\"text-align: right;\"> 0.184113  </td></tr>\n",
       "<tr><td style=\"text-align: right;\"> 0.00402994</td></tr>\n",
       "<tr><td style=\"text-align: right;\"> 0.314244  </td></tr>\n",
       "<tr><td style=\"text-align: right;\"> 0.924113  </td></tr>\n",
       "</tbody>\n",
       "</table><pre style='font-size: smaller; margin-bottom: 1em;'>[57 rows x 1 column]</pre>"
      ],
      "text/plain": [
       "    predict\n",
       "-----------\n",
       " 0.13734\n",
       " 0.0251698\n",
       "-0.0072252\n",
       " 0.0390367\n",
       " 0.027535\n",
       " 0.0115684\n",
       " 0.184113\n",
       " 0.00402994\n",
       " 0.314244\n",
       " 0.924113\n",
       "[57 rows x 1 column]\n"
      ]
     },
     "execution_count": 24,
     "metadata": {},
     "output_type": "execute_result"
    }
   ],
   "source": [
    "preds_leader = aml.leader.predict(h2o_test)\n",
    "preds_leader"
   ]
  },
  {
   "cell_type": "code",
   "execution_count": null,
   "metadata": {
    "colab": {
     "base_uri": "https://localhost:8080/"
    },
    "id": "szlnijTQNcju",
    "outputId": "33f29357-efe2-4f7d-85ba-ffaa6dc5b7e0"
   },
   "outputs": [
    {
     "name": "stdout",
     "output_type": "stream",
     "text": [
      "/content/drive/MyDrive/datasets/Indian_IPO_Prediction/mainboard_h2o_best_stacked_model_Success_Open_ALL_features_with_deberta_predprobab_underpricing/DeepLearning_grid_3_AutoML_1_20241206_131525_model_1\n"
     ]
    }
   ],
   "source": [
    "best_model = aml.get_best_model()\n",
    "model_path = h2o.save_model(model=best_model, path=\"/content/drive/MyDrive/datasets/Indian_IPO_Prediction/mainboard_h2o_best_stacked_model_\" + y + \"_ALL_features_with_deberta_predprobab_underpricing/\", force=True)\n",
    "print(model_path)"
   ]
  },
  {
   "cell_type": "code",
   "execution_count": null,
   "metadata": {
    "colab": {
     "base_uri": "https://localhost:8080/"
    },
    "id": "lMIghfklQdcV",
    "outputId": "866bd77e-f49b-4766-eccb-209417f545e2"
   },
   "outputs": [
    {
     "name": "stdout",
     "output_type": "stream",
     "text": [
      "MAE: 0.16701229904629747\n",
      "RMSE: 0.24000127341813138\n",
      "MSE: 0.05760061124232465\n",
      "\n",
      "\n"
     ]
    }
   ],
   "source": [
    "performance = best_model.model_performance(test_data=h2o_test)\n",
    "print(\"MAE:\", performance.mae())\n",
    "print(f\"RMSE: {performance.rmse()}\")\n",
    "print(f\"MSE: {performance.mse()}\")\n",
    "print(\"\\n\")"
   ]
  },
  {
   "cell_type": "code",
   "execution_count": null,
   "metadata": {
    "colab": {
     "base_uri": "https://localhost:8080/"
    },
    "id": "y_ViKgxCQssm",
    "outputId": "4dfbcb6d-e693-494d-95e1-988c0b398ca3"
   },
   "outputs": [
    {
     "name": "stderr",
     "output_type": "stream",
     "text": [
      "/usr/local/lib/python3.10/dist-packages/h2o/frame.py:1983: H2ODependencyWarning: Converting H2O frame to pandas dataframe using single-thread.  For faster conversion using multi-thread, install polars and pyarrow and use it as pandas_df = h2o_df.as_data_frame(use_multi_thread=True)\n",
      "\n",
      "  warnings.warn(\"Converting H2O frame to pandas dataframe using single-thread.  For faster conversion using\"\n"
     ]
    },
    {
     "name": "stdout",
     "output_type": "stream",
     "text": [
      "Performance for model DeepLearning_grid_3_AutoML_1_20241206_131525_model_1:\n",
      "MAE: 0.16701229904629747\n",
      "RMSE: 0.24000127341813138\n",
      "MSE: 0.05760061124232465\n",
      "\n",
      "\n",
      "Performance for model StackedEnsemble_AllModels_1_AutoML_1_20241206_131525:\n",
      "MAE: 0.17747549600396836\n",
      "RMSE: 0.24421844109332905\n",
      "MSE: 0.05964264697005583\n",
      "\n",
      "\n",
      "Performance for model StackedEnsemble_BestOfFamily_1_AutoML_1_20241206_131525:\n",
      "MAE: 0.17578259302047533\n",
      "RMSE: 0.23824141074211044\n",
      "MSE: 0.05675896979239097\n",
      "\n",
      "\n",
      "Performance for model DeepLearning_grid_2_AutoML_1_20241206_131525_model_1:\n",
      "MAE: 0.16918395895453517\n",
      "RMSE: 0.23441473987268782\n",
      "MSE: 0.0549502702695799\n",
      "\n",
      "\n",
      "Performance for model DeepLearning_grid_1_AutoML_1_20241206_131525_model_1:\n",
      "MAE: 0.27669737387761395\n",
      "RMSE: 0.4053016207153567\n",
      "MSE: 0.16426940375449486\n",
      "\n",
      "\n",
      "Performance for model XGBoost_3_AutoML_1_20241206_131525:\n",
      "MAE: 0.2779856592808899\n",
      "RMSE: 0.38448570029799684\n",
      "MSE: 0.14782925373364106\n",
      "\n",
      "\n",
      "Performance for model XRT_1_AutoML_1_20241206_131525:\n",
      "MAE: 0.196132654334245\n",
      "RMSE: 0.25404620777702225\n",
      "MSE: 0.06453947568588596\n",
      "\n",
      "\n",
      "Performance for model XGBoost_grid_1_AutoML_1_20241206_131525_model_2:\n",
      "MAE: 0.19867410276926598\n",
      "RMSE: 0.25793716167608327\n",
      "MSE: 0.06653157937351391\n",
      "\n",
      "\n",
      "Performance for model DeepLearning_1_AutoML_1_20241206_131525:\n",
      "MAE: 0.34962894980691295\n",
      "RMSE: 0.39557456400889107\n",
      "MSE: 0.15647923569082428\n",
      "\n",
      "\n",
      "Performance for model XGBoost_grid_1_AutoML_1_20241206_131525_model_3:\n",
      "MAE: 0.3413578835336426\n",
      "RMSE: 0.4630732580718095\n",
      "MSE: 0.2144368423412407\n",
      "\n",
      "\n",
      "Performance for model XGBoost_grid_1_AutoML_1_20241206_131525_model_1:\n",
      "MAE: 0.26085516496708516\n",
      "RMSE: 0.32617880033871477\n",
      "MSE: 0.10639260979040314\n",
      "\n",
      "\n",
      "Performance for model XGBoost_2_AutoML_1_20241206_131525:\n",
      "MAE: 0.3357353955997448\n",
      "RMSE: 0.4186178432497644\n",
      "MSE: 0.17524089868708434\n",
      "\n",
      "\n",
      "Performance for model XGBoost_1_AutoML_1_20241206_131525:\n",
      "MAE: 0.32262169630185034\n",
      "RMSE: 0.4069854541880905\n",
      "MSE: 0.1656371599206863\n",
      "\n",
      "\n",
      "Performance for model GLM_1_AutoML_1_20241206_131525:\n",
      "MAE: 0.20875569029863444\n",
      "RMSE: 0.2982150083473139\n",
      "MSE: 0.08893219120358851\n",
      "\n",
      "\n",
      "Performance for model GBM_grid_1_AutoML_1_20241206_131525_model_1:\n",
      "MAE: 0.2406720498084923\n",
      "RMSE: 0.35223432718576614\n",
      "MSE: 0.12406902124800935\n",
      "\n",
      "\n",
      "Performance for model GBM_1_AutoML_1_20241206_131525:\n",
      "MAE: 0.2413861038010613\n",
      "RMSE: 0.34551666886513616\n",
      "MSE: 0.11938176846366014\n",
      "\n",
      "\n",
      "Performance for model DRF_1_AutoML_1_20241206_131525:\n",
      "MAE: 0.2561545827981391\n",
      "RMSE: 0.36412689003809273\n",
      "MSE: 0.13258839204881329\n",
      "\n",
      "\n",
      "Performance for model GBM_3_AutoML_1_20241206_131525:\n",
      "MAE: 0.2686523287629908\n",
      "RMSE: 0.3921692373790856\n",
      "MSE: 0.1537967107464936\n",
      "\n",
      "\n",
      "Performance for model GBM_2_AutoML_1_20241206_131525:\n",
      "MAE: 0.2604679459644021\n",
      "RMSE: 0.3795095114472696\n",
      "MSE: 0.14402746927894525\n",
      "\n",
      "\n",
      "Performance for model GBM_grid_1_AutoML_1_20241206_131525_model_2:\n",
      "MAE: 0.2794882549298513\n",
      "RMSE: 0.4025653714926273\n",
      "MSE: 0.162058878324997\n",
      "\n",
      "\n",
      "Performance for model GBM_5_AutoML_1_20241206_131525:\n",
      "MAE: 0.2849614349885478\n",
      "RMSE: 0.40854373959728074\n",
      "MSE: 0.16690798716413072\n",
      "\n",
      "\n",
      "Performance for model GBM_4_AutoML_1_20241206_131525:\n",
      "MAE: 0.27772207619089745\n",
      "RMSE: 0.4027112318349234\n",
      "MSE: 0.16217633624600142\n",
      "\n",
      "\n"
     ]
    }
   ],
   "source": [
    "for model_id in lb['model_id'].as_data_frame()['model_id']:\n",
    "    model = h2o.get_model(model_id)\n",
    "    performance = model.model_performance(test_data=h2o_test)\n",
    "    print(f\"Performance for model {model_id}:\")\n",
    "    #print(f\"AUC: {performance.auc()}\")\n",
    "    #print(f\"Log Loss: {performance.logloss()}\")\n",
    "    #print(f\"Mean Per Class Error: {performance.mean_per_class_error()}\")\n",
    "    print(\"MAE:\", performance.mae())\n",
    "    print(f\"RMSE: {performance.rmse()}\")\n",
    "    print(f\"MSE: {performance.mse()}\")\n",
    "    print(\"\\n\")"
   ]
  },
  {
   "cell_type": "code",
   "execution_count": null,
   "metadata": {
    "colab": {
     "base_uri": "https://localhost:8080/"
    },
    "id": "sZORWsAtBNDa",
    "outputId": "fac354f8-e59e-4dd5-ca80-a6b702d2b451"
   },
   "outputs": [
    {
     "name": "stderr",
     "output_type": "stream",
     "text": [
      "/usr/local/lib/python3.10/dist-packages/h2o/frame.py:1983: H2ODependencyWarning: Converting H2O frame to pandas dataframe using single-thread.  For faster conversion using multi-thread, install polars and pyarrow and use it as pandas_df = h2o_df.as_data_frame(use_multi_thread=True)\n",
      "\n",
      "  warnings.warn(\"Converting H2O frame to pandas dataframe using single-thread.  For faster conversion using\"\n"
     ]
    }
   ],
   "source": [
    "all_performance = []\n",
    "for model_id in lb['model_id'].as_data_frame()['model_id']:\n",
    "    model = h2o.get_model(model_id)\n",
    "    performance = model.model_performance(test_data=h2o_test)\n",
    "    all_performance.append([model_id, performance.mae(), performance.mse()])\n",
    "\n",
    "all_performance = pd.DataFrame(all_performance, columns=['model_id', 'mae', 'mse'])\n",
    "all_performance.sort_values(by=['model_id', 'mae', 'mse'], ascending=[False,True,True])\n",
    "all_performance.to_excel('/content/drive/MyDrive/datasets/Indian_IPO_Prediction/deberta_predictions/' + tp + y + '_underpricing.xlsx', index = False)\n"
   ]
  },
  {
   "cell_type": "code",
   "execution_count": null,
   "metadata": {
    "colab": {
     "base_uri": "https://localhost:8080/"
    },
    "id": "NBZha5-fQzbS",
    "outputId": "14e0fae0-7bec-420a-ccb6-9c06e6d5a297"
   },
   "outputs": [
    {
     "name": "stderr",
     "output_type": "stream",
     "text": [
      "/usr/local/lib/python3.10/dist-packages/h2o/frame.py:1983: H2ODependencyWarning: Converting H2O frame to pandas dataframe using single-thread.  For faster conversion using multi-thread, install polars and pyarrow and use it as pandas_df = h2o_df.as_data_frame(use_multi_thread=True)\n",
      "\n",
      "  warnings.warn(\"Converting H2O frame to pandas dataframe using single-thread.  For faster conversion using\"\n"
     ]
    },
    {
     "name": "stdout",
     "output_type": "stream",
     "text": [
      "Hyperparameters for model DeepLearning_grid_3_AutoML_1_20241206_131525_model_1:\n",
      "{'model_id': None, 'training_frame': None, 'validation_frame': None, 'nfolds': 0, 'keep_cross_validation_models': True, 'keep_cross_validation_predictions': False, 'keep_cross_validation_fold_assignment': False, 'fold_assignment': 'auto', 'fold_column': None, 'response_column': None, 'ignored_columns': None, 'ignore_const_cols': True, 'score_each_iteration': False, 'weights_column': None, 'offset_column': None, 'balance_classes': False, 'class_sampling_factors': None, 'max_after_balance_size': 5.0, 'max_confusion_matrix_size': 20, 'checkpoint': None, 'pretrained_autoencoder': None, 'overwrite_with_best_model': True, 'use_all_factor_levels': True, 'standardize': True, 'activation': 'rectifier', 'hidden': [200, 200], 'epochs': 10.0, 'train_samples_per_iteration': -2, 'target_ratio_comm_to_comp': 0.05, 'seed': -1, 'adaptive_rate': True, 'rho': 0.99, 'epsilon': 1e-08, 'rate': 0.005, 'rate_annealing': 1e-06, 'rate_decay': 1.0, 'momentum_start': 0.0, 'momentum_ramp': 1000000.0, 'momentum_stable': 0.0, 'nesterov_accelerated_gradient': True, 'input_dropout_ratio': 0.0, 'hidden_dropout_ratios': None, 'l1': 0.0, 'l2': 0.0, 'max_w2': 3.4028235e+38, 'initial_weight_distribution': 'uniform_adaptive', 'initial_weight_scale': 1.0, 'initial_weights': None, 'initial_biases': None, 'loss': 'automatic', 'distribution': 'auto', 'quantile_alpha': 0.5, 'tweedie_power': 1.5, 'huber_alpha': 0.9, 'score_interval': 5.0, 'score_training_samples': 10000, 'score_validation_samples': 0, 'score_duty_cycle': 0.1, 'classification_stop': 0.0, 'regression_stop': 1e-06, 'stopping_rounds': 5, 'stopping_metric': 'auto', 'stopping_tolerance': 0.0, 'max_runtime_secs': 0.0, 'score_validation_sampling': 'uniform', 'diagnostics': True, 'fast_mode': True, 'force_load_balance': True, 'variable_importances': True, 'replicate_training_data': True, 'single_node_mode': False, 'shuffle_training_data': False, 'missing_values_handling': 'mean_imputation', 'quiet_mode': False, 'autoencoder': False, 'sparse': False, 'col_major': False, 'average_activation': 0.0, 'sparsity_beta': 0.0, 'max_categorical_features': 2147483647, 'reproducible': False, 'export_weights_and_biases': False, 'mini_batch_size': 1, 'categorical_encoding': 'auto', 'elastic_averaging': False, 'elastic_averaging_moving_rate': 0.9, 'elastic_averaging_regularization': 0.001, 'export_checkpoints_dir': None, 'auc_type': 'auto', 'custom_metric_func': None, 'gainslift_bins': -1}\n",
      "\n",
      "\n",
      "Hyperparameters for model StackedEnsemble_AllModels_1_AutoML_1_20241206_131525:\n",
      "{'model_id': None, 'training_frame': None, 'response_column': None, 'validation_frame': None, 'blending_frame': None, 'base_models': [], 'metalearner_algorithm': 'auto', 'metalearner_nfolds': 0, 'metalearner_fold_assignment': None, 'metalearner_fold_column': None, 'metalearner_params': None, 'metalearner_transform': 'none', 'max_runtime_secs': 0.0, 'weights_column': None, 'offset_column': None, 'custom_metric_func': None, 'seed': -1, 'score_training_samples': 10000, 'keep_levelone_frame': False, 'export_checkpoints_dir': None, 'auc_type': 'auto', 'gainslift_bins': -1}\n",
      "\n",
      "\n",
      "Hyperparameters for model StackedEnsemble_BestOfFamily_1_AutoML_1_20241206_131525:\n",
      "{'model_id': None, 'training_frame': None, 'response_column': None, 'validation_frame': None, 'blending_frame': None, 'base_models': [], 'metalearner_algorithm': 'auto', 'metalearner_nfolds': 0, 'metalearner_fold_assignment': None, 'metalearner_fold_column': None, 'metalearner_params': None, 'metalearner_transform': 'none', 'max_runtime_secs': 0.0, 'weights_column': None, 'offset_column': None, 'custom_metric_func': None, 'seed': -1, 'score_training_samples': 10000, 'keep_levelone_frame': False, 'export_checkpoints_dir': None, 'auc_type': 'auto', 'gainslift_bins': -1}\n",
      "\n",
      "\n",
      "Hyperparameters for model DeepLearning_grid_2_AutoML_1_20241206_131525_model_1:\n",
      "{'model_id': None, 'training_frame': None, 'validation_frame': None, 'nfolds': 0, 'keep_cross_validation_models': True, 'keep_cross_validation_predictions': False, 'keep_cross_validation_fold_assignment': False, 'fold_assignment': 'auto', 'fold_column': None, 'response_column': None, 'ignored_columns': None, 'ignore_const_cols': True, 'score_each_iteration': False, 'weights_column': None, 'offset_column': None, 'balance_classes': False, 'class_sampling_factors': None, 'max_after_balance_size': 5.0, 'max_confusion_matrix_size': 20, 'checkpoint': None, 'pretrained_autoencoder': None, 'overwrite_with_best_model': True, 'use_all_factor_levels': True, 'standardize': True, 'activation': 'rectifier', 'hidden': [200, 200], 'epochs': 10.0, 'train_samples_per_iteration': -2, 'target_ratio_comm_to_comp': 0.05, 'seed': -1, 'adaptive_rate': True, 'rho': 0.99, 'epsilon': 1e-08, 'rate': 0.005, 'rate_annealing': 1e-06, 'rate_decay': 1.0, 'momentum_start': 0.0, 'momentum_ramp': 1000000.0, 'momentum_stable': 0.0, 'nesterov_accelerated_gradient': True, 'input_dropout_ratio': 0.0, 'hidden_dropout_ratios': None, 'l1': 0.0, 'l2': 0.0, 'max_w2': 3.4028235e+38, 'initial_weight_distribution': 'uniform_adaptive', 'initial_weight_scale': 1.0, 'initial_weights': None, 'initial_biases': None, 'loss': 'automatic', 'distribution': 'auto', 'quantile_alpha': 0.5, 'tweedie_power': 1.5, 'huber_alpha': 0.9, 'score_interval': 5.0, 'score_training_samples': 10000, 'score_validation_samples': 0, 'score_duty_cycle': 0.1, 'classification_stop': 0.0, 'regression_stop': 1e-06, 'stopping_rounds': 5, 'stopping_metric': 'auto', 'stopping_tolerance': 0.0, 'max_runtime_secs': 0.0, 'score_validation_sampling': 'uniform', 'diagnostics': True, 'fast_mode': True, 'force_load_balance': True, 'variable_importances': True, 'replicate_training_data': True, 'single_node_mode': False, 'shuffle_training_data': False, 'missing_values_handling': 'mean_imputation', 'quiet_mode': False, 'autoencoder': False, 'sparse': False, 'col_major': False, 'average_activation': 0.0, 'sparsity_beta': 0.0, 'max_categorical_features': 2147483647, 'reproducible': False, 'export_weights_and_biases': False, 'mini_batch_size': 1, 'categorical_encoding': 'auto', 'elastic_averaging': False, 'elastic_averaging_moving_rate': 0.9, 'elastic_averaging_regularization': 0.001, 'export_checkpoints_dir': None, 'auc_type': 'auto', 'custom_metric_func': None, 'gainslift_bins': -1}\n",
      "\n",
      "\n",
      "Hyperparameters for model DeepLearning_grid_1_AutoML_1_20241206_131525_model_1:\n",
      "{'model_id': None, 'training_frame': None, 'validation_frame': None, 'nfolds': 0, 'keep_cross_validation_models': True, 'keep_cross_validation_predictions': False, 'keep_cross_validation_fold_assignment': False, 'fold_assignment': 'auto', 'fold_column': None, 'response_column': None, 'ignored_columns': None, 'ignore_const_cols': True, 'score_each_iteration': False, 'weights_column': None, 'offset_column': None, 'balance_classes': False, 'class_sampling_factors': None, 'max_after_balance_size': 5.0, 'max_confusion_matrix_size': 20, 'checkpoint': None, 'pretrained_autoencoder': None, 'overwrite_with_best_model': True, 'use_all_factor_levels': True, 'standardize': True, 'activation': 'rectifier', 'hidden': [200, 200], 'epochs': 10.0, 'train_samples_per_iteration': -2, 'target_ratio_comm_to_comp': 0.05, 'seed': -1, 'adaptive_rate': True, 'rho': 0.99, 'epsilon': 1e-08, 'rate': 0.005, 'rate_annealing': 1e-06, 'rate_decay': 1.0, 'momentum_start': 0.0, 'momentum_ramp': 1000000.0, 'momentum_stable': 0.0, 'nesterov_accelerated_gradient': True, 'input_dropout_ratio': 0.0, 'hidden_dropout_ratios': None, 'l1': 0.0, 'l2': 0.0, 'max_w2': 3.4028235e+38, 'initial_weight_distribution': 'uniform_adaptive', 'initial_weight_scale': 1.0, 'initial_weights': None, 'initial_biases': None, 'loss': 'automatic', 'distribution': 'auto', 'quantile_alpha': 0.5, 'tweedie_power': 1.5, 'huber_alpha': 0.9, 'score_interval': 5.0, 'score_training_samples': 10000, 'score_validation_samples': 0, 'score_duty_cycle': 0.1, 'classification_stop': 0.0, 'regression_stop': 1e-06, 'stopping_rounds': 5, 'stopping_metric': 'auto', 'stopping_tolerance': 0.0, 'max_runtime_secs': 0.0, 'score_validation_sampling': 'uniform', 'diagnostics': True, 'fast_mode': True, 'force_load_balance': True, 'variable_importances': True, 'replicate_training_data': True, 'single_node_mode': False, 'shuffle_training_data': False, 'missing_values_handling': 'mean_imputation', 'quiet_mode': False, 'autoencoder': False, 'sparse': False, 'col_major': False, 'average_activation': 0.0, 'sparsity_beta': 0.0, 'max_categorical_features': 2147483647, 'reproducible': False, 'export_weights_and_biases': False, 'mini_batch_size': 1, 'categorical_encoding': 'auto', 'elastic_averaging': False, 'elastic_averaging_moving_rate': 0.9, 'elastic_averaging_regularization': 0.001, 'export_checkpoints_dir': None, 'auc_type': 'auto', 'custom_metric_func': None, 'gainslift_bins': -1}\n",
      "\n",
      "\n",
      "Hyperparameters for model XGBoost_3_AutoML_1_20241206_131525:\n",
      "{'model_id': None, 'training_frame': None, 'validation_frame': None, 'nfolds': 0, 'keep_cross_validation_models': True, 'keep_cross_validation_predictions': False, 'keep_cross_validation_fold_assignment': False, 'score_each_iteration': False, 'fold_assignment': 'auto', 'fold_column': None, 'response_column': None, 'ignored_columns': None, 'ignore_const_cols': True, 'offset_column': None, 'weights_column': None, 'stopping_rounds': 0, 'stopping_metric': 'auto', 'stopping_tolerance': 0.001, 'max_runtime_secs': 0.0, 'seed': -1, 'distribution': 'auto', 'tweedie_power': 1.5, 'categorical_encoding': 'auto', 'quiet_mode': True, 'checkpoint': None, 'export_checkpoints_dir': None, 'custom_metric_func': None, 'ntrees': 50, 'max_depth': 6, 'min_rows': 1.0, 'min_child_weight': 1.0, 'learn_rate': 0.3, 'eta': 0.3, 'sample_rate': 1.0, 'subsample': 1.0, 'col_sample_rate': 1.0, 'colsample_bylevel': 1.0, 'col_sample_rate_per_tree': 1.0, 'colsample_bytree': 1.0, 'colsample_bynode': 1.0, 'max_abs_leafnode_pred': 0.0, 'max_delta_step': 0.0, 'monotone_constraints': None, 'interaction_constraints': None, 'score_tree_interval': 0, 'min_split_improvement': 0.0, 'gamma': 0.0, 'nthread': -1, 'save_matrix_directory': None, 'build_tree_one_node': False, 'parallelize_cross_validation': True, 'calibrate_model': False, 'calibration_frame': None, 'calibration_method': 'auto', 'max_bins': 256, 'max_leaves': 0, 'sample_type': 'uniform', 'normalize_type': 'tree', 'rate_drop': 0.0, 'one_drop': False, 'skip_drop': 0.0, 'tree_method': 'auto', 'grow_policy': 'depthwise', 'booster': 'gbtree', 'reg_lambda': 1.0, 'reg_alpha': 0.0, 'dmatrix_type': 'auto', 'backend': 'auto', 'gpu_id': None, 'gainslift_bins': -1, 'auc_type': 'auto', 'scale_pos_weight': 1.0, 'eval_metric': None, 'score_eval_metric_only': False}\n",
      "\n",
      "\n",
      "Hyperparameters for model XRT_1_AutoML_1_20241206_131525:\n",
      "{'model_id': None, 'training_frame': None, 'validation_frame': None, 'nfolds': 0, 'keep_cross_validation_models': True, 'keep_cross_validation_predictions': False, 'keep_cross_validation_fold_assignment': False, 'score_each_iteration': False, 'score_tree_interval': 0, 'fold_assignment': 'auto', 'fold_column': None, 'response_column': None, 'ignored_columns': None, 'ignore_const_cols': True, 'weights_column': None, 'balance_classes': False, 'class_sampling_factors': None, 'max_after_balance_size': 5.0, 'max_confusion_matrix_size': 20, 'ntrees': 50, 'max_depth': 20, 'min_rows': 1.0, 'nbins': 20, 'nbins_top_level': 1024, 'nbins_cats': 1024, 'r2_stopping': None, 'stopping_rounds': 0, 'stopping_metric': 'auto', 'stopping_tolerance': 0.001, 'max_runtime_secs': 0.0, 'seed': -1, 'build_tree_one_node': False, 'mtries': -1, 'sample_rate': 0.632, 'sample_rate_per_class': None, 'binomial_double_trees': False, 'checkpoint': None, 'col_sample_rate_change_per_level': 1.0, 'col_sample_rate_per_tree': 1.0, 'min_split_improvement': 1e-05, 'histogram_type': 'auto', 'categorical_encoding': 'auto', 'calibrate_model': False, 'calibration_frame': None, 'calibration_method': 'auto', 'distribution': 'auto', 'custom_metric_func': None, 'export_checkpoints_dir': None, 'check_constant_response': True, 'gainslift_bins': -1, 'auc_type': 'auto'}\n",
      "\n",
      "\n",
      "Hyperparameters for model XGBoost_grid_1_AutoML_1_20241206_131525_model_2:\n",
      "{'model_id': None, 'training_frame': None, 'validation_frame': None, 'nfolds': 0, 'keep_cross_validation_models': True, 'keep_cross_validation_predictions': False, 'keep_cross_validation_fold_assignment': False, 'score_each_iteration': False, 'fold_assignment': 'auto', 'fold_column': None, 'response_column': None, 'ignored_columns': None, 'ignore_const_cols': True, 'offset_column': None, 'weights_column': None, 'stopping_rounds': 0, 'stopping_metric': 'auto', 'stopping_tolerance': 0.001, 'max_runtime_secs': 0.0, 'seed': -1, 'distribution': 'auto', 'tweedie_power': 1.5, 'categorical_encoding': 'auto', 'quiet_mode': True, 'checkpoint': None, 'export_checkpoints_dir': None, 'custom_metric_func': None, 'ntrees': 50, 'max_depth': 6, 'min_rows': 1.0, 'min_child_weight': 1.0, 'learn_rate': 0.3, 'eta': 0.3, 'sample_rate': 1.0, 'subsample': 1.0, 'col_sample_rate': 1.0, 'colsample_bylevel': 1.0, 'col_sample_rate_per_tree': 1.0, 'colsample_bytree': 1.0, 'colsample_bynode': 1.0, 'max_abs_leafnode_pred': 0.0, 'max_delta_step': 0.0, 'monotone_constraints': None, 'interaction_constraints': None, 'score_tree_interval': 0, 'min_split_improvement': 0.0, 'gamma': 0.0, 'nthread': -1, 'save_matrix_directory': None, 'build_tree_one_node': False, 'parallelize_cross_validation': True, 'calibrate_model': False, 'calibration_frame': None, 'calibration_method': 'auto', 'max_bins': 256, 'max_leaves': 0, 'sample_type': 'uniform', 'normalize_type': 'tree', 'rate_drop': 0.0, 'one_drop': False, 'skip_drop': 0.0, 'tree_method': 'auto', 'grow_policy': 'depthwise', 'booster': 'gbtree', 'reg_lambda': 1.0, 'reg_alpha': 0.0, 'dmatrix_type': 'auto', 'backend': 'auto', 'gpu_id': None, 'gainslift_bins': -1, 'auc_type': 'auto', 'scale_pos_weight': 1.0, 'eval_metric': None, 'score_eval_metric_only': False}\n",
      "\n",
      "\n",
      "Hyperparameters for model DeepLearning_1_AutoML_1_20241206_131525:\n",
      "{'model_id': None, 'training_frame': None, 'validation_frame': None, 'nfolds': 0, 'keep_cross_validation_models': True, 'keep_cross_validation_predictions': False, 'keep_cross_validation_fold_assignment': False, 'fold_assignment': 'auto', 'fold_column': None, 'response_column': None, 'ignored_columns': None, 'ignore_const_cols': True, 'score_each_iteration': False, 'weights_column': None, 'offset_column': None, 'balance_classes': False, 'class_sampling_factors': None, 'max_after_balance_size': 5.0, 'max_confusion_matrix_size': 20, 'checkpoint': None, 'pretrained_autoencoder': None, 'overwrite_with_best_model': True, 'use_all_factor_levels': True, 'standardize': True, 'activation': 'rectifier', 'hidden': [200, 200], 'epochs': 10.0, 'train_samples_per_iteration': -2, 'target_ratio_comm_to_comp': 0.05, 'seed': -1, 'adaptive_rate': True, 'rho': 0.99, 'epsilon': 1e-08, 'rate': 0.005, 'rate_annealing': 1e-06, 'rate_decay': 1.0, 'momentum_start': 0.0, 'momentum_ramp': 1000000.0, 'momentum_stable': 0.0, 'nesterov_accelerated_gradient': True, 'input_dropout_ratio': 0.0, 'hidden_dropout_ratios': None, 'l1': 0.0, 'l2': 0.0, 'max_w2': 3.4028235e+38, 'initial_weight_distribution': 'uniform_adaptive', 'initial_weight_scale': 1.0, 'initial_weights': None, 'initial_biases': None, 'loss': 'automatic', 'distribution': 'auto', 'quantile_alpha': 0.5, 'tweedie_power': 1.5, 'huber_alpha': 0.9, 'score_interval': 5.0, 'score_training_samples': 10000, 'score_validation_samples': 0, 'score_duty_cycle': 0.1, 'classification_stop': 0.0, 'regression_stop': 1e-06, 'stopping_rounds': 5, 'stopping_metric': 'auto', 'stopping_tolerance': 0.0, 'max_runtime_secs': 0.0, 'score_validation_sampling': 'uniform', 'diagnostics': True, 'fast_mode': True, 'force_load_balance': True, 'variable_importances': True, 'replicate_training_data': True, 'single_node_mode': False, 'shuffle_training_data': False, 'missing_values_handling': 'mean_imputation', 'quiet_mode': False, 'autoencoder': False, 'sparse': False, 'col_major': False, 'average_activation': 0.0, 'sparsity_beta': 0.0, 'max_categorical_features': 2147483647, 'reproducible': False, 'export_weights_and_biases': False, 'mini_batch_size': 1, 'categorical_encoding': 'auto', 'elastic_averaging': False, 'elastic_averaging_moving_rate': 0.9, 'elastic_averaging_regularization': 0.001, 'export_checkpoints_dir': None, 'auc_type': 'auto', 'custom_metric_func': None, 'gainslift_bins': -1}\n",
      "\n",
      "\n",
      "Hyperparameters for model XGBoost_grid_1_AutoML_1_20241206_131525_model_3:\n",
      "{'model_id': None, 'training_frame': None, 'validation_frame': None, 'nfolds': 0, 'keep_cross_validation_models': True, 'keep_cross_validation_predictions': False, 'keep_cross_validation_fold_assignment': False, 'score_each_iteration': False, 'fold_assignment': 'auto', 'fold_column': None, 'response_column': None, 'ignored_columns': None, 'ignore_const_cols': True, 'offset_column': None, 'weights_column': None, 'stopping_rounds': 0, 'stopping_metric': 'auto', 'stopping_tolerance': 0.001, 'max_runtime_secs': 0.0, 'seed': -1, 'distribution': 'auto', 'tweedie_power': 1.5, 'categorical_encoding': 'auto', 'quiet_mode': True, 'checkpoint': None, 'export_checkpoints_dir': None, 'custom_metric_func': None, 'ntrees': 50, 'max_depth': 6, 'min_rows': 1.0, 'min_child_weight': 1.0, 'learn_rate': 0.3, 'eta': 0.3, 'sample_rate': 1.0, 'subsample': 1.0, 'col_sample_rate': 1.0, 'colsample_bylevel': 1.0, 'col_sample_rate_per_tree': 1.0, 'colsample_bytree': 1.0, 'colsample_bynode': 1.0, 'max_abs_leafnode_pred': 0.0, 'max_delta_step': 0.0, 'monotone_constraints': None, 'interaction_constraints': None, 'score_tree_interval': 0, 'min_split_improvement': 0.0, 'gamma': 0.0, 'nthread': -1, 'save_matrix_directory': None, 'build_tree_one_node': False, 'parallelize_cross_validation': True, 'calibrate_model': False, 'calibration_frame': None, 'calibration_method': 'auto', 'max_bins': 256, 'max_leaves': 0, 'sample_type': 'uniform', 'normalize_type': 'tree', 'rate_drop': 0.0, 'one_drop': False, 'skip_drop': 0.0, 'tree_method': 'auto', 'grow_policy': 'depthwise', 'booster': 'gbtree', 'reg_lambda': 1.0, 'reg_alpha': 0.0, 'dmatrix_type': 'auto', 'backend': 'auto', 'gpu_id': None, 'gainslift_bins': -1, 'auc_type': 'auto', 'scale_pos_weight': 1.0, 'eval_metric': None, 'score_eval_metric_only': False}\n",
      "\n",
      "\n",
      "Hyperparameters for model XGBoost_grid_1_AutoML_1_20241206_131525_model_1:\n",
      "{'model_id': None, 'training_frame': None, 'validation_frame': None, 'nfolds': 0, 'keep_cross_validation_models': True, 'keep_cross_validation_predictions': False, 'keep_cross_validation_fold_assignment': False, 'score_each_iteration': False, 'fold_assignment': 'auto', 'fold_column': None, 'response_column': None, 'ignored_columns': None, 'ignore_const_cols': True, 'offset_column': None, 'weights_column': None, 'stopping_rounds': 0, 'stopping_metric': 'auto', 'stopping_tolerance': 0.001, 'max_runtime_secs': 0.0, 'seed': -1, 'distribution': 'auto', 'tweedie_power': 1.5, 'categorical_encoding': 'auto', 'quiet_mode': True, 'checkpoint': None, 'export_checkpoints_dir': None, 'custom_metric_func': None, 'ntrees': 50, 'max_depth': 6, 'min_rows': 1.0, 'min_child_weight': 1.0, 'learn_rate': 0.3, 'eta': 0.3, 'sample_rate': 1.0, 'subsample': 1.0, 'col_sample_rate': 1.0, 'colsample_bylevel': 1.0, 'col_sample_rate_per_tree': 1.0, 'colsample_bytree': 1.0, 'colsample_bynode': 1.0, 'max_abs_leafnode_pred': 0.0, 'max_delta_step': 0.0, 'monotone_constraints': None, 'interaction_constraints': None, 'score_tree_interval': 0, 'min_split_improvement': 0.0, 'gamma': 0.0, 'nthread': -1, 'save_matrix_directory': None, 'build_tree_one_node': False, 'parallelize_cross_validation': True, 'calibrate_model': False, 'calibration_frame': None, 'calibration_method': 'auto', 'max_bins': 256, 'max_leaves': 0, 'sample_type': 'uniform', 'normalize_type': 'tree', 'rate_drop': 0.0, 'one_drop': False, 'skip_drop': 0.0, 'tree_method': 'auto', 'grow_policy': 'depthwise', 'booster': 'gbtree', 'reg_lambda': 1.0, 'reg_alpha': 0.0, 'dmatrix_type': 'auto', 'backend': 'auto', 'gpu_id': None, 'gainslift_bins': -1, 'auc_type': 'auto', 'scale_pos_weight': 1.0, 'eval_metric': None, 'score_eval_metric_only': False}\n",
      "\n",
      "\n",
      "Hyperparameters for model XGBoost_2_AutoML_1_20241206_131525:\n",
      "{'model_id': None, 'training_frame': None, 'validation_frame': None, 'nfolds': 0, 'keep_cross_validation_models': True, 'keep_cross_validation_predictions': False, 'keep_cross_validation_fold_assignment': False, 'score_each_iteration': False, 'fold_assignment': 'auto', 'fold_column': None, 'response_column': None, 'ignored_columns': None, 'ignore_const_cols': True, 'offset_column': None, 'weights_column': None, 'stopping_rounds': 0, 'stopping_metric': 'auto', 'stopping_tolerance': 0.001, 'max_runtime_secs': 0.0, 'seed': -1, 'distribution': 'auto', 'tweedie_power': 1.5, 'categorical_encoding': 'auto', 'quiet_mode': True, 'checkpoint': None, 'export_checkpoints_dir': None, 'custom_metric_func': None, 'ntrees': 50, 'max_depth': 6, 'min_rows': 1.0, 'min_child_weight': 1.0, 'learn_rate': 0.3, 'eta': 0.3, 'sample_rate': 1.0, 'subsample': 1.0, 'col_sample_rate': 1.0, 'colsample_bylevel': 1.0, 'col_sample_rate_per_tree': 1.0, 'colsample_bytree': 1.0, 'colsample_bynode': 1.0, 'max_abs_leafnode_pred': 0.0, 'max_delta_step': 0.0, 'monotone_constraints': None, 'interaction_constraints': None, 'score_tree_interval': 0, 'min_split_improvement': 0.0, 'gamma': 0.0, 'nthread': -1, 'save_matrix_directory': None, 'build_tree_one_node': False, 'parallelize_cross_validation': True, 'calibrate_model': False, 'calibration_frame': None, 'calibration_method': 'auto', 'max_bins': 256, 'max_leaves': 0, 'sample_type': 'uniform', 'normalize_type': 'tree', 'rate_drop': 0.0, 'one_drop': False, 'skip_drop': 0.0, 'tree_method': 'auto', 'grow_policy': 'depthwise', 'booster': 'gbtree', 'reg_lambda': 1.0, 'reg_alpha': 0.0, 'dmatrix_type': 'auto', 'backend': 'auto', 'gpu_id': None, 'gainslift_bins': -1, 'auc_type': 'auto', 'scale_pos_weight': 1.0, 'eval_metric': None, 'score_eval_metric_only': False}\n",
      "\n",
      "\n",
      "Hyperparameters for model XGBoost_1_AutoML_1_20241206_131525:\n",
      "{'model_id': None, 'training_frame': None, 'validation_frame': None, 'nfolds': 0, 'keep_cross_validation_models': True, 'keep_cross_validation_predictions': False, 'keep_cross_validation_fold_assignment': False, 'score_each_iteration': False, 'fold_assignment': 'auto', 'fold_column': None, 'response_column': None, 'ignored_columns': None, 'ignore_const_cols': True, 'offset_column': None, 'weights_column': None, 'stopping_rounds': 0, 'stopping_metric': 'auto', 'stopping_tolerance': 0.001, 'max_runtime_secs': 0.0, 'seed': -1, 'distribution': 'auto', 'tweedie_power': 1.5, 'categorical_encoding': 'auto', 'quiet_mode': True, 'checkpoint': None, 'export_checkpoints_dir': None, 'custom_metric_func': None, 'ntrees': 50, 'max_depth': 6, 'min_rows': 1.0, 'min_child_weight': 1.0, 'learn_rate': 0.3, 'eta': 0.3, 'sample_rate': 1.0, 'subsample': 1.0, 'col_sample_rate': 1.0, 'colsample_bylevel': 1.0, 'col_sample_rate_per_tree': 1.0, 'colsample_bytree': 1.0, 'colsample_bynode': 1.0, 'max_abs_leafnode_pred': 0.0, 'max_delta_step': 0.0, 'monotone_constraints': None, 'interaction_constraints': None, 'score_tree_interval': 0, 'min_split_improvement': 0.0, 'gamma': 0.0, 'nthread': -1, 'save_matrix_directory': None, 'build_tree_one_node': False, 'parallelize_cross_validation': True, 'calibrate_model': False, 'calibration_frame': None, 'calibration_method': 'auto', 'max_bins': 256, 'max_leaves': 0, 'sample_type': 'uniform', 'normalize_type': 'tree', 'rate_drop': 0.0, 'one_drop': False, 'skip_drop': 0.0, 'tree_method': 'auto', 'grow_policy': 'depthwise', 'booster': 'gbtree', 'reg_lambda': 1.0, 'reg_alpha': 0.0, 'dmatrix_type': 'auto', 'backend': 'auto', 'gpu_id': None, 'gainslift_bins': -1, 'auc_type': 'auto', 'scale_pos_weight': 1.0, 'eval_metric': None, 'score_eval_metric_only': False}\n",
      "\n",
      "\n",
      "Hyperparameters for model GLM_1_AutoML_1_20241206_131525:\n",
      "{'model_id': None, 'training_frame': None, 'validation_frame': None, 'nfolds': 0, 'checkpoint': None, 'export_checkpoints_dir': None, 'seed': -1, 'keep_cross_validation_models': True, 'keep_cross_validation_predictions': False, 'keep_cross_validation_fold_assignment': False, 'fold_assignment': 'auto', 'fold_column': None, 'response_column': None, 'ignored_columns': None, 'ignore_const_cols': True, 'score_each_iteration': False, 'score_iteration_interval': -1, 'offset_column': None, 'weights_column': None, 'family': 'auto', 'tweedie_variance_power': 0.0, 'tweedie_link_power': 1.0, 'theta': 1e-10, 'solver': 'auto', 'alpha': None, 'lambda': None, 'lambda_search': False, 'early_stopping': True, 'nlambdas': -1, 'standardize': True, 'missing_values_handling': 'mean_imputation', 'plug_values': None, 'compute_p_values': False, 'dispersion_parameter_method': 'pearson', 'init_dispersion_parameter': 1.0, 'remove_collinear_columns': False, 'intercept': True, 'non_negative': False, 'max_iterations': -1, 'objective_epsilon': -1.0, 'beta_epsilon': 0.0001, 'gradient_epsilon': -1.0, 'link': 'family_default', 'startval': None, 'calc_like': False, 'prior': -1.0, 'cold_start': False, 'lambda_min_ratio': -1.0, 'max_active_predictors': -1, 'interactions': None, 'interaction_pairs': None, 'obj_reg': -1.0, 'stopping_rounds': 0, 'stopping_metric': 'auto', 'stopping_tolerance': 0.001, 'balance_classes': False, 'class_sampling_factors': None, 'max_after_balance_size': 5.0, 'max_confusion_matrix_size': 20, 'max_runtime_secs': 0.0, 'custom_metric_func': None, 'generate_scoring_history': False, 'auc_type': 'auto', 'dispersion_epsilon': 0.0001, 'tweedie_epsilon': 8e-17, 'max_iterations_dispersion': 3000, 'build_null_model': False, 'fix_dispersion_parameter': False, 'generate_variable_inflation_factors': False, 'fix_tweedie_variance_power': True, 'dispersion_learning_rate': 0.5, 'influence': None, 'gainslift_bins': -1, 'linear_constraints': None, 'init_optimal_glm': False, 'separate_linear_beta': False, 'constraint_eta0': 0.1258925, 'constraint_tau': 10.0, 'constraint_alpha': 0.1, 'constraint_beta': 0.9, 'constraint_c0': 10.0}\n",
      "\n",
      "\n",
      "Hyperparameters for model GBM_grid_1_AutoML_1_20241206_131525_model_1:\n",
      "{'model_id': None, 'training_frame': None, 'validation_frame': None, 'nfolds': 0, 'keep_cross_validation_models': True, 'keep_cross_validation_predictions': False, 'keep_cross_validation_fold_assignment': False, 'score_each_iteration': False, 'score_tree_interval': 0, 'fold_assignment': 'auto', 'fold_column': None, 'response_column': None, 'ignored_columns': None, 'ignore_const_cols': True, 'offset_column': None, 'weights_column': None, 'balance_classes': False, 'class_sampling_factors': None, 'max_after_balance_size': 5.0, 'max_confusion_matrix_size': 20, 'ntrees': 50, 'max_depth': 5, 'min_rows': 10.0, 'nbins': 20, 'nbins_top_level': 1024, 'nbins_cats': 1024, 'r2_stopping': None, 'stopping_rounds': 0, 'stopping_metric': 'auto', 'stopping_tolerance': 0.001, 'max_runtime_secs': 0.0, 'seed': -1, 'build_tree_one_node': False, 'learn_rate': 0.1, 'learn_rate_annealing': 1.0, 'distribution': 'auto', 'quantile_alpha': 0.5, 'tweedie_power': 1.5, 'huber_alpha': 0.9, 'checkpoint': None, 'sample_rate': 1.0, 'sample_rate_per_class': None, 'col_sample_rate': 1.0, 'col_sample_rate_change_per_level': 1.0, 'col_sample_rate_per_tree': 1.0, 'min_split_improvement': 1e-05, 'histogram_type': 'auto', 'max_abs_leafnode_pred': None, 'pred_noise_bandwidth': 0.0, 'categorical_encoding': 'auto', 'calibrate_model': False, 'calibration_frame': None, 'calibration_method': 'auto', 'custom_metric_func': None, 'custom_distribution_func': None, 'export_checkpoints_dir': None, 'in_training_checkpoints_dir': None, 'in_training_checkpoints_tree_interval': 1, 'monotone_constraints': None, 'check_constant_response': True, 'gainslift_bins': -1, 'auc_type': 'auto', 'interaction_constraints': None, 'auto_rebalance': True}\n",
      "\n",
      "\n",
      "Hyperparameters for model GBM_1_AutoML_1_20241206_131525:\n",
      "{'model_id': None, 'training_frame': None, 'validation_frame': None, 'nfolds': 0, 'keep_cross_validation_models': True, 'keep_cross_validation_predictions': False, 'keep_cross_validation_fold_assignment': False, 'score_each_iteration': False, 'score_tree_interval': 0, 'fold_assignment': 'auto', 'fold_column': None, 'response_column': None, 'ignored_columns': None, 'ignore_const_cols': True, 'offset_column': None, 'weights_column': None, 'balance_classes': False, 'class_sampling_factors': None, 'max_after_balance_size': 5.0, 'max_confusion_matrix_size': 20, 'ntrees': 50, 'max_depth': 5, 'min_rows': 10.0, 'nbins': 20, 'nbins_top_level': 1024, 'nbins_cats': 1024, 'r2_stopping': None, 'stopping_rounds': 0, 'stopping_metric': 'auto', 'stopping_tolerance': 0.001, 'max_runtime_secs': 0.0, 'seed': -1, 'build_tree_one_node': False, 'learn_rate': 0.1, 'learn_rate_annealing': 1.0, 'distribution': 'auto', 'quantile_alpha': 0.5, 'tweedie_power': 1.5, 'huber_alpha': 0.9, 'checkpoint': None, 'sample_rate': 1.0, 'sample_rate_per_class': None, 'col_sample_rate': 1.0, 'col_sample_rate_change_per_level': 1.0, 'col_sample_rate_per_tree': 1.0, 'min_split_improvement': 1e-05, 'histogram_type': 'auto', 'max_abs_leafnode_pred': None, 'pred_noise_bandwidth': 0.0, 'categorical_encoding': 'auto', 'calibrate_model': False, 'calibration_frame': None, 'calibration_method': 'auto', 'custom_metric_func': None, 'custom_distribution_func': None, 'export_checkpoints_dir': None, 'in_training_checkpoints_dir': None, 'in_training_checkpoints_tree_interval': 1, 'monotone_constraints': None, 'check_constant_response': True, 'gainslift_bins': -1, 'auc_type': 'auto', 'interaction_constraints': None, 'auto_rebalance': True}\n",
      "\n",
      "\n",
      "Hyperparameters for model DRF_1_AutoML_1_20241206_131525:\n",
      "{'model_id': None, 'training_frame': None, 'validation_frame': None, 'nfolds': 0, 'keep_cross_validation_models': True, 'keep_cross_validation_predictions': False, 'keep_cross_validation_fold_assignment': False, 'score_each_iteration': False, 'score_tree_interval': 0, 'fold_assignment': 'auto', 'fold_column': None, 'response_column': None, 'ignored_columns': None, 'ignore_const_cols': True, 'weights_column': None, 'balance_classes': False, 'class_sampling_factors': None, 'max_after_balance_size': 5.0, 'max_confusion_matrix_size': 20, 'ntrees': 50, 'max_depth': 20, 'min_rows': 1.0, 'nbins': 20, 'nbins_top_level': 1024, 'nbins_cats': 1024, 'r2_stopping': None, 'stopping_rounds': 0, 'stopping_metric': 'auto', 'stopping_tolerance': 0.001, 'max_runtime_secs': 0.0, 'seed': -1, 'build_tree_one_node': False, 'mtries': -1, 'sample_rate': 0.632, 'sample_rate_per_class': None, 'binomial_double_trees': False, 'checkpoint': None, 'col_sample_rate_change_per_level': 1.0, 'col_sample_rate_per_tree': 1.0, 'min_split_improvement': 1e-05, 'histogram_type': 'auto', 'categorical_encoding': 'auto', 'calibrate_model': False, 'calibration_frame': None, 'calibration_method': 'auto', 'distribution': 'auto', 'custom_metric_func': None, 'export_checkpoints_dir': None, 'check_constant_response': True, 'gainslift_bins': -1, 'auc_type': 'auto'}\n",
      "\n",
      "\n",
      "Hyperparameters for model GBM_3_AutoML_1_20241206_131525:\n",
      "{'model_id': None, 'training_frame': None, 'validation_frame': None, 'nfolds': 0, 'keep_cross_validation_models': True, 'keep_cross_validation_predictions': False, 'keep_cross_validation_fold_assignment': False, 'score_each_iteration': False, 'score_tree_interval': 0, 'fold_assignment': 'auto', 'fold_column': None, 'response_column': None, 'ignored_columns': None, 'ignore_const_cols': True, 'offset_column': None, 'weights_column': None, 'balance_classes': False, 'class_sampling_factors': None, 'max_after_balance_size': 5.0, 'max_confusion_matrix_size': 20, 'ntrees': 50, 'max_depth': 5, 'min_rows': 10.0, 'nbins': 20, 'nbins_top_level': 1024, 'nbins_cats': 1024, 'r2_stopping': None, 'stopping_rounds': 0, 'stopping_metric': 'auto', 'stopping_tolerance': 0.001, 'max_runtime_secs': 0.0, 'seed': -1, 'build_tree_one_node': False, 'learn_rate': 0.1, 'learn_rate_annealing': 1.0, 'distribution': 'auto', 'quantile_alpha': 0.5, 'tweedie_power': 1.5, 'huber_alpha': 0.9, 'checkpoint': None, 'sample_rate': 1.0, 'sample_rate_per_class': None, 'col_sample_rate': 1.0, 'col_sample_rate_change_per_level': 1.0, 'col_sample_rate_per_tree': 1.0, 'min_split_improvement': 1e-05, 'histogram_type': 'auto', 'max_abs_leafnode_pred': None, 'pred_noise_bandwidth': 0.0, 'categorical_encoding': 'auto', 'calibrate_model': False, 'calibration_frame': None, 'calibration_method': 'auto', 'custom_metric_func': None, 'custom_distribution_func': None, 'export_checkpoints_dir': None, 'in_training_checkpoints_dir': None, 'in_training_checkpoints_tree_interval': 1, 'monotone_constraints': None, 'check_constant_response': True, 'gainslift_bins': -1, 'auc_type': 'auto', 'interaction_constraints': None, 'auto_rebalance': True}\n",
      "\n",
      "\n",
      "Hyperparameters for model GBM_2_AutoML_1_20241206_131525:\n",
      "{'model_id': None, 'training_frame': None, 'validation_frame': None, 'nfolds': 0, 'keep_cross_validation_models': True, 'keep_cross_validation_predictions': False, 'keep_cross_validation_fold_assignment': False, 'score_each_iteration': False, 'score_tree_interval': 0, 'fold_assignment': 'auto', 'fold_column': None, 'response_column': None, 'ignored_columns': None, 'ignore_const_cols': True, 'offset_column': None, 'weights_column': None, 'balance_classes': False, 'class_sampling_factors': None, 'max_after_balance_size': 5.0, 'max_confusion_matrix_size': 20, 'ntrees': 50, 'max_depth': 5, 'min_rows': 10.0, 'nbins': 20, 'nbins_top_level': 1024, 'nbins_cats': 1024, 'r2_stopping': None, 'stopping_rounds': 0, 'stopping_metric': 'auto', 'stopping_tolerance': 0.001, 'max_runtime_secs': 0.0, 'seed': -1, 'build_tree_one_node': False, 'learn_rate': 0.1, 'learn_rate_annealing': 1.0, 'distribution': 'auto', 'quantile_alpha': 0.5, 'tweedie_power': 1.5, 'huber_alpha': 0.9, 'checkpoint': None, 'sample_rate': 1.0, 'sample_rate_per_class': None, 'col_sample_rate': 1.0, 'col_sample_rate_change_per_level': 1.0, 'col_sample_rate_per_tree': 1.0, 'min_split_improvement': 1e-05, 'histogram_type': 'auto', 'max_abs_leafnode_pred': None, 'pred_noise_bandwidth': 0.0, 'categorical_encoding': 'auto', 'calibrate_model': False, 'calibration_frame': None, 'calibration_method': 'auto', 'custom_metric_func': None, 'custom_distribution_func': None, 'export_checkpoints_dir': None, 'in_training_checkpoints_dir': None, 'in_training_checkpoints_tree_interval': 1, 'monotone_constraints': None, 'check_constant_response': True, 'gainslift_bins': -1, 'auc_type': 'auto', 'interaction_constraints': None, 'auto_rebalance': True}\n",
      "\n",
      "\n",
      "Hyperparameters for model GBM_grid_1_AutoML_1_20241206_131525_model_2:\n",
      "{'model_id': None, 'training_frame': None, 'validation_frame': None, 'nfolds': 0, 'keep_cross_validation_models': True, 'keep_cross_validation_predictions': False, 'keep_cross_validation_fold_assignment': False, 'score_each_iteration': False, 'score_tree_interval': 0, 'fold_assignment': 'auto', 'fold_column': None, 'response_column': None, 'ignored_columns': None, 'ignore_const_cols': True, 'offset_column': None, 'weights_column': None, 'balance_classes': False, 'class_sampling_factors': None, 'max_after_balance_size': 5.0, 'max_confusion_matrix_size': 20, 'ntrees': 50, 'max_depth': 5, 'min_rows': 10.0, 'nbins': 20, 'nbins_top_level': 1024, 'nbins_cats': 1024, 'r2_stopping': None, 'stopping_rounds': 0, 'stopping_metric': 'auto', 'stopping_tolerance': 0.001, 'max_runtime_secs': 0.0, 'seed': -1, 'build_tree_one_node': False, 'learn_rate': 0.1, 'learn_rate_annealing': 1.0, 'distribution': 'auto', 'quantile_alpha': 0.5, 'tweedie_power': 1.5, 'huber_alpha': 0.9, 'checkpoint': None, 'sample_rate': 1.0, 'sample_rate_per_class': None, 'col_sample_rate': 1.0, 'col_sample_rate_change_per_level': 1.0, 'col_sample_rate_per_tree': 1.0, 'min_split_improvement': 1e-05, 'histogram_type': 'auto', 'max_abs_leafnode_pred': None, 'pred_noise_bandwidth': 0.0, 'categorical_encoding': 'auto', 'calibrate_model': False, 'calibration_frame': None, 'calibration_method': 'auto', 'custom_metric_func': None, 'custom_distribution_func': None, 'export_checkpoints_dir': None, 'in_training_checkpoints_dir': None, 'in_training_checkpoints_tree_interval': 1, 'monotone_constraints': None, 'check_constant_response': True, 'gainslift_bins': -1, 'auc_type': 'auto', 'interaction_constraints': None, 'auto_rebalance': True}\n",
      "\n",
      "\n",
      "Hyperparameters for model GBM_5_AutoML_1_20241206_131525:\n",
      "{'model_id': None, 'training_frame': None, 'validation_frame': None, 'nfolds': 0, 'keep_cross_validation_models': True, 'keep_cross_validation_predictions': False, 'keep_cross_validation_fold_assignment': False, 'score_each_iteration': False, 'score_tree_interval': 0, 'fold_assignment': 'auto', 'fold_column': None, 'response_column': None, 'ignored_columns': None, 'ignore_const_cols': True, 'offset_column': None, 'weights_column': None, 'balance_classes': False, 'class_sampling_factors': None, 'max_after_balance_size': 5.0, 'max_confusion_matrix_size': 20, 'ntrees': 50, 'max_depth': 5, 'min_rows': 10.0, 'nbins': 20, 'nbins_top_level': 1024, 'nbins_cats': 1024, 'r2_stopping': None, 'stopping_rounds': 0, 'stopping_metric': 'auto', 'stopping_tolerance': 0.001, 'max_runtime_secs': 0.0, 'seed': -1, 'build_tree_one_node': False, 'learn_rate': 0.1, 'learn_rate_annealing': 1.0, 'distribution': 'auto', 'quantile_alpha': 0.5, 'tweedie_power': 1.5, 'huber_alpha': 0.9, 'checkpoint': None, 'sample_rate': 1.0, 'sample_rate_per_class': None, 'col_sample_rate': 1.0, 'col_sample_rate_change_per_level': 1.0, 'col_sample_rate_per_tree': 1.0, 'min_split_improvement': 1e-05, 'histogram_type': 'auto', 'max_abs_leafnode_pred': None, 'pred_noise_bandwidth': 0.0, 'categorical_encoding': 'auto', 'calibrate_model': False, 'calibration_frame': None, 'calibration_method': 'auto', 'custom_metric_func': None, 'custom_distribution_func': None, 'export_checkpoints_dir': None, 'in_training_checkpoints_dir': None, 'in_training_checkpoints_tree_interval': 1, 'monotone_constraints': None, 'check_constant_response': True, 'gainslift_bins': -1, 'auc_type': 'auto', 'interaction_constraints': None, 'auto_rebalance': True}\n",
      "\n",
      "\n",
      "Hyperparameters for model GBM_4_AutoML_1_20241206_131525:\n",
      "{'model_id': None, 'training_frame': None, 'validation_frame': None, 'nfolds': 0, 'keep_cross_validation_models': True, 'keep_cross_validation_predictions': False, 'keep_cross_validation_fold_assignment': False, 'score_each_iteration': False, 'score_tree_interval': 0, 'fold_assignment': 'auto', 'fold_column': None, 'response_column': None, 'ignored_columns': None, 'ignore_const_cols': True, 'offset_column': None, 'weights_column': None, 'balance_classes': False, 'class_sampling_factors': None, 'max_after_balance_size': 5.0, 'max_confusion_matrix_size': 20, 'ntrees': 50, 'max_depth': 5, 'min_rows': 10.0, 'nbins': 20, 'nbins_top_level': 1024, 'nbins_cats': 1024, 'r2_stopping': None, 'stopping_rounds': 0, 'stopping_metric': 'auto', 'stopping_tolerance': 0.001, 'max_runtime_secs': 0.0, 'seed': -1, 'build_tree_one_node': False, 'learn_rate': 0.1, 'learn_rate_annealing': 1.0, 'distribution': 'auto', 'quantile_alpha': 0.5, 'tweedie_power': 1.5, 'huber_alpha': 0.9, 'checkpoint': None, 'sample_rate': 1.0, 'sample_rate_per_class': None, 'col_sample_rate': 1.0, 'col_sample_rate_change_per_level': 1.0, 'col_sample_rate_per_tree': 1.0, 'min_split_improvement': 1e-05, 'histogram_type': 'auto', 'max_abs_leafnode_pred': None, 'pred_noise_bandwidth': 0.0, 'categorical_encoding': 'auto', 'calibrate_model': False, 'calibration_frame': None, 'calibration_method': 'auto', 'custom_metric_func': None, 'custom_distribution_func': None, 'export_checkpoints_dir': None, 'in_training_checkpoints_dir': None, 'in_training_checkpoints_tree_interval': 1, 'monotone_constraints': None, 'check_constant_response': True, 'gainslift_bins': -1, 'auc_type': 'auto', 'interaction_constraints': None, 'auto_rebalance': True}\n",
      "\n",
      "\n"
     ]
    }
   ],
   "source": [
    "for model_id in lb['model_id'].as_data_frame()['model_id']:\n",
    "    model = h2o.get_model(model_id)\n",
    "    hyperparameters = model.get_params()\n",
    "    print(f\"Hyperparameters for model {model_id}:\")\n",
    "    print(hyperparameters)\n",
    "    print(\"\\n\")"
   ]
  },
  {
   "cell_type": "code",
   "execution_count": null,
   "metadata": {
    "colab": {
     "base_uri": "https://localhost:8080/"
    },
    "id": "3oE15hVWQ_BP",
    "outputId": "24bb78f1-03a9-4e24-8caf-2d242b074cf7"
   },
   "outputs": [
    {
     "name": "stdout",
     "output_type": "stream",
     "text": [
      "Hyperparameters for model GBM_4_AutoML_1_20241206_131525:\n",
      "{'model_id': None, 'training_frame': None, 'validation_frame': None, 'nfolds': 0, 'keep_cross_validation_models': True, 'keep_cross_validation_predictions': False, 'keep_cross_validation_fold_assignment': False, 'fold_assignment': 'auto', 'fold_column': None, 'response_column': None, 'ignored_columns': None, 'ignore_const_cols': True, 'score_each_iteration': False, 'weights_column': None, 'offset_column': None, 'balance_classes': False, 'class_sampling_factors': None, 'max_after_balance_size': 5.0, 'max_confusion_matrix_size': 20, 'checkpoint': None, 'pretrained_autoencoder': None, 'overwrite_with_best_model': True, 'use_all_factor_levels': True, 'standardize': True, 'activation': 'rectifier', 'hidden': [200, 200], 'epochs': 10.0, 'train_samples_per_iteration': -2, 'target_ratio_comm_to_comp': 0.05, 'seed': -1, 'adaptive_rate': True, 'rho': 0.99, 'epsilon': 1e-08, 'rate': 0.005, 'rate_annealing': 1e-06, 'rate_decay': 1.0, 'momentum_start': 0.0, 'momentum_ramp': 1000000.0, 'momentum_stable': 0.0, 'nesterov_accelerated_gradient': True, 'input_dropout_ratio': 0.0, 'hidden_dropout_ratios': None, 'l1': 0.0, 'l2': 0.0, 'max_w2': 3.4028235e+38, 'initial_weight_distribution': 'uniform_adaptive', 'initial_weight_scale': 1.0, 'initial_weights': None, 'initial_biases': None, 'loss': 'automatic', 'distribution': 'auto', 'quantile_alpha': 0.5, 'tweedie_power': 1.5, 'huber_alpha': 0.9, 'score_interval': 5.0, 'score_training_samples': 10000, 'score_validation_samples': 0, 'score_duty_cycle': 0.1, 'classification_stop': 0.0, 'regression_stop': 1e-06, 'stopping_rounds': 5, 'stopping_metric': 'auto', 'stopping_tolerance': 0.0, 'max_runtime_secs': 0.0, 'score_validation_sampling': 'uniform', 'diagnostics': True, 'fast_mode': True, 'force_load_balance': True, 'variable_importances': True, 'replicate_training_data': True, 'single_node_mode': False, 'shuffle_training_data': False, 'missing_values_handling': 'mean_imputation', 'quiet_mode': False, 'autoencoder': False, 'sparse': False, 'col_major': False, 'average_activation': 0.0, 'sparsity_beta': 0.0, 'max_categorical_features': 2147483647, 'reproducible': False, 'export_weights_and_biases': False, 'mini_batch_size': 1, 'categorical_encoding': 'auto', 'elastic_averaging': False, 'elastic_averaging_moving_rate': 0.9, 'elastic_averaging_regularization': 0.001, 'export_checkpoints_dir': None, 'auc_type': 'auto', 'custom_metric_func': None, 'gainslift_bins': -1}\n",
      "\n",
      "\n"
     ]
    }
   ],
   "source": [
    "model = aml.get_best_model()\n",
    "hyperparameters = model.get_params()\n",
    "print(f\"Hyperparameters for model {model_id}:\")\n",
    "print(hyperparameters)\n",
    "print(\"\\n\")"
   ]
  }
 ],
 "metadata": {
  "colab": {
   "provenance": []
  },
  "kernelspec": {
   "display_name": "Python 3",
   "name": "python3"
  },
  "language_info": {
   "name": "python"
  }
 },
 "nbformat": 4,
 "nbformat_minor": 0
}
